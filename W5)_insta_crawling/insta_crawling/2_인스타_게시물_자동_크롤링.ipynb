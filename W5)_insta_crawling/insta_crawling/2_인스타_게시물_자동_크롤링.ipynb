{
 "cells": [
  {
   "cell_type": "markdown",
   "metadata": {},
   "source": [
    "# 인스타 게시물 자동으로 가져오기 (반복문)"
   ]
  },
  {
   "cell_type": "code",
   "execution_count": 1,
   "metadata": {},
   "outputs": [],
   "source": [
    "# 라이브러리 추가하기\n",
    "from selenium import webdriver\n",
    "from bs4 import BeautifulSoup\n",
    "from random import randint, uniform\n",
    "import time\n",
    "import re"
   ]
  },
  {
   "cell_type": "code",
   "execution_count": 2,
   "metadata": {},
   "outputs": [],
   "source": [
    "# 함수 선언\n",
    "def insta_searching(word):\n",
    "    url = 'https://www.instagram.com/explore/tags/' + word\n",
    "    return url\n",
    "\n",
    "def get_content(html):\n",
    "    soup = BeautifulSoup(html, 'html.parser')\n",
    "    try:\n",
    "        content = soup.select('div.C4VMK > span')[0].text\n",
    "    except:\n",
    "        content = ''\n",
    "        \n",
    "    try:\n",
    "        tags = re.findall(r'#[^\\s#,\\\\]+', content)  \n",
    "    except:\n",
    "        tags = ''\n",
    "        \n",
    "    try:\n",
    "        like = soup.select('section.EDfFK.ygqzn > div > div > button > span')[0].text\n",
    "    except:\n",
    "        like = ''\n",
    "    \n",
    "    try:\n",
    "        date = soup.select('time._1o9PC.Nzb55')[0]['datetime'][:10]\n",
    "    except:\n",
    "        date = ''\n",
    "        \n",
    "    try:\n",
    "        place = soup.select('div.M30cS')[0].text\n",
    "    except:\n",
    "        place = ''\n",
    "        \n",
    "    data = [content, date, like, place, tags]\n",
    "    return data"
   ]
  },
  {
   "cell_type": "code",
   "execution_count": 17,
   "metadata": {},
   "outputs": [],
   "source": [
    "# 실습 해보기\n",
    "# 크롬드라이버 실행\n",
    "# 제주도 맛집 인스타 url 생성 함수 호출\n",
    "# url호출/이동\n",
    "# 대기시간 10초\n",
    "# 첫번째 게시글 클릭하기\n",
    "browser = webdriver.Chrome('./driver/chromedriver')\n",
    "word = '제주도맛집'\n",
    "url = insta_searching(word)\n",
    "browser.get(url)\n",
    "time.sleep(10)\n",
    "first = browser.find_element_by_css_selector('div._9AhH0')\n",
    "first.click()"
   ]
  },
  {
   "cell_type": "code",
   "execution_count": 18,
   "metadata": {},
   "outputs": [],
   "source": [
    "target = 100      # 크롤링할 게시글 수\n",
    "results = []\n",
    "for i in range(target):\n",
    "    html = browser.page_source\n",
    "    data = get_content(html)    # 게시글 정보 가져오기\n",
    "    results.append(data)\n",
    "    next_button = browser.find_element_by_css_selector('a._65Bje.coreSpriteRightPaginationArrow')\n",
    "    next_button.click()\n",
    "    f = uniform(3.0, 10.0)\n",
    "    time.sleep(f)"
   ]
  },
  {
   "cell_type": "code",
   "execution_count": 19,
   "metadata": {},
   "outputs": [
    {
     "data": {
      "text/plain": [
       "[['갈비국수는 제주도 3대국수! 숯불직화통갈비의 불맛이 매콤한국물과 만났다!! 안먹을수 없을껄!! ..#산도롱맨도롱..#제주맛집 #제주도맛집 #서귀포맛집 #월정리맛집#성산맛집 #애월맛집 #제주도민맛집 #제주아침식사 #제주고기국수 #제주고기국수맛집 #함덕해수욕장맛집 #함덕맛집 #세화맛집 #제주성산맛집 #섭지코지맛집',\n",
       "  '2020-03-10',\n",
       "  '296',\n",
       "  '',\n",
       "  ['#산도롱맨도롱..',\n",
       "   '#제주맛집',\n",
       "   '#제주도맛집',\n",
       "   '#서귀포맛집',\n",
       "   '#월정리맛집',\n",
       "   '#성산맛집',\n",
       "   '#애월맛집',\n",
       "   '#제주도민맛집',\n",
       "   '#제주아침식사',\n",
       "   '#제주고기국수',\n",
       "   '#제주고기국수맛집',\n",
       "   '#함덕해수욕장맛집',\n",
       "   '#함덕맛집',\n",
       "   '#세화맛집',\n",
       "   '#제주성산맛집',\n",
       "   '#섭지코지맛집']],\n",
       " ['햇살맛집\\U0001f90d..#굿베이크샵 #전주카페추천 #전주빵맛집 #전주베이커리카페 #전주브런치',\n",
       "  '2020-03-11',\n",
       "  '378',\n",
       "  'Good bake shop',\n",
       "  ['#굿베이크샵', '#전주카페추천', '#전주빵맛집', '#전주베이커리카페', '#전주브런치']]]"
      ]
     },
     "execution_count": 19,
     "metadata": {},
     "output_type": "execute_result"
    }
   ],
   "source": [
    "results[0:2]"
   ]
  },
  {
   "cell_type": "code",
   "execution_count": 20,
   "metadata": {},
   "outputs": [],
   "source": [
    "#크롤링 결과 저장하기\n",
    "import pandas as pd\n",
    "df = pd.DataFrame(results)\n",
    "df.columns = ['content','data','like','place','tags']\n",
    "df.to_excel('./files/jeju_restaurant.xlsx')"
   ]
  },
  {
   "cell_type": "code",
   "execution_count": 21,
   "metadata": {},
   "outputs": [
    {
     "data": {
      "text/html": [
       "<div>\n",
       "<style scoped>\n",
       "    .dataframe tbody tr th:only-of-type {\n",
       "        vertical-align: middle;\n",
       "    }\n",
       "\n",
       "    .dataframe tbody tr th {\n",
       "        vertical-align: top;\n",
       "    }\n",
       "\n",
       "    .dataframe thead th {\n",
       "        text-align: right;\n",
       "    }\n",
       "</style>\n",
       "<table border=\"1\" class=\"dataframe\">\n",
       "  <thead>\n",
       "    <tr style=\"text-align: right;\">\n",
       "      <th></th>\n",
       "      <th>content</th>\n",
       "      <th>data</th>\n",
       "      <th>like</th>\n",
       "      <th>place</th>\n",
       "      <th>tags</th>\n",
       "    </tr>\n",
       "  </thead>\n",
       "  <tbody>\n",
       "    <tr>\n",
       "      <th>0</th>\n",
       "      <td>갈비국수는 제주도 3대국수! 숯불직화통갈비의 불맛이 매콤한국물과 만났다!! 안먹을수...</td>\n",
       "      <td>2020-03-10</td>\n",
       "      <td>296</td>\n",
       "      <td></td>\n",
       "      <td>[#산도롱맨도롱.., #제주맛집, #제주도맛집, #서귀포맛집, #월정리맛집, #성산...</td>\n",
       "    </tr>\n",
       "    <tr>\n",
       "      <th>1</th>\n",
       "      <td>햇살맛집🤍..#굿베이크샵 #전주카페추천 #전주빵맛집 #전주베이커리카페 #전주브런치</td>\n",
       "      <td>2020-03-11</td>\n",
       "      <td>378</td>\n",
       "      <td>Good bake shop</td>\n",
       "      <td>[#굿베이크샵, #전주카페추천, #전주빵맛집, #전주베이커리카페, #전주브런치]</td>\n",
       "    </tr>\n",
       "    <tr>\n",
       "      <th>2</th>\n",
       "      <td>#Repost @fine_jhanaMade by @Image.Downloader· ...</td>\n",
       "      <td>2020-03-12</td>\n",
       "      <td>485</td>\n",
       "      <td>Jeju</td>\n",
       "      <td>[#Repost, #점심메뉴, #애월제주다, #jmtgr, #딱새우, #꼭가보세요,...</td>\n",
       "    </tr>\n",
       "    <tr>\n",
       "      <th>3</th>\n",
       "      <td>미친 비주얼 딱새우회🦐이제야 제주술집인듯 싶다여기에 술은 말할것도 없지😅안주가 맛있...</td>\n",
       "      <td>2020-03-11</td>\n",
       "      <td>219</td>\n",
       "      <td>협재술시</td>\n",
       "      <td>[#협재술시]</td>\n",
       "    </tr>\n",
       "    <tr>\n",
       "      <th>4</th>\n",
       "      <td>-곽지해수욕장×미미슈12시에 오픈해요:)</td>\n",
       "      <td>2020-03-12</td>\n",
       "      <td>200</td>\n",
       "      <td>미미슈</td>\n",
       "      <td>[]</td>\n",
       "    </tr>\n",
       "  </tbody>\n",
       "</table>\n",
       "</div>"
      ],
      "text/plain": [
       "                                             content        data like  \\\n",
       "0  갈비국수는 제주도 3대국수! 숯불직화통갈비의 불맛이 매콤한국물과 만났다!! 안먹을수...  2020-03-10  296   \n",
       "1      햇살맛집🤍..#굿베이크샵 #전주카페추천 #전주빵맛집 #전주베이커리카페 #전주브런치  2020-03-11  378   \n",
       "2  #Repost @fine_jhanaMade by @Image.Downloader· ...  2020-03-12  485   \n",
       "3  미친 비주얼 딱새우회🦐이제야 제주술집인듯 싶다여기에 술은 말할것도 없지😅안주가 맛있...  2020-03-11  219   \n",
       "4                             -곽지해수욕장×미미슈12시에 오픈해요:)  2020-03-12  200   \n",
       "\n",
       "            place                                               tags  \n",
       "0                  [#산도롱맨도롱.., #제주맛집, #제주도맛집, #서귀포맛집, #월정리맛집, #성산...  \n",
       "1  Good bake shop       [#굿베이크샵, #전주카페추천, #전주빵맛집, #전주베이커리카페, #전주브런치]  \n",
       "2            Jeju  [#Repost, #점심메뉴, #애월제주다, #jmtgr, #딱새우, #꼭가보세요,...  \n",
       "3            협재술시                                            [#협재술시]  \n",
       "4             미미슈                                                 []  "
      ]
     },
     "execution_count": 21,
     "metadata": {},
     "output_type": "execute_result"
    }
   ],
   "source": [
    "df.head()"
   ]
  },
  {
   "cell_type": "code",
   "execution_count": 22,
   "metadata": {},
   "outputs": [],
   "source": [
    "browser.close()"
   ]
  },
  {
   "cell_type": "code",
   "execution_count": null,
   "metadata": {},
   "outputs": [],
   "source": []
  },
  {
   "cell_type": "code",
   "execution_count": null,
   "metadata": {},
   "outputs": [],
   "source": []
  },
  {
   "cell_type": "code",
   "execution_count": null,
   "metadata": {},
   "outputs": [],
   "source": []
  },
  {
   "cell_type": "code",
   "execution_count": null,
   "metadata": {},
   "outputs": [],
   "source": []
  }
 ],
 "metadata": {
  "kernelspec": {
   "display_name": "Python 3",
   "language": "python",
   "name": "python3"
  },
  "language_info": {
   "codemirror_mode": {
    "name": "ipython",
    "version": 3
   },
   "file_extension": ".py",
   "mimetype": "text/x-python",
   "name": "python",
   "nbconvert_exporter": "python",
   "pygments_lexer": "ipython3",
   "version": "3.7.3"
  }
 },
 "nbformat": 4,
 "nbformat_minor": 4
}
