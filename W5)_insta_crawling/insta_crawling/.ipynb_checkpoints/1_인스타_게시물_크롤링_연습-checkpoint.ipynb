{
 "cells": [
  {
   "cell_type": "code",
   "execution_count": null,
   "metadata": {},
   "outputs": [],
   "source": [
    "# 라이브러리 설치하기 (selenium)\n",
    "# !pip install selenium\n",
    "# !pip install bs4"
   ]
  },
  {
   "cell_type": "code",
   "execution_count": 1,
   "metadata": {},
   "outputs": [],
   "source": [
    "# 라이브러리 추가하기\n",
    "from selenium import webdriver\n",
    "from bs4 import BeautifulSoup\n",
    "from random import randint, uniform\n",
    "import time\n",
    "import re"
   ]
  },
  {
   "cell_type": "markdown",
   "metadata": {},
   "source": [
    "# 인스타에 접속해 화면 이동하기 연습\n",
    "* 인스타 '제주도맛집' 해시태그 \n",
    "* 게시물 클릭 하고 다음 게시물로 이동하기"
   ]
  },
  {
   "cell_type": "code",
   "execution_count": 3,
   "metadata": {},
   "outputs": [],
   "source": [
    "# 함수 선언\n",
    "def insta_searching(word):\n",
    "    url = 'https://www.instagram.com/explore/tags/' + word\n",
    "    return url"
   ]
  },
  {
   "cell_type": "code",
   "execution_count": 4,
   "metadata": {},
   "outputs": [],
   "source": [
    "# webdriver를 이용해 크롬드라이버 실행, 실행된 데이터는 browser 변수에 할당 합니다.\n",
    "browser = webdriver.Chrome('./driver/chromedriver')"
   ]
  },
  {
   "cell_type": "code",
   "execution_count": 5,
   "metadata": {},
   "outputs": [],
   "source": [
    "# 해시태그 제주도맛집 인스타그램  \n",
    "url = insta_searching('제주도맛집')\n",
    "browser.get(url)"
   ]
  },
  {
   "cell_type": "code",
   "execution_count": 6,
   "metadata": {},
   "outputs": [],
   "source": [
    "# 첫 번째 게시글 찾아서 클릭하기 ('태그명.클래스')\n",
    "\n"
   ]
  },
  {
   "cell_type": "code",
   "execution_count": 7,
   "metadata": {},
   "outputs": [],
   "source": [
    "# 다음 게시물로 이동\n",
    "next_button = browser.find_element_by_css_selector('a._65Bje.coreSpriteRightPaginationArrow')\n",
    "next_button.click()"
   ]
  },
  {
   "cell_type": "markdown",
   "metadata": {},
   "source": [
    "# 과도한 트래픽 발생을 방지하기 위한 방법\n",
    "\n",
    "* 화면 호출 또는 클릭 실행 중간에 대기시간을 지정한다"
   ]
  },
  {
   "cell_type": "code",
   "execution_count": 8,
   "metadata": {},
   "outputs": [
    {
     "name": "stdout",
     "output_type": "stream",
     "text": [
      "첫 번째\n",
      "두 번째\n"
     ]
    }
   ],
   "source": [
    "# time.sleep()을 이용해 실행 대기\n",
    "print('첫 번째')\n",
    "time.sleep(3)\n",
    "print('두 번째')"
   ]
  },
  {
   "cell_type": "code",
   "execution_count": 9,
   "metadata": {},
   "outputs": [],
   "source": [
    "# 5초마다 다음 게시물로 이동하기\n",
    "time.sleep(5)\n",
    "next_button.click()\n",
    "time.sleep(5)\n",
    "next_button.click()\n",
    "time.sleep(5)\n",
    "next_button.click()"
   ]
  },
  {
   "cell_type": "code",
   "execution_count": 10,
   "metadata": {},
   "outputs": [
    {
     "name": "stdout",
     "output_type": "stream",
     "text": [
      "65\n",
      "95.03741647575204\n"
     ]
    }
   ],
   "source": [
    "# 난수 생성하기\n",
    "i = randint(1, 100)\n",
    "f = uniform(1.0, 100.0)\n",
    "print(i)\n",
    "print(f)"
   ]
  },
  {
   "cell_type": "code",
   "execution_count": 12,
   "metadata": {},
   "outputs": [
    {
     "name": "stdout",
     "output_type": "stream",
     "text": [
      "4.86940909293574\n",
      "4.86940909293574\n",
      "4.86940909293574\n"
     ]
    }
   ],
   "source": [
    "n = uniform(3.0, 10.0)\n",
    "time.sleep(n)\n",
    "print(n)\n",
    "next_button.click()\n",
    "\n",
    "n = uniform(3.0, 10.0)\n",
    "time.sleep(n)\n",
    "print(n)\n",
    "next_button.click()\n",
    "\n",
    "n = uniform(3.0, 10.0)\n",
    "time.sleep(n)\n",
    "print(n)\n",
    "next_button.click()"
   ]
  },
  {
   "cell_type": "markdown",
   "metadata": {},
   "source": [
    "# 게시물 정보 가져오기"
   ]
  },
  {
   "cell_type": "code",
   "execution_count": 30,
   "metadata": {},
   "outputs": [],
   "source": [
    "html = browser.page_source\n",
    "soup = BeautifulSoup(html, 'html.parser')"
   ]
  },
  {
   "cell_type": "code",
   "execution_count": 31,
   "metadata": {},
   "outputs": [
    {
     "data": {
      "text/plain": [
       "'#고집돌우럭 #꼭가세요 #제주맛집 #제주도맛집 #고집돌우럭먹방 #함덕맛집 #중문맛집 #제주공항맛집 #제주도여행 #jeju'"
      ]
     },
     "execution_count": 31,
     "metadata": {},
     "output_type": "execute_result"
    }
   ],
   "source": [
    "# 게시글 가져오기\n",
    "content = soup.select('div.C4VMK > span')[0].text\n",
    "content"
   ]
  },
  {
   "cell_type": "code",
   "execution_count": 32,
   "metadata": {},
   "outputs": [
    {
     "data": {
      "text/plain": [
       "['#고집돌우럭',\n",
       " '#꼭가세요',\n",
       " '#제주맛집',\n",
       " '#제주도맛집',\n",
       " '#고집돌우럭먹방',\n",
       " '#함덕맛집',\n",
       " '#중문맛집',\n",
       " '#제주공항맛집',\n",
       " '#제주도여행',\n",
       " '#jeju']"
      ]
     },
     "execution_count": 32,
     "metadata": {},
     "output_type": "execute_result"
    }
   ],
   "source": [
    "# 해시태그 가져오기\n",
    "tags = re.findall(r'#[^\\s#,\\\\]+', content)  \n",
    "tags"
   ]
  },
  {
   "cell_type": "code",
   "execution_count": 33,
   "metadata": {},
   "outputs": [
    {
     "ename": "IndexError",
     "evalue": "list index out of range",
     "output_type": "error",
     "traceback": [
      "\u001b[0;31m---------------------------------------------------------------------------\u001b[0m",
      "\u001b[0;31mIndexError\u001b[0m                                Traceback (most recent call last)",
      "\u001b[0;32m<ipython-input-33-cd5d2a168972>\u001b[0m in \u001b[0;36m<module>\u001b[0;34m\u001b[0m\n\u001b[1;32m      1\u001b[0m \u001b[0;31m# 좋아요 숫자 가져오기 (과제)\u001b[0m\u001b[0;34m\u001b[0m\u001b[0;34m\u001b[0m\u001b[0;34m\u001b[0m\u001b[0m\n\u001b[0;32m----> 2\u001b[0;31m \u001b[0mlike\u001b[0m \u001b[0;34m=\u001b[0m \u001b[0msoup\u001b[0m\u001b[0;34m.\u001b[0m\u001b[0mselect\u001b[0m\u001b[0;34m(\u001b[0m\u001b[0;34m'section.EDfFK.ygqzn > div > div > button > span'\u001b[0m\u001b[0;34m)\u001b[0m\u001b[0;34m[\u001b[0m\u001b[0;36m0\u001b[0m\u001b[0;34m]\u001b[0m\u001b[0;34m.\u001b[0m\u001b[0mtext\u001b[0m\u001b[0;34m\u001b[0m\u001b[0;34m\u001b[0m\u001b[0m\n\u001b[0m\u001b[1;32m      3\u001b[0m \u001b[0mlike\u001b[0m\u001b[0;34m\u001b[0m\u001b[0;34m\u001b[0m\u001b[0m\n",
      "\u001b[0;31mIndexError\u001b[0m: list index out of range"
     ]
    }
   ],
   "source": [
    "# 좋아요 숫자 가져오기 (과제) - 동영상은 좋아요가 없어요 ㅠㅠ\n",
    "like = soup.select('section.EDfFK.ygqzn > div > div > button > span')[0].text\n",
    "like"
   ]
  },
  {
   "cell_type": "code",
   "execution_count": 35,
   "metadata": {},
   "outputs": [
    {
     "data": {
      "text/plain": [
       "'2020-03-12'"
      ]
     },
     "execution_count": 35,
     "metadata": {},
     "output_type": "execute_result"
    }
   ],
   "source": [
    "date = soup.select('time._1o9PC.Nzb55')[0]['datetime'][:10]\n",
    "date"
   ]
  },
  {
   "cell_type": "code",
   "execution_count": 36,
   "metadata": {},
   "outputs": [
    {
     "data": {
      "text/plain": [
       "'고집돌우럭중문점'"
      ]
     },
     "execution_count": 36,
     "metadata": {},
     "output_type": "execute_result"
    }
   ],
   "source": [
    "# 장소 정보 가져오기 (과제)\n",
    "place = soup.select('div.M30cS')[0].text\n",
    "place"
   ]
  },
  {
   "cell_type": "code",
   "execution_count": 37,
   "metadata": {},
   "outputs": [],
   "source": [
    "def get_content(html):\n",
    "    soup = BeautifulSoup(html, 'html.parser')\n",
    "    try:\n",
    "        content = soup.select('div.C4VMK > span')[0].text\n",
    "    except:\n",
    "        content = ''\n",
    "        \n",
    "    try:\n",
    "        tags = re.findall(r'#[^\\s#,\\\\]+', content)  \n",
    "    except:\n",
    "        tags = ''\n",
    "        \n",
    "    try:\n",
    "        like = soup.select('section.EDfFK.ygqzn > div > div > button > span')[0].text\n",
    "    except:\n",
    "        like = ''\n",
    "    \n",
    "    try:\n",
    "        date = soup.select('time._1o9PC.Nzb55')[0]['datetime'][:10]\n",
    "    except:\n",
    "        date = ''\n",
    "        \n",
    "    try:\n",
    "        place = soup.select('div.M30cS')[0].text\n",
    "    except:\n",
    "        place = ''\n",
    "        \n",
    "    data = [content, date, like, place, tags]\n",
    "    return data"
   ]
  },
  {
   "cell_type": "code",
   "execution_count": 38,
   "metadata": {},
   "outputs": [
    {
     "data": {
      "text/plain": [
       "['#고집돌우럭 #꼭가세요 #제주맛집 #제주도맛집 #고집돌우럭먹방 #함덕맛집 #중문맛집 #제주공항맛집 #제주도여행 #jeju',\n",
       " '2020-03-12',\n",
       " '',\n",
       " '고집돌우럭중문점',\n",
       " ['#고집돌우럭',\n",
       "  '#꼭가세요',\n",
       "  '#제주맛집',\n",
       "  '#제주도맛집',\n",
       "  '#고집돌우럭먹방',\n",
       "  '#함덕맛집',\n",
       "  '#중문맛집',\n",
       "  '#제주공항맛집',\n",
       "  '#제주도여행',\n",
       "  '#jeju']]"
      ]
     },
     "execution_count": 38,
     "metadata": {},
     "output_type": "execute_result"
    }
   ],
   "source": [
    "d = get_content(html)\n",
    "d"
   ]
  },
  {
   "cell_type": "code",
   "execution_count": 39,
   "metadata": {},
   "outputs": [],
   "source": [
    "browser.close()"
   ]
  }
 ],
 "metadata": {
  "kernelspec": {
   "display_name": "Python 3",
   "language": "python",
   "name": "python3"
  },
  "language_info": {
   "codemirror_mode": {
    "name": "ipython",
    "version": 3
   },
   "file_extension": ".py",
   "mimetype": "text/x-python",
   "name": "python",
   "nbconvert_exporter": "python",
   "pygments_lexer": "ipython3",
   "version": "3.7.4"
  }
 },
 "nbformat": 4,
 "nbformat_minor": 4
}
