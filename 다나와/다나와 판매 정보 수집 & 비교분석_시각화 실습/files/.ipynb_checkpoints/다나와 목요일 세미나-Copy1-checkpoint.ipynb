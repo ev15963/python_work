{
 "cells": [
  {
   "cell_type": "markdown",
   "metadata": {},
   "source": [
    "# 데이터 수집 1 – 한 페이지 크롤링"
   ]
  },
  {
   "cell_type": "markdown",
   "metadata": {},
   "source": [
    "### 다나와 검색 페이지 접속"
   ]
  },
  {
   "cell_type": "code",
   "execution_count": 3,
   "metadata": {},
   "outputs": [],
   "source": [
    "# 예제 6-1 selenium으로 다나와 검색 결과 URL에 접속\n",
    "from selenium import webdriver\n",
    "# driver = webdriver.Chrome('c:/playwithdata/chromedriver.exe')\n",
    "driver = webdriver.Chrome('./driver/chromedriver')\n",
    "url = \"http://search.danawa.com/dsearch.php?query=무선청소기&tab=main\"\n",
    "driver.get(url)"
   ]
  },
  {
   "cell_type": "markdown",
   "metadata": {},
   "source": [
    "### 다나와 검색 웹 페이지에서 상품 정보 가져오기"
   ]
  },
  {
   "cell_type": "code",
   "execution_count": 4,
   "metadata": {},
   "outputs": [],
   "source": [
    "from bs4 import BeautifulSoup\n",
    "\n",
    "html = driver.page_source\n",
    "soup = BeautifulSoup(html, 'html.parser')"
   ]
  },
  {
   "cell_type": "code",
   "execution_count": 5,
   "metadata": {},
   "outputs": [
    {
     "data": {
      "text/plain": [
       "38"
      ]
     },
     "execution_count": 5,
     "metadata": {},
     "output_type": "execute_result"
    }
   ],
   "source": [
    "prod_items = soup.select('li.prod_item')\n",
    "len(prod_items)"
   ]
  },
  {
   "cell_type": "code",
   "execution_count": 6,
   "metadata": {
    "scrolled": true
   },
   "outputs": [
    {
     "data": {
      "text/plain": [
       "38"
      ]
     },
     "execution_count": 6,
     "metadata": {},
     "output_type": "execute_result"
    }
   ],
   "source": [
    "prod_items = soup.select('ul.product_list > li.prod_item')\n",
    "len(prod_items)"
   ]
  },
  {
   "cell_type": "code",
   "execution_count": 7,
   "metadata": {},
   "outputs": [
    {
     "data": {
      "text/plain": [
       "30"
      ]
     },
     "execution_count": 7,
     "metadata": {},
     "output_type": "execute_result"
    }
   ],
   "source": [
    "prod_items = soup.select('div.main_prodlist > ul.product_list > li.prod_item')\n",
    "len(prod_items)"
   ]
  },
  {
   "cell_type": "code",
   "execution_count": 8,
   "metadata": {},
   "outputs": [
    {
     "name": "stdout",
     "output_type": "stream",
     "text": [
      "델로라 V11 파워 300W\n"
     ]
    }
   ],
   "source": [
    "# 상품명 정보 가져오기\n",
    "title = prod_items[0].select('p.prod_name > a')[0].text.strip()\n",
    "print(title)"
   ]
  },
  {
   "cell_type": "code",
   "execution_count": 10,
   "metadata": {},
   "outputs": [
    {
     "name": "stdout",
     "output_type": "stream",
     "text": [
      "93\n"
     ]
    }
   ],
   "source": [
    "# 포인트 정보 가져오기\n",
    "point = prod_items[0].select('div.point_num > strong')[0].text.strip()\n",
    "print(point)"
   ]
  },
  {
   "cell_type": "code",
   "execution_count": 12,
   "metadata": {},
   "outputs": [
    {
     "name": "stdout",
     "output_type": "stream",
     "text": [
      "46\n"
     ]
    }
   ],
   "source": [
    "# 리뷰수 정보 가져오기\n",
    "review_count = prod_items[0].select('div.cnt_opinion > a > strong')[0].text.strip()\n",
    "print(review_count)"
   ]
  },
  {
   "cell_type": "code",
   "execution_count": 14,
   "metadata": {},
   "outputs": [
    {
     "name": "stdout",
     "output_type": "stream",
     "text": [
      "139000\n"
     ]
    }
   ],
   "source": [
    "# 가격 정보 가져오기\n",
    "price = prod_items[0].select('p.price_sect > a > strong')[0].text.strip().replace(\",\",\"\")\n",
    "print(price)"
   ]
  },
  {
   "cell_type": "code",
   "execution_count": 15,
   "metadata": {},
   "outputs": [
    {
     "name": "stdout",
     "output_type": "stream",
     "text": [
      "30\n",
      "[['델로라 V11 파워 300W', 93, 46, '139000'], ['원더스리빙 다이나킹 Z9', 95, 27, '299000'], ['샤오미 Z11', 79, 24, '155330'], ['샤오미 드리미 V10', 92, 322, '166020'], ['LG전자 코드제로 A9 A978', 97, 296, '956000'], ['샤오미 SHUNZAO 차량용 무선청소기 2세대 Z1 PRO (해외구매)', 90, 194, '48400'], ['일렉트로룩스 ZB3302AK', 97, 0, '131950'], ['다이슨 V11 220 에어와트 CF+', 98, 989, '910140'], ['삼성전자 제트 VS20R9078S2', 95, 205, '850730'], ['LG전자 코드제로 A9 A958', 96, 959, '773490'], ['샤오미 드리미 V9', 94, 0, '144700'], ['다이슨 V10 카본파이버', 96, 0, '664850'], ['다이슨 V10 카본파이버 프로', 95, 54, '682000'], ['LG전자 코드제로 A9 A938', 97, 339, '641210'], ['샤오미 Z11 PRO', 100, 4, '172050'], ['DIBEA D18', 92, 0, '63240'], ['LG전자 코드제로 A9 A951', 95, 545, '844740'], ['다이슨 V8 플러피', 95, 262, '445270'], ['삼성전자 제트 VS15R8577S5', 96, 356, '649700'], ['LG전자 코드제로 A9 A948', 95, 324, '704310'], ['델첸 퍼스널 무선 미니 차량용 핸디청소기 DC-C01', 85, 11, '55170'], ['삼성전자 뉴파워건 130', 92, 181, '298320'], ['LG전자 코드제로 A9 A947', 94, 72, '782610'], ['휴스톰 HS-10000', 96, 0, '144500'], ['삼성전자 제트 VS19R1004BF', 95, 243, '457350'], ['다이슨 V11 플러피', 98, 389, '750500'], ['삼성전자 제트 VS20R9078S3', 97, 252, '889340'], ['휴스톰 HS-9000', 95, 0, '128000'], ['샤오미 SHUNZAO 차량용 무선청소기 2세대 Z1 (해외구매)', 88, 116, '19700'], ['DIBEA DW200', 90, 0, '65680']]\n"
     ]
    }
   ],
   "source": [
    "# 반복문으로 검색 결과의 1페이지에 대한 상품 정보 추출\n",
    "prod_data = []\n",
    "for prod_item in prod_items:\n",
    "    try: \n",
    "        title = prod_item.select('p.prod_name > a')[0].text.strip()\n",
    "    except:\n",
    "        title = ''\n",
    "    try: \n",
    "        point = int(prod_item.select('div.point_num > strong')[0].text.strip())\n",
    "    except:\n",
    "        point = 0\n",
    "    try: \n",
    "        review_count = int(prod_item.select('div.cnt_opinion > a > strong')[0].text.strip())\n",
    "    except:\n",
    "        review_count = 0\n",
    "    try: \n",
    "        price = int(prod_item.select('li.rank_one > p.price_sect > a > strong')[0].text.strip().replace(\",\",\"\"))\n",
    "    except:\n",
    "        price = 0\n",
    "    prod_data.append([title, point, review_count, price])\n",
    "print(len(prod_data))\n",
    "print(prod_data)"
   ]
  },
  {
   "cell_type": "code",
   "execution_count": 18,
   "metadata": {},
   "outputs": [],
   "source": [
    "def get_prod_items(prod_items):\n",
    "    prod_data = []\n",
    "    for prod_item in prod_items:\n",
    "        try: \n",
    "            title = prod_item.select('p.prod_name > a')[0].text.strip()\n",
    "        except:\n",
    "            title = ''\n",
    "        try: \n",
    "            point = int(prod_item.select('div.point_num > strong')[0].text.strip())\n",
    "        except:\n",
    "            point = 0\n",
    "        try: \n",
    "            review_count = int(prod_item.select('div.cnt_opinion > a > strong')[0].text.strip())\n",
    "        except:\n",
    "            review_count = 0\n",
    "        try: \n",
    "            price = int(prod_item.select('li.rank_one > p.price_sect > a > strong')[0].text.strip().replace(\",\",\"\"))\n",
    "        except:\n",
    "            price = 0\n",
    "        prod_data.append([title, point, review_count, price])\n",
    "        \n",
    "    return prod_data;"
   ]
  },
  {
   "cell_type": "code",
   "execution_count": 19,
   "metadata": {},
   "outputs": [
    {
     "name": "stdout",
     "output_type": "stream",
     "text": [
      "30\n"
     ]
    }
   ],
   "source": [
    "# 상품 정보를 가져오는 함수 테스트\n",
    "prod_items = soup.select('div.main_prodlist > ul.product_list > li.prod_item')\n",
    "prod_data = get_prod_items(prod_items)\n",
    "print(len(prod_data))"
   ]
  },
  {
   "cell_type": "code",
   "execution_count": 21,
   "metadata": {},
   "outputs": [
    {
     "name": "stdout",
     "output_type": "stream",
     "text": [
      "http://search.danawa.com/dsearch.php?query=무선청소기&originalQuery=무선청소기&volumeType=allvs&page=2&limit=30&sort=saveDESC&list=list&boost=true&addDelivery=N&tab=goods&tab=goods\n"
     ]
    }
   ],
   "source": [
    "# 예제 다나와 검색 URL을 만들어주는 함수 \n",
    "def get_search_page_url(keyword, page):\n",
    "    return 'http://search.danawa.com/dsearch.php?query={0}&originalQuery={0}&volumeType=allvs&page={1}&limit=30&sort=saveDESC&list=list&boost=true&addDelivery=N&tab=goods&tab=goods'.format(keyword, page)\n",
    "\n",
    "keyword = '무선청소기'\n",
    "page = 2\n",
    "url = get_search_page_url(keyword, page)\n",
    "print(url)\n"
   ]
  },
  {
   "cell_type": "markdown",
   "metadata": {},
   "source": [
    "## 여러 페이지에 걸친 상품 정보 수집"
   ]
  },
  {
   "cell_type": "code",
   "execution_count": 26,
   "metadata": {},
   "outputs": [
    {
     "data": {
      "application/vnd.jupyter.widget-view+json": {
       "model_id": "37a12b3d5e9c408a8ffe68f94f1ef660",
       "version_major": 2,
       "version_minor": 0
      },
      "text/plain": [
       "HBox(children=(IntProgress(value=0, max=10), HTML(value='')))"
      ]
     },
     "metadata": {},
     "output_type": "display_data"
    },
    {
     "name": "stdout",
     "output_type": "stream",
     "text": [
      "\n"
     ]
    }
   ],
   "source": [
    "from selenium import webdriver\n",
    "import time\n",
    "from bs4 import BeautifulSoup\n",
    "from tqdm import tqdm_notebook\n",
    "driver = webdriver.Chrome('./driver/chromedriver')\n",
    "\n",
    "# 암묵적으로 웹 자원 로드를 위해 3초까지 기다림\n",
    "driver.implicitly_wait(3)\n",
    "keyword = '무선청소기'\n",
    "total_page = 10\n",
    "prod_data_total = []\n",
    "# 진행 정도를 표현하는 tqdm을 적용 \n",
    "for page in tqdm_notebook(range(1, total_page + 1)):\n",
    "    # ① 검색 페이지 이동\n",
    "    url = get_search_page_url(keyword, page)\n",
    "    driver.get(url)\n",
    "    # 페이지가 로딩 완료되기 위한 시간으로 5초를 할당\n",
    "    time.sleep(5)\n",
    "    \n",
    "    # ② 현재 페이지의 HTML 정보 가져오기\n",
    "    html = driver.page_source\n",
    "    soup = BeautifulSoup(html, 'html.parser')\n",
    "    \n",
    "    # ③ 상품 정보 추출\n",
    "    prod_items = soup.select('div.main_prodlist > ul.product_list > li.prod_item')\n",
    "    prod_item_list = get_prod_items(prod_items)\n",
    "    # ④ 추출 데이터 저장\n",
    "    prod_data_total = prod_data_total + prod_item_list\n"
   ]
  },
  {
   "cell_type": "markdown",
   "metadata": {},
   "source": [
    "## 수집 데이터 저장 "
   ]
  },
  {
   "cell_type": "code",
   "execution_count": 45,
   "metadata": {},
   "outputs": [],
   "source": [
    "# 예제 6-16 데이터 저장\n",
    "import pandas as pd\n",
    "data = pd.DataFrame(prod_data_total)\n",
    "data.columns = ['상품명', '포인트', '리뷰수', '가격']\n",
    "data.to_excel('./files/danawa_crawling_result.xlsx', index = False)"
   ]
  },
  {
   "cell_type": "markdown",
   "metadata": {},
   "source": [
    "## 다나와 크롤링 데이터 불러오기 "
   ]
  },
  {
   "cell_type": "code",
   "execution_count": 28,
   "metadata": {},
   "outputs": [
    {
     "name": "stdout",
     "output_type": "stream",
     "text": [
      "<class 'pandas.core.frame.DataFrame'>\n",
      "RangeIndex: 300 entries, 0 to 299\n",
      "Data columns (total 4 columns):\n",
      "상품명    300 non-null object\n",
      "포인트    300 non-null int64\n",
      "리뷰수    300 non-null int64\n",
      "가격     300 non-null int64\n",
      "dtypes: int64(3), object(1)\n",
      "memory usage: 9.5+ KB\n"
     ]
    },
    {
     "data": {
      "text/html": [
       "<div>\n",
       "<style scoped>\n",
       "    .dataframe tbody tr th:only-of-type {\n",
       "        vertical-align: middle;\n",
       "    }\n",
       "\n",
       "    .dataframe tbody tr th {\n",
       "        vertical-align: top;\n",
       "    }\n",
       "\n",
       "    .dataframe thead th {\n",
       "        text-align: right;\n",
       "    }\n",
       "</style>\n",
       "<table border=\"1\" class=\"dataframe\">\n",
       "  <thead>\n",
       "    <tr style=\"text-align: right;\">\n",
       "      <th></th>\n",
       "      <th>상품명</th>\n",
       "      <th>포인트</th>\n",
       "      <th>리뷰수</th>\n",
       "      <th>가격</th>\n",
       "    </tr>\n",
       "  </thead>\n",
       "  <tbody>\n",
       "    <tr>\n",
       "      <th>0</th>\n",
       "      <td>델로라 V11 파워 300W</td>\n",
       "      <td>93</td>\n",
       "      <td>46</td>\n",
       "      <td>139000</td>\n",
       "    </tr>\n",
       "    <tr>\n",
       "      <th>1</th>\n",
       "      <td>원더스리빙 다이나킹 Z9</td>\n",
       "      <td>95</td>\n",
       "      <td>27</td>\n",
       "      <td>299000</td>\n",
       "    </tr>\n",
       "    <tr>\n",
       "      <th>2</th>\n",
       "      <td>샤오미 Z11</td>\n",
       "      <td>79</td>\n",
       "      <td>24</td>\n",
       "      <td>155330</td>\n",
       "    </tr>\n",
       "    <tr>\n",
       "      <th>3</th>\n",
       "      <td>샤오미 드리미 V10</td>\n",
       "      <td>92</td>\n",
       "      <td>322</td>\n",
       "      <td>166020</td>\n",
       "    </tr>\n",
       "    <tr>\n",
       "      <th>4</th>\n",
       "      <td>LG전자 코드제로 A9 A978</td>\n",
       "      <td>97</td>\n",
       "      <td>296</td>\n",
       "      <td>956000</td>\n",
       "    </tr>\n",
       "  </tbody>\n",
       "</table>\n",
       "</div>"
      ],
      "text/plain": [
       "                 상품명  포인트  리뷰수      가격\n",
       "0    델로라 V11 파워 300W   93   46  139000\n",
       "1      원더스리빙 다이나킹 Z9   95   27  299000\n",
       "2            샤오미 Z11   79   24  155330\n",
       "3        샤오미 드리미 V10   92  322  166020\n",
       "4  LG전자 코드제로 A9 A978   97  296  956000"
      ]
     },
     "execution_count": 28,
     "metadata": {},
     "output_type": "execute_result"
    }
   ],
   "source": [
    "# 예제 6-17 다나와 크롤링 결과 가져오기 \n",
    "import pandas as pd\n",
    "\n",
    "data = pd.read_excel('./files/danawa_crawling_result.xlsx')\n",
    "data.info()\n",
    "http://search.danawa.com/dsearch.php?query=%EB%AC%B4%EC%84%A0%EC%B2%AD%EC%86%8C%EA%B8%B0&originalQuery=%EB%AC%B4%EC%84%A0%EC%B2%AD%EC%86%8C%EA%B8%B0&previousKeyword=%EB%AC%B4%EC%84%A0%EC%B2%AD%EC%86%8C%EA%B8%B0&volumeType=allvs&page=1&limit=30&sort=saveDESC&list=list&boost=true&addDelivery=N&tab=goods&tab=goods"
   ]
  },
  {
   "cell_type": "markdown",
   "metadata": {},
   "source": [
    "### 6.3.2 회사명, 모델명 정리 "
   ]
  },
  {
   "cell_type": "code",
   "execution_count": 29,
   "metadata": {},
   "outputs": [],
   "source": [
    "# 예제 6-18 회사명 + 모델명 분리\n",
    "company_list = []\n",
    "product_list = []\n",
    "for title in data['상품명']:\n",
    "    title_info = title.split(' ', 1)\n",
    "    company_name = title_info[0]\n",
    "    product_name = title_info[1]\n",
    "    company_list.append(company_name)\n",
    "    product_list.append(product_name)"
   ]
  },
  {
   "cell_type": "code",
   "execution_count": 35,
   "metadata": {},
   "outputs": [
    {
     "name": "stdout",
     "output_type": "stream",
     "text": [
      "['델로라', '원더스리빙', '샤오미', '샤오미', 'LG전자'] 300\n"
     ]
    }
   ],
   "source": [
    "print(company_list[:5], len(company_list))"
   ]
  },
  {
   "cell_type": "code",
   "execution_count": 34,
   "metadata": {},
   "outputs": [
    {
     "name": "stdout",
     "output_type": "stream",
     "text": [
      "['V11 파워 300W', '다이나킹 Z9', 'Z11', '드리미 V10', '코드제로 A9 A978'] 300\n"
     ]
    }
   ],
   "source": [
    "print(product_list[:5], len(product_list))"
   ]
  },
  {
   "cell_type": "code",
   "execution_count": 36,
   "metadata": {},
   "outputs": [
    {
     "name": "stdout",
     "output_type": "stream",
     "text": [
      "0    93\n",
      "1    95\n",
      "2    79\n",
      "3    92\n",
      "4    97\n",
      "Name: 포인트, dtype: int64 300\n"
     ]
    }
   ],
   "source": [
    "print(data['포인트'][:5], len(data['포인트']))"
   ]
  },
  {
   "cell_type": "code",
   "execution_count": 38,
   "metadata": {},
   "outputs": [
    {
     "name": "stdout",
     "output_type": "stream",
     "text": [
      "0     46\n",
      "1     27\n",
      "2     24\n",
      "3    322\n",
      "4    296\n",
      "Name: 리뷰수, dtype: int64 300\n"
     ]
    }
   ],
   "source": [
    "print(data['리뷰수'][:5], len(data['리뷰수']))"
   ]
  },
  {
   "cell_type": "code",
   "execution_count": 39,
   "metadata": {},
   "outputs": [
    {
     "name": "stdout",
     "output_type": "stream",
     "text": [
      "0    139000\n",
      "1    299000\n",
      "2    155330\n",
      "3    166020\n",
      "4    956000\n",
      "Name: 가격, dtype: int64 300\n"
     ]
    }
   ],
   "source": [
    "print(data['가격'][:5], len(data['가격']))"
   ]
  },
  {
   "cell_type": "code",
   "execution_count": 42,
   "metadata": {},
   "outputs": [],
   "source": [
    "pd_data = pd.DataFrame()\n",
    "pd_data['회사명'] = company_list\n",
    "pd_data['제품'] = product_list\n",
    "pd_data['가격'] = data['가격']\n",
    "pd_data['포인트'] = data['포인트']\n",
    "pd_data['리뷰수'] = data['리뷰수']"
   ]
  },
  {
   "cell_type": "code",
   "execution_count": 43,
   "metadata": {},
   "outputs": [
    {
     "data": {
      "text/html": [
       "<div>\n",
       "<style scoped>\n",
       "    .dataframe tbody tr th:only-of-type {\n",
       "        vertical-align: middle;\n",
       "    }\n",
       "\n",
       "    .dataframe tbody tr th {\n",
       "        vertical-align: top;\n",
       "    }\n",
       "\n",
       "    .dataframe thead th {\n",
       "        text-align: right;\n",
       "    }\n",
       "</style>\n",
       "<table border=\"1\" class=\"dataframe\">\n",
       "  <thead>\n",
       "    <tr style=\"text-align: right;\">\n",
       "      <th></th>\n",
       "      <th>회사명</th>\n",
       "      <th>제품</th>\n",
       "      <th>가격</th>\n",
       "      <th>포인트</th>\n",
       "      <th>리뷰수</th>\n",
       "    </tr>\n",
       "  </thead>\n",
       "  <tbody>\n",
       "    <tr>\n",
       "      <th>0</th>\n",
       "      <td>델로라</td>\n",
       "      <td>V11 파워 300W</td>\n",
       "      <td>139000</td>\n",
       "      <td>93</td>\n",
       "      <td>46</td>\n",
       "    </tr>\n",
       "    <tr>\n",
       "      <th>1</th>\n",
       "      <td>원더스리빙</td>\n",
       "      <td>다이나킹 Z9</td>\n",
       "      <td>299000</td>\n",
       "      <td>95</td>\n",
       "      <td>27</td>\n",
       "    </tr>\n",
       "    <tr>\n",
       "      <th>2</th>\n",
       "      <td>샤오미</td>\n",
       "      <td>Z11</td>\n",
       "      <td>155330</td>\n",
       "      <td>79</td>\n",
       "      <td>24</td>\n",
       "    </tr>\n",
       "    <tr>\n",
       "      <th>3</th>\n",
       "      <td>샤오미</td>\n",
       "      <td>드리미 V10</td>\n",
       "      <td>166020</td>\n",
       "      <td>92</td>\n",
       "      <td>322</td>\n",
       "    </tr>\n",
       "    <tr>\n",
       "      <th>4</th>\n",
       "      <td>LG전자</td>\n",
       "      <td>코드제로 A9 A978</td>\n",
       "      <td>956000</td>\n",
       "      <td>97</td>\n",
       "      <td>296</td>\n",
       "    </tr>\n",
       "  </tbody>\n",
       "</table>\n",
       "</div>"
      ],
      "text/plain": [
       "     회사명            제품      가격  포인트  리뷰수\n",
       "0    델로라   V11 파워 300W  139000   93   46\n",
       "1  원더스리빙       다이나킹 Z9  299000   95   27\n",
       "2    샤오미           Z11  155330   79   24\n",
       "3    샤오미       드리미 V10  166020   92  322\n",
       "4   LG전자  코드제로 A9 A978  956000   97  296"
      ]
     },
     "execution_count": 43,
     "metadata": {},
     "output_type": "execute_result"
    }
   ],
   "source": [
    "pd_data.head()"
   ]
  },
  {
   "cell_type": "code",
   "execution_count": 46,
   "metadata": {},
   "outputs": [],
   "source": [
    "pd_data.to_excel('./files/danawa_data_final.xlsx', index = False)"
   ]
  },
  {
   "cell_type": "code",
   "execution_count": 1,
   "metadata": {},
   "outputs": [
    {
     "data": {
      "text/html": [
       "<div>\n",
       "<style scoped>\n",
       "    .dataframe tbody tr th:only-of-type {\n",
       "        vertical-align: middle;\n",
       "    }\n",
       "\n",
       "    .dataframe tbody tr th {\n",
       "        vertical-align: top;\n",
       "    }\n",
       "\n",
       "    .dataframe thead th {\n",
       "        text-align: right;\n",
       "    }\n",
       "</style>\n",
       "<table border=\"1\" class=\"dataframe\">\n",
       "  <thead>\n",
       "    <tr style=\"text-align: right;\">\n",
       "      <th></th>\n",
       "      <th>회사명</th>\n",
       "      <th>제품</th>\n",
       "      <th>가격</th>\n",
       "      <th>포인트</th>\n",
       "      <th>리뷰수</th>\n",
       "    </tr>\n",
       "  </thead>\n",
       "  <tbody>\n",
       "    <tr>\n",
       "      <th>0</th>\n",
       "      <td>델로라</td>\n",
       "      <td>V11 파워 300W</td>\n",
       "      <td>139000</td>\n",
       "      <td>93</td>\n",
       "      <td>46</td>\n",
       "    </tr>\n",
       "    <tr>\n",
       "      <th>1</th>\n",
       "      <td>원더스리빙</td>\n",
       "      <td>다이나킹 Z9</td>\n",
       "      <td>299000</td>\n",
       "      <td>95</td>\n",
       "      <td>27</td>\n",
       "    </tr>\n",
       "    <tr>\n",
       "      <th>2</th>\n",
       "      <td>샤오미</td>\n",
       "      <td>Z11</td>\n",
       "      <td>155330</td>\n",
       "      <td>79</td>\n",
       "      <td>24</td>\n",
       "    </tr>\n",
       "    <tr>\n",
       "      <th>3</th>\n",
       "      <td>샤오미</td>\n",
       "      <td>드리미 V10</td>\n",
       "      <td>166020</td>\n",
       "      <td>92</td>\n",
       "      <td>322</td>\n",
       "    </tr>\n",
       "    <tr>\n",
       "      <th>4</th>\n",
       "      <td>LG전자</td>\n",
       "      <td>코드제로 A9 A978</td>\n",
       "      <td>956000</td>\n",
       "      <td>97</td>\n",
       "      <td>296</td>\n",
       "    </tr>\n",
       "  </tbody>\n",
       "</table>\n",
       "</div>"
      ],
      "text/plain": [
       "     회사명            제품      가격  포인트  리뷰수\n",
       "0    델로라   V11 파워 300W  139000   93   46\n",
       "1  원더스리빙       다이나킹 Z9  299000   95   27\n",
       "2    샤오미           Z11  155330   79   24\n",
       "3    샤오미       드리미 V10  166020   92  322\n",
       "4   LG전자  코드제로 A9 A978  956000   97  296"
      ]
     },
     "execution_count": 1,
     "metadata": {},
     "output_type": "execute_result"
    }
   ],
   "source": [
    "import pandas as pd\n",
    "danawa_data = pd.read_excel('./files/danawa_data_final.xlsx')\n",
    "danawa_data.head()"
   ]
  },
  {
   "cell_type": "code",
   "execution_count": 2,
   "metadata": {
    "scrolled": true
   },
   "outputs": [
    {
     "data": {
      "text/html": [
       "<div>\n",
       "<style scoped>\n",
       "    .dataframe tbody tr th:only-of-type {\n",
       "        vertical-align: middle;\n",
       "    }\n",
       "\n",
       "    .dataframe tbody tr th {\n",
       "        vertical-align: top;\n",
       "    }\n",
       "\n",
       "    .dataframe thead th {\n",
       "        text-align: right;\n",
       "    }\n",
       "</style>\n",
       "<table border=\"1\" class=\"dataframe\">\n",
       "  <thead>\n",
       "    <tr style=\"text-align: right;\">\n",
       "      <th></th>\n",
       "      <th>회사명</th>\n",
       "      <th>제품</th>\n",
       "      <th>가격</th>\n",
       "      <th>포인트</th>\n",
       "      <th>리뷰수</th>\n",
       "    </tr>\n",
       "  </thead>\n",
       "  <tbody>\n",
       "    <tr>\n",
       "      <th>234</th>\n",
       "      <td>LG전자</td>\n",
       "      <td>코드제로 A9 A9579S+R9 R958DA</td>\n",
       "      <td>2219300</td>\n",
       "      <td>0</td>\n",
       "      <td>0</td>\n",
       "    </tr>\n",
       "    <tr>\n",
       "      <th>124</th>\n",
       "      <td>삼성전자</td>\n",
       "      <td>제트 VS20T9278S7</td>\n",
       "      <td>1620000</td>\n",
       "      <td>0</td>\n",
       "      <td>0</td>\n",
       "    </tr>\n",
       "    <tr>\n",
       "      <th>83</th>\n",
       "      <td>LG전자</td>\n",
       "      <td>코드제로 A9 A960</td>\n",
       "      <td>1264990</td>\n",
       "      <td>91</td>\n",
       "      <td>77</td>\n",
       "    </tr>\n",
       "    <tr>\n",
       "      <th>80</th>\n",
       "      <td>LG전자</td>\n",
       "      <td>코드제로 A9 A940</td>\n",
       "      <td>990900</td>\n",
       "      <td>94</td>\n",
       "      <td>388</td>\n",
       "    </tr>\n",
       "    <tr>\n",
       "      <th>4</th>\n",
       "      <td>LG전자</td>\n",
       "      <td>코드제로 A9 A978</td>\n",
       "      <td>956000</td>\n",
       "      <td>97</td>\n",
       "      <td>296</td>\n",
       "    </tr>\n",
       "    <tr>\n",
       "      <th>89</th>\n",
       "      <td>LG전자</td>\n",
       "      <td>코드제로 A9 A930</td>\n",
       "      <td>954790</td>\n",
       "      <td>93</td>\n",
       "      <td>77</td>\n",
       "    </tr>\n",
       "    <tr>\n",
       "      <th>188</th>\n",
       "      <td>LG전자</td>\n",
       "      <td>코드제로 A9 A968</td>\n",
       "      <td>937400</td>\n",
       "      <td>94</td>\n",
       "      <td>53</td>\n",
       "    </tr>\n",
       "    <tr>\n",
       "      <th>128</th>\n",
       "      <td>삼성전자</td>\n",
       "      <td>제트 VS20R9077Q3</td>\n",
       "      <td>913180</td>\n",
       "      <td>100</td>\n",
       "      <td>1</td>\n",
       "    </tr>\n",
       "    <tr>\n",
       "      <th>7</th>\n",
       "      <td>다이슨</td>\n",
       "      <td>V11 220 에어와트 CF+</td>\n",
       "      <td>911140</td>\n",
       "      <td>98</td>\n",
       "      <td>989</td>\n",
       "    </tr>\n",
       "    <tr>\n",
       "      <th>190</th>\n",
       "      <td>LG전자</td>\n",
       "      <td>코드제로 A9 A906SM</td>\n",
       "      <td>910790</td>\n",
       "      <td>0</td>\n",
       "      <td>0</td>\n",
       "    </tr>\n",
       "  </tbody>\n",
       "</table>\n",
       "</div>"
      ],
      "text/plain": [
       "      회사명                        제품       가격  포인트  리뷰수\n",
       "234  LG전자  코드제로 A9 A9579S+R9 R958DA  2219300    0    0\n",
       "124  삼성전자            제트 VS20T9278S7  1620000    0    0\n",
       "83   LG전자              코드제로 A9 A960  1264990   91   77\n",
       "80   LG전자              코드제로 A9 A940   990900   94  388\n",
       "4    LG전자              코드제로 A9 A978   956000   97  296\n",
       "89   LG전자              코드제로 A9 A930   954790   93   77\n",
       "188  LG전자              코드제로 A9 A968   937400   94   53\n",
       "128  삼성전자            제트 VS20R9077Q3   913180  100    1\n",
       "7     다이슨          V11 220 에어와트 CF+   911140   98  989\n",
       "190  LG전자            코드제로 A9 A906SM   910790    0    0"
      ]
     },
     "execution_count": 2,
     "metadata": {},
     "output_type": "execute_result"
    }
   ],
   "source": [
    "top_list = danawa_data.sort_values([\"가격\"], ascending = False)\n",
    "top_list.head(10)"
   ]
  },
  {
   "cell_type": "code",
   "execution_count": 24,
   "metadata": {},
   "outputs": [
    {
     "data": {
      "text/html": [
       "<div>\n",
       "<style scoped>\n",
       "    .dataframe tbody tr th:only-of-type {\n",
       "        vertical-align: middle;\n",
       "    }\n",
       "\n",
       "    .dataframe tbody tr th {\n",
       "        vertical-align: top;\n",
       "    }\n",
       "\n",
       "    .dataframe thead th {\n",
       "        text-align: right;\n",
       "    }\n",
       "</style>\n",
       "<table border=\"1\" class=\"dataframe\">\n",
       "  <thead>\n",
       "    <tr style=\"text-align: right;\">\n",
       "      <th></th>\n",
       "      <th>회사명</th>\n",
       "      <th>제품</th>\n",
       "      <th>가격</th>\n",
       "      <th>포인트</th>\n",
       "      <th>리뷰수</th>\n",
       "    </tr>\n",
       "  </thead>\n",
       "  <tbody>\n",
       "    <tr>\n",
       "      <th>237</th>\n",
       "      <td>이나프</td>\n",
       "      <td>ILVH-2000</td>\n",
       "      <td>33190</td>\n",
       "      <td>95</td>\n",
       "      <td>993</td>\n",
       "    </tr>\n",
       "    <tr>\n",
       "      <th>130</th>\n",
       "      <td>테팔</td>\n",
       "      <td>에어포스 라이트 TY6543KL</td>\n",
       "      <td>103530</td>\n",
       "      <td>97</td>\n",
       "      <td>990</td>\n",
       "    </tr>\n",
       "    <tr>\n",
       "      <th>7</th>\n",
       "      <td>다이슨</td>\n",
       "      <td>V11 220 에어와트 CF+</td>\n",
       "      <td>911140</td>\n",
       "      <td>98</td>\n",
       "      <td>989</td>\n",
       "    </tr>\n",
       "    <tr>\n",
       "      <th>134</th>\n",
       "      <td>보만</td>\n",
       "      <td>VC7210</td>\n",
       "      <td>36700</td>\n",
       "      <td>92</td>\n",
       "      <td>978</td>\n",
       "    </tr>\n",
       "    <tr>\n",
       "      <th>9</th>\n",
       "      <td>LG전자</td>\n",
       "      <td>코드제로 A9 A958</td>\n",
       "      <td>772500</td>\n",
       "      <td>96</td>\n",
       "      <td>959</td>\n",
       "    </tr>\n",
       "    <tr>\n",
       "      <th>43</th>\n",
       "      <td>다이슨</td>\n",
       "      <td>V8 앱솔루트</td>\n",
       "      <td>440010</td>\n",
       "      <td>94</td>\n",
       "      <td>921</td>\n",
       "    </tr>\n",
       "    <tr>\n",
       "      <th>55</th>\n",
       "      <td>경성오토비스</td>\n",
       "      <td>KAC-7100</td>\n",
       "      <td>123830</td>\n",
       "      <td>94</td>\n",
       "      <td>798</td>\n",
       "    </tr>\n",
       "    <tr>\n",
       "      <th>159</th>\n",
       "      <td>퀸메이드</td>\n",
       "      <td>QM-V200W</td>\n",
       "      <td>118950</td>\n",
       "      <td>97</td>\n",
       "      <td>795</td>\n",
       "    </tr>\n",
       "    <tr>\n",
       "      <th>142</th>\n",
       "      <td>한경희생활과학</td>\n",
       "      <td>아쿠아젯 AM-5600WT</td>\n",
       "      <td>119400</td>\n",
       "      <td>94</td>\n",
       "      <td>778</td>\n",
       "    </tr>\n",
       "    <tr>\n",
       "      <th>34</th>\n",
       "      <td>샤오미</td>\n",
       "      <td>SWDK-D260</td>\n",
       "      <td>74290</td>\n",
       "      <td>94</td>\n",
       "      <td>771</td>\n",
       "    </tr>\n",
       "  </tbody>\n",
       "</table>\n",
       "</div>"
      ],
      "text/plain": [
       "         회사명                 제품      가격  포인트  리뷰수\n",
       "237      이나프          ILVH-2000   33190   95  993\n",
       "130       테팔  에어포스 라이트 TY6543KL  103530   97  990\n",
       "7        다이슨   V11 220 에어와트 CF+  911140   98  989\n",
       "134       보만             VC7210   36700   92  978\n",
       "9       LG전자       코드제로 A9 A958  772500   96  959\n",
       "43       다이슨            V8 앱솔루트  440010   94  921\n",
       "55    경성오토비스           KAC-7100  123830   94  798\n",
       "159     퀸메이드           QM-V200W  118950   97  795\n",
       "142  한경희생활과학     아쿠아젯 AM-5600WT  119400   94  778\n",
       "34       샤오미          SWDK-D260   74290   94  771"
      ]
     },
     "execution_count": 24,
     "metadata": {},
     "output_type": "execute_result"
    }
   ],
   "source": [
    "top_list = danawa_data.sort_values([\"리뷰수\", \"포인트\"], ascending = False)\n",
    "top_list.head(10)"
   ]
  },
  {
   "cell_type": "code",
   "execution_count": 21,
   "metadata": {},
   "outputs": [
    {
     "name": "stdout",
     "output_type": "stream",
     "text": [
      "가격 평균 :  294994.95\n",
      "포인트 평균 :  84.72\n",
      "리뷰수 평균 :  155.91666666666666\n",
      "가격 최고 :  2219300\n",
      "포인트 최고 :  100\n",
      "리뷰수 최고 :  993\n",
      "가격 최소 :  0\n",
      "포인트 최소 :  0\n",
      "리뷰수 최소 :  0\n"
     ]
    }
   ],
   "source": [
    "price_mean_value = danawa_data['가격'].mean()\n",
    "point_mean_value = danawa_data['포인트'].mean()\n",
    "review_count_mean_value = danawa_data['리뷰수'].mean()\n",
    "\n",
    "print(\"가격 평균 : \", danawa_data['가격'].mean()) \n",
    "print(\"포인트 평균 : \", danawa_data['포인트'].mean())\n",
    "print(\"리뷰수 평균 : \", danawa_data['리뷰수'].mean())\n",
    "\n",
    "print(\"가격 최고 : \", danawa_data['가격'].max())\n",
    "print(\"포인트 최고 : \", danawa_data['포인트'].max())\n",
    "print(\"리뷰수 최고 : \", danawa_data['리뷰수'].max())\n",
    "\n",
    "print(\"가격 최소 : \", danawa_data['가격'].min())\n",
    "print(\"포인트 최소 : \", danawa_data['포인트'].min())\n",
    "print(\"리뷰수 최소 : \", danawa_data['리뷰수'].min())"
   ]
  },
  {
   "cell_type": "code",
   "execution_count": 4,
   "metadata": {},
   "outputs": [],
   "source": [
    "from matplotlib import font_manager, rc\n",
    "import matplotlib.pyplot as plt\n",
    "import seaborn as sns\n",
    "import platform \n",
    "\n",
    "# 그래프에서 한글 표기를 위한 글자체 변경(윈도우, 맥os 각각의 경우에 대해서 처리)\n",
    "font_path = ''\n",
    "if platform.system() == 'Windows': \n",
    "    font_path = 'c:/Windows/Fonts/malgun.ttf'\n",
    "    font_name = font_manager.FontProperties(fname=font_path).get_name()\n",
    "    rc('font', family=font_name)\n",
    "elif platform.system() == 'Darwin':\n",
    "    font_path = '/Users/$USER/Library/Fonts/AppleGothic.ttf'\n",
    "    rc('font', family='AppleGothic')\n",
    "else: \n",
    "    print('Check your OS system')\n",
    "    \n",
    "%matplotlib inline"
   ]
  },
  {
   "cell_type": "code",
   "execution_count": 13,
   "metadata": {},
   "outputs": [
    {
     "name": "stdout",
     "output_type": "stream",
     "text": [
      "45\n"
     ]
    },
    {
     "data": {
      "text/html": [
       "<div>\n",
       "<style scoped>\n",
       "    .dataframe tbody tr th:only-of-type {\n",
       "        vertical-align: middle;\n",
       "    }\n",
       "\n",
       "    .dataframe tbody tr th {\n",
       "        vertical-align: top;\n",
       "    }\n",
       "\n",
       "    .dataframe thead th {\n",
       "        text-align: right;\n",
       "    }\n",
       "</style>\n",
       "<table border=\"1\" class=\"dataframe\">\n",
       "  <thead>\n",
       "    <tr style=\"text-align: right;\">\n",
       "      <th></th>\n",
       "      <th>회사명</th>\n",
       "      <th>제품</th>\n",
       "      <th>가격</th>\n",
       "      <th>포인트</th>\n",
       "      <th>리뷰수</th>\n",
       "    </tr>\n",
       "  </thead>\n",
       "  <tbody>\n",
       "    <tr>\n",
       "      <th>4</th>\n",
       "      <td>LG전자</td>\n",
       "      <td>코드제로 A9 A978</td>\n",
       "      <td>956000</td>\n",
       "      <td>97</td>\n",
       "      <td>296</td>\n",
       "    </tr>\n",
       "    <tr>\n",
       "      <th>9</th>\n",
       "      <td>LG전자</td>\n",
       "      <td>코드제로 A9 A958</td>\n",
       "      <td>772500</td>\n",
       "      <td>96</td>\n",
       "      <td>959</td>\n",
       "    </tr>\n",
       "    <tr>\n",
       "      <th>13</th>\n",
       "      <td>LG전자</td>\n",
       "      <td>코드제로 A9 A938</td>\n",
       "      <td>641210</td>\n",
       "      <td>97</td>\n",
       "      <td>339</td>\n",
       "    </tr>\n",
       "    <tr>\n",
       "      <th>15</th>\n",
       "      <td>DIBEA</td>\n",
       "      <td>D18</td>\n",
       "      <td>63240</td>\n",
       "      <td>92</td>\n",
       "      <td>0</td>\n",
       "    </tr>\n",
       "    <tr>\n",
       "      <th>16</th>\n",
       "      <td>LG전자</td>\n",
       "      <td>코드제로 A9 A951</td>\n",
       "      <td>843740</td>\n",
       "      <td>95</td>\n",
       "      <td>545</td>\n",
       "    </tr>\n",
       "  </tbody>\n",
       "</table>\n",
       "</div>"
      ],
      "text/plain": [
       "      회사명            제품      가격  포인트  리뷰수\n",
       "4    LG전자  코드제로 A9 A978  956000   97  296\n",
       "9    LG전자  코드제로 A9 A958  772500   96  959\n",
       "13   LG전자  코드제로 A9 A938  641210   97  339\n",
       "15  DIBEA           D18   63240   92    0\n",
       "16   LG전자  코드제로 A9 A951  843740   95  545"
      ]
     },
     "execution_count": 13,
     "metadata": {},
     "output_type": "execute_result"
    }
   ],
   "source": [
    "# ['LG전자','삼성전자','샤오미','다이슨','DIBEA']\n",
    "chart1 = danawa_data[danawa_data['회사명'].isin(['LG전자','DIBEA'])]\n",
    "print(len(chart1))\n",
    "chart1.head()"
   ]
  },
  {
   "cell_type": "code",
   "execution_count": 14,
   "metadata": {
    "scrolled": false
   },
   "outputs": [
    {
     "data": {
      "image/png": "[encoded data removed]",
      "text/plain": [
       "<Figure size 608.875x540 with 12 Axes>"
      ]
     },
     "metadata": {
      "needs_background": "light"
     },
     "output_type": "display_data"
    }
   ],
   "source": [
    "sns.pairplot(data=chart1, hue=\"회사명\");"
   ]
  },
  {
   "cell_type": "code",
   "execution_count": 48,
   "metadata": {},
   "outputs": [
    {
     "data": {
      "image/png": "[encoded data removed]",
      "text/plain": [
       "<Figure size 360x360 with 1 Axes>"
      ]
     },
     "metadata": {
      "needs_background": "light"
     },
     "output_type": "display_data"
    }
   ],
   "source": [
    "company_name = 'LG전자'\n",
    "value_name = '가격'\n",
    "\n",
    "chart2 = danawa_data[danawa_data['회사명'] == company_name]\n",
    "chart = chart2.boxplot(column=[value_name], figsize=(5,5)) \n",
    "plt.title(company_name)\n",
    "plt.show()"
   ]
  },
  {
   "cell_type": "code",
   "execution_count": 59,
   "metadata": {},
   "outputs": [
    {
     "data": {
      "image/png": "[encoded data removed]",
      "text/plain": [
       "<Figure size 432x288 with 1 Axes>"
      ]
     },
     "metadata": {},
     "output_type": "display_data"
    }
   ],
   "source": [
    "df3 = danawa_data[\"회사명\"].value_counts()\n",
    "df3 = df3[:10]\n",
    "df3.plot.pie(autopct='%.2f%%')\n",
    "plt.title(\"무선청소기 다나와 점유율\")\n",
    "plt.show()"
   ]
  },
  {
   "cell_type": "code",
   "execution_count": null,
   "metadata": {},
   "outputs": [],
   "source": []
  }
 ],
 "metadata": {
  "kernelspec": {
   "display_name": "Python 3",
   "language": "python",
   "name": "python3"
  },
  "language_info": {
   "codemirror_mode": {
    "name": "ipython",
    "version": 3
   },
   "file_extension": ".py",
   "mimetype": "text/x-python",
   "name": "python",
   "nbconvert_exporter": "python",
   "pygments_lexer": "ipython3",
   "version": "3.7.3"
  }
 },
 "nbformat": 4,
 "nbformat_minor": 2
}
