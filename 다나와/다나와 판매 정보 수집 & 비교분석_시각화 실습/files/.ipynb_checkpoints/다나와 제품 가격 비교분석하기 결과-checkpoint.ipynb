{
 "cells": [
  {
   "cell_type": "markdown",
   "metadata": {},
   "source": [
    "# 1. 데이터 수집 해보기 (한 페이지 크롤링)"
   ]
  },
  {
   "cell_type": "markdown",
   "metadata": {},
   "source": [
    "### 다나와 검색 페이지 접속"
   ]
  },
  {
   "cell_type": "code",
   "execution_count": 1,
   "metadata": {},
   "outputs": [],
   "source": [
    "# selenium으로 다나와 검색 결과 URL에 접속\n",
    "from selenium import webdriver\n",
    "# driver = webdriver.Chrome('./driver/chromedriver.exe')\n",
    "driver = webdriver.Chrome('./driver/chromedriver')\n",
    "url = \"http://search.danawa.com/dsearch.php?query=무선청소기&tab=main\"\n",
    "driver.get(url)"
   ]
  },
  {
   "cell_type": "markdown",
   "metadata": {},
   "source": [
    "### 다나와 검색 웹 페이지에서 상품 정보 가져오기"
   ]
  },
  {
   "cell_type": "code",
   "execution_count": 2,
   "metadata": {},
   "outputs": [],
   "source": [
    "from bs4 import BeautifulSoup\n",
    "\n",
    "html = driver.page_source\n",
    "soup = BeautifulSoup(html, 'html.parser')"
   ]
  },
  {
   "cell_type": "markdown",
   "metadata": {},
   "source": [
    "### 크롬 개발자 도구를 이용하여 정확하게 정보 가져오기 실습"
   ]
  },
  {
   "cell_type": "code",
   "execution_count": 3,
   "metadata": {},
   "outputs": [
    {
     "data": {
      "text/plain": [
       "38"
      ]
     },
     "execution_count": 3,
     "metadata": {},
     "output_type": "execute_result"
    }
   ],
   "source": [
    "prod_items = soup.select('li.prod_item')\n",
    "len(prod_items)"
   ]
  },
  {
   "cell_type": "code",
   "execution_count": 4,
   "metadata": {
    "scrolled": true
   },
   "outputs": [
    {
     "data": {
      "text/plain": [
       "38"
      ]
     },
     "execution_count": 4,
     "metadata": {},
     "output_type": "execute_result"
    }
   ],
   "source": [
    "prod_items = soup.select('ul.product_list > li.prod_item')\n",
    "len(prod_items)"
   ]
  },
  {
   "cell_type": "code",
   "execution_count": 5,
   "metadata": {},
   "outputs": [
    {
     "data": {
      "text/plain": [
       "30"
      ]
     },
     "execution_count": 5,
     "metadata": {},
     "output_type": "execute_result"
    }
   ],
   "source": [
    "prod_items = soup.select('div.main_prodlist > ul.product_list > li.prod_item')\n",
    "len(prod_items)"
   ]
  },
  {
   "cell_type": "markdown",
   "metadata": {},
   "source": [
    "### 상품명, 포인트, 리뷰수, 가격 정보 가져오기 실습"
   ]
  },
  {
   "cell_type": "code",
   "execution_count": 16,
   "metadata": {},
   "outputs": [
    {
     "name": "stdout",
     "output_type": "stream",
     "text": [
      "델로라 V11 파워 300W\n"
     ]
    }
   ],
   "source": [
    "# 상품명 정보 가져오기\n",
    "title = prod_items[0].select('p.prod_name > a')[0].text.strip()\n",
    "print(title)"
   ]
  },
  {
   "cell_type": "code",
   "execution_count": 17,
   "metadata": {},
   "outputs": [
    {
     "name": "stdout",
     "output_type": "stream",
     "text": [
      "델로라\n",
      "V11 파워 300W\n"
     ]
    }
   ],
   "source": [
    "# 상품명에서 회사명, 모델명 나누기\n",
    "title_info = title.split(' ', 1)\n",
    "company = title_info[0]\n",
    "model = title_info[1]\n",
    "print(company)\n",
    "print(model)"
   ]
  },
  {
   "cell_type": "code",
   "execution_count": 18,
   "metadata": {},
   "outputs": [
    {
     "name": "stdout",
     "output_type": "stream",
     "text": [
      "93\n"
     ]
    }
   ],
   "source": [
    "# 포인트 정보 가져오기\n",
    "point = prod_items[0].select('div.point_num > strong')[0].text.strip()\n",
    "print(point)"
   ]
  },
  {
   "cell_type": "code",
   "execution_count": 19,
   "metadata": {},
   "outputs": [
    {
     "name": "stdout",
     "output_type": "stream",
     "text": [
      "50\n"
     ]
    }
   ],
   "source": [
    "# 리뷰수 정보 가져오기\n",
    "review_count = prod_items[0].select('div.cnt_opinion > a > strong')[0].text.strip()\n",
    "print(review_count)"
   ]
  },
  {
   "cell_type": "code",
   "execution_count": 20,
   "metadata": {},
   "outputs": [
    {
     "name": "stdout",
     "output_type": "stream",
     "text": [
      "139000\n"
     ]
    }
   ],
   "source": [
    "# 가격 정보 가져오기\n",
    "price = prod_items[0].select('p.price_sect > a > strong')[0].text.strip().replace(\",\",\"\")\n",
    "print(price)"
   ]
  },
  {
   "cell_type": "markdown",
   "metadata": {},
   "source": [
    "### 반복문으로 검색 결과의 1페이지에 대한 상품 정보 추출"
   ]
  },
  {
   "cell_type": "code",
   "execution_count": 11,
   "metadata": {
    "scrolled": true
   },
   "outputs": [],
   "source": [
    "prod_data = []\n",
    "for prod_item in prod_items:\n",
    "    try: \n",
    "        title = prod_item.select('p.prod_name > a')[0].text.strip()\n",
    "        title_info = title.split(' ', 1)\n",
    "        company = title_info[0]\n",
    "        model = title_info[1]\n",
    "    except:\n",
    "        company = ''\n",
    "        model = ''\n",
    "    try: \n",
    "        point = int(prod_item.select('div.point_num > strong')[0].text.strip())\n",
    "    except:\n",
    "        point = 0\n",
    "    try: \n",
    "        review_count = int(prod_item.select('div.cnt_opinion > a > strong')[0].text.strip())\n",
    "    except:\n",
    "        review_count = 0\n",
    "    try: \n",
    "        price = int(prod_item.select('li.rank_one > p.price_sect > a > strong')[0].text.strip().replace(\",\",\"\"))\n",
    "    except:\n",
    "        price = 0\n",
    "        \n",
    "    prod_data.append([company, model, point, review_count, price])\n"
   ]
  },
  {
   "cell_type": "code",
   "execution_count": 12,
   "metadata": {},
   "outputs": [
    {
     "name": "stdout",
     "output_type": "stream",
     "text": [
      "30\n"
     ]
    }
   ],
   "source": [
    "print(len(prod_data))\n"
   ]
  },
  {
   "cell_type": "code",
   "execution_count": 13,
   "metadata": {},
   "outputs": [
    {
     "name": "stdout",
     "output_type": "stream",
     "text": [
      "[['델로라', 'V11 파워 300W', 93, 50, 139000], ['샤오미', '드리미 V10', 92, 349, 171760], ['샤오미', 'SHUNZAO 차량용 무선청소기 2세대 Z1 PRO (해외구매)', 90, 205, 48400], ['원더스리빙', '다이나킹 Z9', 95, 29, 299000], ['LG전자', '코드제로 A9 A978', 97, 311, 947360], ['다이슨', 'V11 220 에어와트 CF+', 98, 0, 881890], ['일렉트로룩스', 'ZB3302AK', 97, 0, 140210], ['샤오미', 'SHUNZAO Z11', 79, 28, 150050], ['샤오미', 'SHUNZAO Z11 PRO', 100, 9, 172050], ['LG전자', '코드제로 A9 A958', 96, 965, 799980], ['LG전자', '코드제로 A9 A951', 95, 578, 819030], ['삼성전자', '제트 VS20R9078S2', 95, 207, 844520], ['LG전자', '코드제로 A9 A938', 97, 378, 642380], ['LG전자', '코드제로 A9 A947', 93, 82, 815470], ['DIBEA', 'D18', 92, 0, 63250], ['다이슨', 'V10 카본파이버', 96, 0, 682490], ['샤오미', '드리미 V9', 94, 0, 144890], ['다이슨', 'V8 플러피', 95, 311, 423650], ['삼성전자', '제트 VS15R8577S5', 96, 422, 753440], ['삼성전자', '제트 VS19R1004BF', 95, 294, 476900], ['휴스톰', 'HS-10000', 96, 0, 147500], ['휴스톰', 'HS-9000', 95, 0, 132240], ['델첸', '퍼스널 무선 미니 차량용 핸디청소기 DC-C01', 87, 12, 54290], ['카렉스', '파워스톰 미니 무선청소기', 91, 65, 89890], ['다이슨', 'V10 앱솔루트 플러스', 95, 0, 660480], ['LG전자', '코드제로 A9 A948', 96, 331, 720880], ['다이슨', 'V8 슬림 플러피+', 98, 150, 563910], ['삼성전자', '뉴파워건 130', 92, 181, 313990], ['ABKO', '오엘라 네오스핀 OBC-AW09WH', 100, 5, 64900], ['DIBEA', 'DW200', 90, 0, 65680]]\n"
     ]
    }
   ],
   "source": [
    "print(prod_data)"
   ]
  },
  {
   "cell_type": "markdown",
   "metadata": {},
   "source": [
    "### 반복문으로 검색 결과의 상품 정보 추출 하는 함수 만들어보기"
   ]
  },
  {
   "cell_type": "code",
   "execution_count": 25,
   "metadata": {},
   "outputs": [],
   "source": [
    "def get_prod_items(prod_items):\n",
    "    prod_data = []\n",
    "    for prod_item in prod_items:\n",
    "        try: \n",
    "            title = prod_item.select('p.prod_name > a')[0].text.strip()\n",
    "            title_info = title.split(' ', 1)\n",
    "            company = title_info[0]\n",
    "            model = title_info[1]\n",
    "        except:\n",
    "            company = ''\n",
    "            model = ''\n",
    "        try: \n",
    "            point = int(prod_item.select('div.point_num > strong')[0].text.strip())\n",
    "        except:\n",
    "            point = 0\n",
    "        try: \n",
    "            review_count = int(prod_item.select('div.cnt_opinion > a > strong')[0].text.strip())\n",
    "        except:\n",
    "            review_count = 0\n",
    "        try: \n",
    "            price = int(prod_item.select('li.rank_one > p.price_sect > a > strong')[0].text.strip().replace(\",\",\"\"))\n",
    "        except:\n",
    "            price = 0\n",
    "        prod_data.append([company, model, point, review_count, price])\n",
    "        \n",
    "    return prod_data;"
   ]
  },
  {
   "cell_type": "code",
   "execution_count": 19,
   "metadata": {},
   "outputs": [
    {
     "name": "stdout",
     "output_type": "stream",
     "text": [
      "30\n"
     ]
    }
   ],
   "source": [
    "# 상품 정보를 가져오는 함수 테스트\n",
    "prod_items = soup.select('div.main_prodlist > ul.product_list > li.prod_item')\n",
    "prod_data = get_prod_items(prod_items)\n",
    "print(len(prod_data))"
   ]
  },
  {
   "cell_type": "markdown",
   "metadata": {},
   "source": [
    "# 2. 여러 페이지에 걸친 상품 정보 수집"
   ]
  },
  {
   "cell_type": "code",
   "execution_count": 21,
   "metadata": {},
   "outputs": [
    {
     "name": "stdout",
     "output_type": "stream",
     "text": [
      "http://search.danawa.com/dsearch.php?query=무선청소기&originalQuery=무선청소기&volumeType=allvs&page=2&limit=30&sort=saveDESC&list=list&boost=true&addDelivery=N&tab=goods&tab=goods\n"
     ]
    }
   ],
   "source": [
    "# 다나와 검색 URL을 만들어주는 함수 \n",
    "def get_search_page_url(keyword, page):\n",
    "    return 'http://search.danawa.com/dsearch.php?query={0}&originalQuery={0}&volumeType=allvs&page={1}&limit=30&sort=saveDESC&list=list&boost=true&addDelivery=N&tab=goods&tab=goods'.format(keyword, page)\n",
    "\n",
    "keyword = '무선청소기'\n",
    "page = 2\n",
    "url = get_search_page_url(keyword, page)\n",
    "print(url)\n"
   ]
  },
  {
   "cell_type": "code",
   "execution_count": 22,
   "metadata": {
    "scrolled": false
   },
   "outputs": [
    {
     "name": "stdout",
     "output_type": "stream",
     "text": [
      "1\n",
      "2\n",
      "3\n",
      "4\n",
      "5\n",
      "6\n",
      "7\n",
      "8\n",
      "9\n",
      "10\n"
     ]
    }
   ],
   "source": [
    "total_page = 10\n",
    "for page in range(1, total_page + 1):\n",
    "    print(page)"
   ]
  },
  {
   "cell_type": "code",
   "execution_count": 23,
   "metadata": {},
   "outputs": [
    {
     "name": "stdout",
     "output_type": "stream",
     "text": [
      "http://search.danawa.com/dsearch.php?query=무선청소기&originalQuery=무선청소기&volumeType=allvs&page=1&limit=30&sort=saveDESC&list=list&boost=true&addDelivery=N&tab=goods&tab=goods\n",
      "http://search.danawa.com/dsearch.php?query=무선청소기&originalQuery=무선청소기&volumeType=allvs&page=2&limit=30&sort=saveDESC&list=list&boost=true&addDelivery=N&tab=goods&tab=goods\n",
      "http://search.danawa.com/dsearch.php?query=무선청소기&originalQuery=무선청소기&volumeType=allvs&page=3&limit=30&sort=saveDESC&list=list&boost=true&addDelivery=N&tab=goods&tab=goods\n",
      "http://search.danawa.com/dsearch.php?query=무선청소기&originalQuery=무선청소기&volumeType=allvs&page=4&limit=30&sort=saveDESC&list=list&boost=true&addDelivery=N&tab=goods&tab=goods\n",
      "http://search.danawa.com/dsearch.php?query=무선청소기&originalQuery=무선청소기&volumeType=allvs&page=5&limit=30&sort=saveDESC&list=list&boost=true&addDelivery=N&tab=goods&tab=goods\n",
      "http://search.danawa.com/dsearch.php?query=무선청소기&originalQuery=무선청소기&volumeType=allvs&page=6&limit=30&sort=saveDESC&list=list&boost=true&addDelivery=N&tab=goods&tab=goods\n",
      "http://search.danawa.com/dsearch.php?query=무선청소기&originalQuery=무선청소기&volumeType=allvs&page=7&limit=30&sort=saveDESC&list=list&boost=true&addDelivery=N&tab=goods&tab=goods\n",
      "http://search.danawa.com/dsearch.php?query=무선청소기&originalQuery=무선청소기&volumeType=allvs&page=8&limit=30&sort=saveDESC&list=list&boost=true&addDelivery=N&tab=goods&tab=goods\n",
      "http://search.danawa.com/dsearch.php?query=무선청소기&originalQuery=무선청소기&volumeType=allvs&page=9&limit=30&sort=saveDESC&list=list&boost=true&addDelivery=N&tab=goods&tab=goods\n",
      "http://search.danawa.com/dsearch.php?query=무선청소기&originalQuery=무선청소기&volumeType=allvs&page=10&limit=30&sort=saveDESC&list=list&boost=true&addDelivery=N&tab=goods&tab=goods\n"
     ]
    }
   ],
   "source": [
    "total_page = 10\n",
    "for page in range(1, total_page + 1):\n",
    "    print(get_search_page_url('무선청소기', page))"
   ]
  },
  {
   "cell_type": "code",
   "execution_count": 26,
   "metadata": {},
   "outputs": [
    {
     "name": "stdout",
     "output_type": "stream",
     "text": [
      "다나와 크롤링 page :  1\n",
      "다나와 크롤링 page :  2\n",
      "다나와 크롤링 page :  3\n",
      "다나와 크롤링 page :  4\n",
      "다나와 크롤링 page :  5\n",
      "다나와 크롤링 page :  6\n",
      "다나와 크롤링 page :  7\n",
      "다나와 크롤링 page :  8\n",
      "다나와 크롤링 page :  9\n",
      "다나와 크롤링 page :  10\n"
     ]
    }
   ],
   "source": [
    "from selenium import webdriver\n",
    "import time\n",
    "from bs4 import BeautifulSoup\n",
    "from tqdm import tqdm_notebook\n",
    "\n",
    "driver = webdriver.Chrome('./driver/chromedriver')\n",
    "# 암묵적으로 웹 자원 로드를 위해 3초까지 기다림\n",
    "driver.implicitly_wait(3)\n",
    "keyword = '무선청소기'\n",
    "total_page = 10\n",
    "prod_data_total = []\n",
    "\n",
    "for page in range(1, total_page + 1):\n",
    "    print(\"다나와 크롤링 page : \", page)\n",
    "    # 검색 페이지 이동\n",
    "    url = get_search_page_url(keyword, page)\n",
    "    driver.get(url)\n",
    "    # 페이지가 로딩 완료되기 위한 시간으로 5초를 할당\n",
    "    time.sleep(5)\n",
    "    # 현재 페이지의 HTML 정보 가져오기\n",
    "    html = driver.page_source\n",
    "    soup = BeautifulSoup(html, 'html.parser')\n",
    "    # 상품 정보 추출\n",
    "    prod_items = soup.select('div.main_prodlist > ul.product_list > li.prod_item')\n",
    "    prod_item_list = get_prod_items(prod_items)\n",
    "    # 추출 데이터 저장\n",
    "    prod_data_total = prod_data_total + prod_item_list\n"
   ]
  },
  {
   "cell_type": "code",
   "execution_count": 27,
   "metadata": {},
   "outputs": [
    {
     "data": {
      "text/plain": [
       "[['델로라', 'V11 파워 300W', 93, 50, 139000],\n",
       " ['샤오미', '드리미 V10', 92, 349, 171760],\n",
       " ['샤오미', 'SHUNZAO 차량용 무선청소기 2세대 Z1 PRO (해외구매)', 90, 205, 48400],\n",
       " ['원더스리빙', '다이나킹 Z9', 95, 29, 299000],\n",
       " ['LG전자', '코드제로 A9 A978', 97, 311, 947360],\n",
       " ['다이슨', 'V11 220 에어와트 CF+', 98, 0, 881890],\n",
       " ['일렉트로룩스', 'ZB3302AK', 97, 0, 140210],\n",
       " ['샤오미', 'SHUNZAO Z11', 79, 28, 150050],\n",
       " ['샤오미', 'SHUNZAO Z11 PRO', 100, 9, 172050],\n",
       " ['LG전자', '코드제로 A9 A958', 96, 965, 799980],\n",
       " ['LG전자', '코드제로 A9 A951', 95, 578, 819030],\n",
       " ['삼성전자', '제트 VS20R9078S2', 95, 207, 844520],\n",
       " ['LG전자', '코드제로 A9 A938', 97, 378, 642380],\n",
       " ['LG전자', '코드제로 A9 A947', 93, 82, 815470],\n",
       " ['DIBEA', 'D18', 92, 0, 63250],\n",
       " ['다이슨', 'V10 카본파이버', 96, 0, 682490],\n",
       " ['샤오미', '드리미 V9', 94, 0, 144890],\n",
       " ['다이슨', 'V8 플러피', 95, 311, 423650],\n",
       " ['삼성전자', '제트 VS15R8577S5', 96, 422, 753440],\n",
       " ['삼성전자', '제트 VS19R1004BF', 95, 294, 476900],\n",
       " ['휴스톰', 'HS-10000', 96, 0, 147500],\n",
       " ['휴스톰', 'HS-9000', 95, 0, 132240],\n",
       " ['델첸', '퍼스널 무선 미니 차량용 핸디청소기 DC-C01', 87, 12, 54290],\n",
       " ['카렉스', '파워스톰 미니 무선청소기', 91, 65, 89890],\n",
       " ['다이슨', 'V10 앱솔루트 플러스', 95, 0, 660480],\n",
       " ['LG전자', '코드제로 A9 A948', 96, 331, 720880],\n",
       " ['다이슨', 'V8 슬림 플러피+', 98, 150, 563910],\n",
       " ['삼성전자', '뉴파워건 130', 92, 181, 313990],\n",
       " ['ABKO', '오엘라 네오스핀 OBC-AW09WH', 100, 5, 64900],\n",
       " ['DIBEA', 'DW200', 90, 0, 65680],\n",
       " ['일렉트로룩스', '퓨어 Q9 PQ91-2OG', 95, 65, 292620],\n",
       " ['DIBEA', 'M500 퀀텀', 94, 221, 259000],\n",
       " ['다이슨', 'V11 플러피', 98, 395, 726310],\n",
       " ['샤오미', 'SWDK-D260', 94, 774, 74850],\n",
       " ['삼성전자', '제트 VS20R9043SA', 95, 78, 665380],\n",
       " ['일렉트로룩스', '에르고라피도 프로 플러스 ZB3113AK', 94, 352, 158990],\n",
       " ['삼성전자', '제트 VS20R9078S3', 97, 260, 920500],\n",
       " ['샤오미', '드리미 V10P', 100, 3, 299000],\n",
       " ['샤오미', 'SHUNZAO 차량용 무선청소기 2세대 Z1 (해외구매)', 88, 123, 24070],\n",
       " ['DIBEA', 'M500 프로', 95, 0, 179000],\n",
       " ['샤오미', '로이드미 제로', 100, 2, 155470],\n",
       " ['일렉트로룩스', '에르고라피도 파워프로 ZB3414AK', 95, 139, 210200],\n",
       " ['샤오미', '드리미 V8', 94, 32, 104500],\n",
       " ['다이슨', 'V8 카본파이버', 97, 0, 572900],\n",
       " ['다이슨', 'V8 앱솔루트', 94, 922, 440020],\n",
       " ['한경희생활과학', '아쿠아젯 AM-5600BM', 92, 0, 134420],\n",
       " ['삼성전자', '제트 VS20R9044SC', 93, 367, 709000],\n",
       " ['다이슨', 'V7 플러피', 94, 450, 382950],\n",
       " ['다이슨', 'V10 모터헤드', 92, 224, 454770],\n",
       " ['LG전자', '코드제로 터보2.0 S87GMW', 91, 113, 425430],\n",
       " ['샤오미', '로이드미 F8', 92, 381, 354700],\n",
       " ['다이슨', 'V10 카본파이버 프로', 95, 54, 744170],\n",
       " ['샤오미', 'SWDK KC101', 93, 93, 54180],\n",
       " ['아이룸', 'AST-009', 96, 0, 117390],\n",
       " ['다이슨', 'V8 플러피 프로', 95, 409, 534080],\n",
       " ['DIBEA', '에이스 맥스', 90, 127, 148720],\n",
       " ['DIBEA', 'NEW F7 플러스', 97, 0, 152100],\n",
       " ['경성오토비스', 'KAC-7000', 97, 392, 130190],\n",
       " ['유니맥스', 'UVC-1685A', 90, 327, 34900],\n",
       " ['삼성전자', '뉴파워건 150', 94, 7, 457520],\n",
       " ['다이슨', 'V8 모터헤드 헤파', 94, 226, 1045700],\n",
       " ['LG전자', '코드제로 S86', 94, 0, 526440],\n",
       " ['EUP', 'VH806', 93, 320, 76430],\n",
       " ['일렉트로룩스', '라피도 ZB6108', 93, 479, 74790],\n",
       " ['다이슨', 'V8 앱솔루트 엑스트라', 96, 0, 666160],\n",
       " ['다이슨', 'V8 앱솔루트 플러스', 97, 697, 749990],\n",
       " ['다이슨', 'V8 앱솔루트 프로', 97, 14, 781130],\n",
       " ['삼성전자', '파워건 150', 100, 6, 550000],\n",
       " ['다이슨', 'V8 플러피 헤파', 95, 586, 878390],\n",
       " ['경성오토비스', 'KAC-7100', 94, 799, 124870],\n",
       " ['일렉트로룩스', '에르고라피도 플러스 ZB3105AK', 94, 317, 189860],\n",
       " ['오토싱', 'OTOCINC-700B', 95, 0, 106550],\n",
       " ['DIBEA', 'PDK-18000P', 94, 71, 159000],\n",
       " ['유행코리아', '더쎈 유무선 청소기', 88, 403, 75680],\n",
       " ['DIBEA', 'F20 맥스', 94, 560, 225130],\n",
       " ['다이슨', 'V7 플러피 플러스', 97, 736, 449280],\n",
       " ['LG전자', '코드제로 A9 A940', 94, 388, 990900],\n",
       " ['DIBEA', 'C17', 94, 0, 98400],\n",
       " ['LG전자', '코드제로 A9 A950', 94, 680, 869510],\n",
       " ['LG전자', '코드제로 A9 A960', 91, 77, 1264990],\n",
       " ['일렉트로룩스', '울트라파워 ZB5022', 93, 254, 534390],\n",
       " ['경성오토비스', 'KAC-5500', 92, 0, 140740],\n",
       " ['일렉트로룩스', '에르고라피도 ZB3111', 92, 64, 247650],\n",
       " ['일렉트로룩스', '울트라파워 ZB5021', 92, 322, 599000],\n",
       " ['DIBEA', 'PDK-12000N', 91, 50, 149000],\n",
       " ['다이슨', 'V6 코드프리 플러스', 100, 4, 885080],\n",
       " ['DIBEA', 'V008 프로', 92, 122, 135000],\n",
       " ['LG전자', '코드제로 A9 A930', 93, 387, 970990],\n",
       " ['휴스톰', 'HS-11000', 97, 220, 194460],\n",
       " ['리빙코리아', '웰스톰 VC250', 90, 88, 145450],\n",
       " ['일렉트로룩스', '퓨어 Q9 PQ91-3EM', 91, 20, 335090],\n",
       " ['삼성전자', '파워스틱 VS60K6081KD', 97, 22, 221450],\n",
       " ['삼성전자', 'VC-H71', 95, 270, 46990],\n",
       " ['일렉트로룩스', '퓨어 Q9 PQ91-3BW', 91, 42, 395890],\n",
       " ['모온', '오비큠', 97, 179, 234000],\n",
       " ['다이슨', 'V11 컴플리트', 98, 132, 826680],\n",
       " ['다이슨', 'V10 앱솔루트 엑스트라', 96, 488, 657870],\n",
       " ['무궁화전자', '바로바로 MC-B250', 96, 649, 38470],\n",
       " ['일렉트로룩스', '퓨어 F9 PF91-5OGF', 96, 186, 340930],\n",
       " ['삼에스', 'ALWAYS CLEAN 차량용 무선 청소기', 63, 7, 66400],\n",
       " ['보쉬', 'GAS18V-1', 93, 245, 60289],\n",
       " ['일렉트로룩스', '에르고라피도 플러스 ZB3106AK', 96, 0, 141330],\n",
       " ['LG전자', '코드제로 A9S A9700', 0, 0, 1223000],\n",
       " ['샤오미', '드리미 CC', 95, 248, 90000],\n",
       " ['일렉트로룩스', '퓨어 Q9 PQ91-3OB', 94, 54, 317520],\n",
       " ['휴스톰', 'HS-12000W', 95, 268, 289541],\n",
       " ['샤오미', 'WXCDJ01SWDK', 94, 61, 78990],\n",
       " ['DIBEA', 'D20 퓨어레드', 93, 3, 114840],\n",
       " ['유니맥스', 'UVC-1688', 87, 340, 17870],\n",
       " ['삼성전자', '파워스틱 VS60M6010KG', 92, 186, 162430],\n",
       " ['삼성전자', '제트 VS20R9048SB', 0, 0, 756020],\n",
       " ['삼성전자', '제트 VS20R9074S2', 97, 7, 887390],\n",
       " ['휴스톰', 'HS-10000W', 99, 24, 170050],\n",
       " ['블랙앤데커', 'PV1820CEXT', 92, 77, 88460],\n",
       " ['블랙앤데커', 'PV1820BK', 92, 141, 81380],\n",
       " ['아이룸', 'D-10', 96, 0, 137000],\n",
       " ['다이슨', 'V7 트리거 프로', 100, 6, 424320],\n",
       " ['제로홈', 'S9', 98, 10, 148000],\n",
       " ['일럭스고', 'SVC-1019L', 90, 6, 68920],\n",
       " ['삼성전자', '제트 VS20T9278S7', 0, 0, 1620000],\n",
       " ['다이슨', 'V11 컴플리트 플러스', 97, 301, 871860],\n",
       " ['삼성전자', 'VC-H22', 94, 0, 34550],\n",
       " ['테팔', '에어포스 라이트 TY6545KL', 97, 0, 96030],\n",
       " ['DIBEA', 'M500 터보', 95, 49, 171830],\n",
       " ['다이슨', 'V10 앱솔루트', 93, 73, 650070],\n",
       " ['일렉트로룩스', 'ZB6114', 95, 468, 69900],\n",
       " ['보쉬', 'GAS18V-10L', 98, 77, 97720],\n",
       " ['DIBEA', 'TSX-25000A', 91, 43, 224900],\n",
       " ['신일', '롤링스턴 SDC-EQ900', 89, 39, 95150],\n",
       " ['삼성전자', '파워스틱 VS03R6523J2', 87, 12, 281180],\n",
       " ['제로홈', 'S7', 93, 78, 93060],\n",
       " ['신일산업', '롤링스턴 SVC-C1012WS', 88, 24, 90420],\n",
       " ['보만', 'VC7210', 92, 0, 36700],\n",
       " ['한경희생활과학', '아쿠아젯 RC-3500', 95, 133, 129510],\n",
       " ['DIBEA', 'DW200 플러스', 91, 71, 119800],\n",
       " ['JDL', 'tech 트위스터', 76, 5, 109000],\n",
       " ['DIBEA', 'RQ40', 96, 5, 228000],\n",
       " ['신일산업', 'SVC-S4800SJ', 91, 371, 34220],\n",
       " ['일렉트로룩스', '에르고라피도 파워프로 ZB3423BO', 97, 90, 253076],\n",
       " ['일렉트로룩스', '에르고라피도 파워프로 ZB3411', 96, 38, 260580],\n",
       " ['테팔', '에어포스 360 TY9086', 93, 128, 323240],\n",
       " ['DIBEA', 'X30', 94, 489, 259000],\n",
       " ['듀플렉스', 'DP-485VC', 91, 0, 18170],\n",
       " ['한경희생활과학', 'SM-2000', 95, 249, 86010],\n",
       " ['훠링', '미니 무선 청소기', 91, 44, 53380],\n",
       " ['일렉트로룩스', '에르고라피도 ZB3104', 95, 493, 118990],\n",
       " ['툴앤툴', 'T300', 97, 36, 248200],\n",
       " ['로엘', '듀스핀2', 87, 319, 49900],\n",
       " ['이스타', 'EST-VX100', 92, 66, 89000],\n",
       " ['삼성전자', '제트 VS20R9044SA', 96, 202, 706290],\n",
       " ['아이룸', 'RS1', 96, 414, 178000],\n",
       " ['홍진테크', 'AT-H12V', 94, 127, 21210],\n",
       " ['원더스리빙', '다이나킹 Z7', 94, 192, 129000],\n",
       " ['아이룸', 'ASC-079', 88, 242, 57800],\n",
       " ['테팔', 'TY7231', 100, 4, 229440],\n",
       " ['아이코넬', '차량용 청소기 ICL-V01', 93, 227, 56970],\n",
       " ['툴앤툴', '네오스틱 T1', 94, 0, 118900],\n",
       " ['다이슨', 'V10 플러피', 97, 0, 651960],\n",
       " ['일렉트로룩스', '에르고라피도 ZB3323BO', 97, 226, 230750],\n",
       " ['테팔', '에어포스 라이트 TY6543KL', 97, 990, 93170],\n",
       " ['제로홈', '맥스 아쿠아', 0, 0, 155100],\n",
       " ['캐치웰', '코드엑스', 94, 155, 249000],\n",
       " ['삼성전자', '제트 VS15R8548S5', 99, 105, 625950],\n",
       " ['테팔', '에어포스360 에센셜', 95, 691, 243540],\n",
       " ['삼성전자', 'VC-H20', 94, 0, 30880],\n",
       " ['일렉트로룩스', '퓨어 F9 PF91-6BWF', 89, 47, 474270],\n",
       " ['신일산업', 'SVC-680G', 92, 757, 25200],\n",
       " ['신일', 'SVC-ECO350', 90, 18, 153270],\n",
       " ['일렉트로룩스', '퓨어 F9 PF91-6BMF', 100, 5, 409930],\n",
       " ['대웅모닝컴', 'DWVC-DC1630WS', 93, 97, 56540],\n",
       " ['샤오미', 'CLEANFLY 차량용 무선 청소기 (해외구매)', 91, 506, 36490],\n",
       " ['마끼다', 'DCL180Z', 96, 112, 35500],\n",
       " ['DIBEA', 'F20 프로', 86, 27, 160290],\n",
       " ['JDL', 'tech 타이푼 DV-889DC-X', 90, 34, 119000],\n",
       " ['샤오미', '로이드미 넥스 XCQ06RM', 90, 4, 350110],\n",
       " ['지웰', '벤투스 아쿠아 프로', 91, 145, 359100],\n",
       " ['삼성전자', 'VC-PS86', 94, 216, 74840],\n",
       " ['DIBEA', 'ALLNEW22000', 93, 613, 179000],\n",
       " ['신일산업', 'SVC-750SG', 91, 107, 50040],\n",
       " ['이나프', 'ILVH-2000', 95, 994, 33970],\n",
       " ['일렉트로룩스', '라피도 ZB5106', 93, 412, 46350],\n",
       " ['BDC', '벨라', 89, 95, 46900],\n",
       " ['다이슨', 'V8 앱솔루트 한정판', 100, 1, 799000],\n",
       " ['다이슨', 'V10 플러피 엑스트라', 99, 319, 664990],\n",
       " ['DIBEA', 'PDK-22000P', 92, 107, 171050],\n",
       " ['신일산업', 'SVC-DC2200SK', 93, 21, 106270],\n",
       " ['DIBEA', 'NEW X10 플러스', 93, 0, 185000],\n",
       " ['SK매직', 'VCL-WA10', 93, 31, 124090],\n",
       " ['에이스전자', 'ARW-C100', 96, 0, 246200],\n",
       " ['다이슨', 'V8 애니멀', 93, 14, 372600],\n",
       " ['삼성전자', 'VC-PS85', 91, 0, 88990],\n",
       " ['삼성전자', '제트 VS20R9074S3', 94, 61, 932920],\n",
       " ['다이슨', 'V8 플러피 플러스', 0, 0, 582400],\n",
       " ['샤오미', 'COCLEAN 차량용 무선 청소기', 92, 24, 49600],\n",
       " ['툴앤툴', '코드프리 P10', 95, 157, 128990],\n",
       " ['테팔', 'TY9051', 94, 126, 284040],\n",
       " ['일렉트로룩스', '퓨어 F9 PF91-5EBF', 93, 20, 348210],\n",
       " ['오토싱', 'OTC-700BA', 97, 0, 118880],\n",
       " ['샤오미', '드리미 V9P', 95, 159, 219000],\n",
       " ['DIBEA', 'D20 맥스', 95, 33, 169270],\n",
       " ['테팔', '에어포스360 TY9253', 91, 211, 321950],\n",
       " ['DIBEA', 'D008 프로', 94, 254, 111920],\n",
       " ['삼성전자', '제트 VS15R8544S4', 0, 0, 586950],\n",
       " ['DIBEA', 'C21 프로', 94, 281, 129360],\n",
       " ['대웅모닝컴', 'DWVC-DC9180KP', 90, 42, 59080],\n",
       " ['라이프썸', 'LFS-HA04', 91, 141, 25900],\n",
       " ['일렉트로룩스', '에르고라피도 ZB3105', 96, 73, 142140],\n",
       " ['캐치웰', 'F8', 95, 795, 169550],\n",
       " ['일렉트로룩스', '퓨어 F9 PF91-6XRF', 99, 54, 434290],\n",
       " ['일렉트로룩스', 'ZB3311', 97, 436, 182820],\n",
       " ['이나프', 'ILVH-2000WG', 95, 0, 34000],\n",
       " ['샤오미', '이지에 YE-01', 0, 0, 24750],\n",
       " ['다이슨', 'V11 컴플리트 엑스트라', 98, 310, 883030],\n",
       " ['신일산업', 'SVC-D180BLDC', 70, 2, 171420],\n",
       " ['마끼다', 'DCL182ZW', 95, 23, 58530],\n",
       " ['보만', 'VC7211', 90, 332, 35900],\n",
       " ['코끼리', '제로스톰', 92, 10, 129270],\n",
       " ['홈마블', 'H80', 0, 0, 48890],\n",
       " ['세비즈', 'VD-MOP1', 80, 1, 79210],\n",
       " ['캐치웰', 'CV8', 93, 49, 179090],\n",
       " ['다이슨', 'V7 모터헤드', 74, 10, 299000],\n",
       " ['한경희생활과학', '아쿠아젯 AM-5600NB', 95, 379, 117370],\n",
       " ['샤오미', 'SWDK-DM790', 91, 7, 79790],\n",
       " ['삼성전자', '제트 VS15R8543S1', 100, 5, 598410],\n",
       " ['일렉트로룩스', '에르고라피도 파워프로 ZB3426BL', 92, 111, 250050],\n",
       " ['아낙', 'ANA-1930', 90, 10, 178570],\n",
       " ['대우어플라이언스', '아쿠아젯 DEX-WC130', 72, 5, 71890],\n",
       " ['DIBEA', 'M-HIPOWER', 100, 4, 119970],\n",
       " ['베이스어스', '차량용 무선 청소기 (해외구매)', 87, 14, 28710],\n",
       " ['LG전자', '코드제로 싸이킹 K94', 100, 9, 1200000],\n",
       " ['아이룸', 'A20', 0, 0, 68000],\n",
       " ['DIBEA', 'P20 MAX', 100, 1, 89260],\n",
       " ['샤오미', 'SCWXCQ01RR', 91, 34, 161970],\n",
       " ['다이슨', 'V10 애니멀', 95, 28, 545257],\n",
       " ['삼성전자', '제트 VS20R9043QA', 95, 52, 669090],\n",
       " ['일렉트로룩스', 'ZB3301', 93, 91, 124370],\n",
       " ['테팔', '에어포스 360 TY9037', 95, 342, 241350],\n",
       " ['삼성전자', 'VC-LSS95', 87, 18, 102640],\n",
       " ['DIBEA', 'M500 플러스', 91, 114, 123710],\n",
       " ['이나프', 'ILVH-7000', 85, 538, 73390],\n",
       " ['삼성전자', '제트 VS20R9044SB', 100, 1, 762500],\n",
       " ['이나프', 'ILVH-7500', 80, 3, 99000],\n",
       " ['유니맥스', 'UVC-1894', 100, 2, 79840],\n",
       " ['삼성전자', '제트 VS20R9077Q3', 100, 1, 940710],\n",
       " ['신일산업', 'SVC-650SG', 87, 763, 28900],\n",
       " ['보쉬', 'GAS10.8V-LI', 92, 143, 38540],\n",
       " ['다이슨', 'V8 애니멀 코드프리', 0, 0, 609840],\n",
       " ['머레이', '핸디형 무선청소기 HK-6030', 92, 21, 39890],\n",
       " ['다이슨', 'V8 플러피2', 0, 0, 545910],\n",
       " ['다이슨', 'V8 애니멀 플러스', 0, 0, 461580],\n",
       " ['블랙앤데커', 'PV1020', 93, 369, 57130],\n",
       " ['지웰', '벤투스 아쿠아', 87, 94, 199000],\n",
       " ['다이슨', 'V8 애니멀 프로', 0, 0, 819790],\n",
       " ['다이슨', 'V8 앱솔루트 블루', 0, 0, 804080],\n",
       " ['샤오미', '디어마 VC20S', 85, 43, 61000],\n",
       " ['블랙앤데커', 'TPV1820RAC', 95, 702, 97000],\n",
       " ['다이슨', 'V8 플러피 2', 0, 0, 728700],\n",
       " ['롯데전자', 'L-275', 91, 0, 531000],\n",
       " ['삼성전자', '파워스틱 VS60K6051KW', 92, 30, 216000],\n",
       " ['신일산업', 'SDC-B5000W', 91, 104, 109840],\n",
       " ['LG전자', '코드제로 T9', 100, 9, 795590],\n",
       " ['DIBEA', 'NEW X10', 93, 522, 136000],\n",
       " ['DIBEA', '에이스 프로', 93, 93, 79900],\n",
       " ['퀸메이드', 'QM-V200W', 97, 820, 109350],\n",
       " ['고트만', 'V600', 0, 0, 189050],\n",
       " ['이나프', 'ILVH-1000', 96, 0, 27800],\n",
       " ['LG전자', '코드제로 A9 A905RM', 0, 0, 730760],\n",
       " ['블랙앤데커', 'TPD1810BGEXT', 93, 32, 93040],\n",
       " ['지앤지비', '바툼 욕실청소기2', 80, 46, 82750],\n",
       " ['엠제이코리아', '맥스킹 S10W 물걸레형', 82, 23, 129000],\n",
       " ['DIBEA', 'DW300 프로', 81, 25, 119400],\n",
       " ['블랙앤데커', 'SVA420B', 90, 4, 115630],\n",
       " ['샤오미', 'SHUNZAO 차량용 무선청소기 2세대 전용필터 (해외구매)', 80, 2, 8330],\n",
       " ['노블', 'K-108L', 82, 64, 54420],\n",
       " ['롯데알미늄', 'LS292', 98, 65, 149000],\n",
       " ['테팔', '에어포스 라이트 TY6541KM', 100, 1, 300000],\n",
       " ['스윙', '파워스윙 SWING 8500', 96, 277, 230990],\n",
       " ['일렉트로룩스', '퓨어 F9 PF91-6ESF', 100, 1, 526880],\n",
       " ['SJ', 'KOREA', 0, 0, 170100],\n",
       " ['이마트', '노브랜드 TPH05', 93, 6, 148000],\n",
       " ['블랙앤데커', 'BDH2000PL', 90, 327, 104180],\n",
       " ['대웅모닝컴', 'GTK-VA22B', 100, 2, 111250],\n",
       " ['신일산업', 'SVC-C2025SJ', 82, 23, 95310],\n",
       " ['스위스밀리터리', 'SMA-X22', 87, 14, 87830],\n",
       " ['플러스마이너스제로', 'Y010', 96, 658, 261027],\n",
       " ['아이코넬', 'VC-K300W', 94, 70, 119040],\n",
       " ['유니맥스', 'UVC-1686A', 93, 458, 34110],\n",
       " ['컴포트', 'BVC-250G', 0, 0, 137300],\n",
       " ['필립스', 'FC6152', 92, 202, 31490],\n",
       " ['휴랩', '올클리어 HSM-210', 99, 27, 287100],\n",
       " ['비바', '2017-SC01', 85, 98, 30750],\n",
       " ['마이프랜드', 'MF-7700V', 100, 4, 82050],\n",
       " ['유행코리아', '더쎈 차량용 무선청소기 핸디형', 0, 0, 79000],\n",
       " ['툴앤툴', '네오스틱 NEW T5', 95, 44, 178100],\n",
       " ['니코', 'NKV-220WS', 100, 1, 110490],\n",
       " ['샤크', '에보파워플러스 WV260KR', 0, 0, 265050],\n",
       " ['LG전자', '코드제로 A9 A906SM', 0, 0, 900890],\n",
       " ['코끼리', '제로맙', 80, 2, 108990],\n",
       " ['스윙', '파워스윙 SWING 10000-BLDC', 88, 109, 316280],\n",
       " ['일렉트로룩스', '에르고라피도 파워프로 ZB3416AK', 0, 0, 292790]]"
      ]
     },
     "execution_count": 27,
     "metadata": {},
     "output_type": "execute_result"
    }
   ],
   "source": [
    "prod_data_total"
   ]
  },
  {
   "cell_type": "code",
   "execution_count": 28,
   "metadata": {},
   "outputs": [
    {
     "name": "stdout",
     "output_type": "stream",
     "text": [
      "300\n"
     ]
    }
   ],
   "source": [
    "print(len(prod_data_total))"
   ]
  },
  {
   "cell_type": "markdown",
   "metadata": {},
   "source": [
    "## 수집 데이터 저장 "
   ]
  },
  {
   "cell_type": "code",
   "execution_count": 29,
   "metadata": {},
   "outputs": [],
   "source": [
    "import pandas as pd\n",
    "data = pd.DataFrame(prod_data_total)\n",
    "data.columns = ['회사명', '제품', '포인트', '리뷰수', '가격']\n",
    "data.to_excel('./files/danawa_crawling_result.xlsx', index = False)"
   ]
  },
  {
   "cell_type": "markdown",
   "metadata": {},
   "source": [
    "# 3. 데이터 분석하기"
   ]
  },
  {
   "cell_type": "code",
   "execution_count": 30,
   "metadata": {
    "scrolled": true
   },
   "outputs": [
    {
     "data": {
      "text/html": [
       "<div>\n",
       "<style scoped>\n",
       "    .dataframe tbody tr th:only-of-type {\n",
       "        vertical-align: middle;\n",
       "    }\n",
       "\n",
       "    .dataframe tbody tr th {\n",
       "        vertical-align: top;\n",
       "    }\n",
       "\n",
       "    .dataframe thead th {\n",
       "        text-align: right;\n",
       "    }\n",
       "</style>\n",
       "<table border=\"1\" class=\"dataframe\">\n",
       "  <thead>\n",
       "    <tr style=\"text-align: right;\">\n",
       "      <th></th>\n",
       "      <th>회사명</th>\n",
       "      <th>제품</th>\n",
       "      <th>포인트</th>\n",
       "      <th>리뷰수</th>\n",
       "      <th>가격</th>\n",
       "    </tr>\n",
       "  </thead>\n",
       "  <tbody>\n",
       "    <tr>\n",
       "      <th>0</th>\n",
       "      <td>델로라</td>\n",
       "      <td>V11 파워 300W</td>\n",
       "      <td>93</td>\n",
       "      <td>50</td>\n",
       "      <td>139000</td>\n",
       "    </tr>\n",
       "    <tr>\n",
       "      <th>1</th>\n",
       "      <td>샤오미</td>\n",
       "      <td>드리미 V10</td>\n",
       "      <td>92</td>\n",
       "      <td>349</td>\n",
       "      <td>171760</td>\n",
       "    </tr>\n",
       "    <tr>\n",
       "      <th>2</th>\n",
       "      <td>샤오미</td>\n",
       "      <td>SHUNZAO 차량용 무선청소기 2세대 Z1 PRO (해외구매)</td>\n",
       "      <td>90</td>\n",
       "      <td>205</td>\n",
       "      <td>48400</td>\n",
       "    </tr>\n",
       "    <tr>\n",
       "      <th>3</th>\n",
       "      <td>원더스리빙</td>\n",
       "      <td>다이나킹 Z9</td>\n",
       "      <td>95</td>\n",
       "      <td>29</td>\n",
       "      <td>299000</td>\n",
       "    </tr>\n",
       "    <tr>\n",
       "      <th>4</th>\n",
       "      <td>LG전자</td>\n",
       "      <td>코드제로 A9 A978</td>\n",
       "      <td>97</td>\n",
       "      <td>311</td>\n",
       "      <td>947360</td>\n",
       "    </tr>\n",
       "  </tbody>\n",
       "</table>\n",
       "</div>"
      ],
      "text/plain": [
       "     회사명                                   제품  포인트  리뷰수      가격\n",
       "0    델로라                          V11 파워 300W   93   50  139000\n",
       "1    샤오미                              드리미 V10   92  349  171760\n",
       "2    샤오미  SHUNZAO 차량용 무선청소기 2세대 Z1 PRO (해외구매)   90  205   48400\n",
       "3  원더스리빙                              다이나킹 Z9   95   29  299000\n",
       "4   LG전자                         코드제로 A9 A978   97  311  947360"
      ]
     },
     "execution_count": 30,
     "metadata": {},
     "output_type": "execute_result"
    }
   ],
   "source": [
    "import pandas as pd\n",
    "danawa_data = pd.read_excel('./files/danawa_crawling_result.xlsx')\n",
    "danawa_data.head()"
   ]
  },
  {
   "cell_type": "markdown",
   "metadata": {},
   "source": [
    "### 가격, 리뷰수, 포인트 순으로 정렬해보기 "
   ]
  },
  {
   "cell_type": "code",
   "execution_count": 31,
   "metadata": {
    "scrolled": true
   },
   "outputs": [
    {
     "data": {
      "text/html": [
       "<div>\n",
       "<style scoped>\n",
       "    .dataframe tbody tr th:only-of-type {\n",
       "        vertical-align: middle;\n",
       "    }\n",
       "\n",
       "    .dataframe tbody tr th {\n",
       "        vertical-align: top;\n",
       "    }\n",
       "\n",
       "    .dataframe thead th {\n",
       "        text-align: right;\n",
       "    }\n",
       "</style>\n",
       "<table border=\"1\" class=\"dataframe\">\n",
       "  <thead>\n",
       "    <tr style=\"text-align: right;\">\n",
       "      <th></th>\n",
       "      <th>회사명</th>\n",
       "      <th>제품</th>\n",
       "      <th>포인트</th>\n",
       "      <th>리뷰수</th>\n",
       "      <th>가격</th>\n",
       "    </tr>\n",
       "  </thead>\n",
       "  <tbody>\n",
       "    <tr>\n",
       "      <th>119</th>\n",
       "      <td>삼성전자</td>\n",
       "      <td>제트 VS20T9278S7</td>\n",
       "      <td>0</td>\n",
       "      <td>0</td>\n",
       "      <td>1620000</td>\n",
       "    </tr>\n",
       "    <tr>\n",
       "      <th>79</th>\n",
       "      <td>LG전자</td>\n",
       "      <td>코드제로 A9 A960</td>\n",
       "      <td>91</td>\n",
       "      <td>77</td>\n",
       "      <td>1264990</td>\n",
       "    </tr>\n",
       "    <tr>\n",
       "      <th>102</th>\n",
       "      <td>LG전자</td>\n",
       "      <td>코드제로 A9S A9700</td>\n",
       "      <td>0</td>\n",
       "      <td>0</td>\n",
       "      <td>1223000</td>\n",
       "    </tr>\n",
       "    <tr>\n",
       "      <th>229</th>\n",
       "      <td>LG전자</td>\n",
       "      <td>코드제로 싸이킹 K94</td>\n",
       "      <td>100</td>\n",
       "      <td>9</td>\n",
       "      <td>1200000</td>\n",
       "    </tr>\n",
       "    <tr>\n",
       "      <th>60</th>\n",
       "      <td>다이슨</td>\n",
       "      <td>V8 모터헤드 헤파</td>\n",
       "      <td>94</td>\n",
       "      <td>226</td>\n",
       "      <td>1045700</td>\n",
       "    </tr>\n",
       "    <tr>\n",
       "      <th>76</th>\n",
       "      <td>LG전자</td>\n",
       "      <td>코드제로 A9 A940</td>\n",
       "      <td>94</td>\n",
       "      <td>388</td>\n",
       "      <td>990900</td>\n",
       "    </tr>\n",
       "    <tr>\n",
       "      <th>87</th>\n",
       "      <td>LG전자</td>\n",
       "      <td>코드제로 A9 A930</td>\n",
       "      <td>93</td>\n",
       "      <td>387</td>\n",
       "      <td>970990</td>\n",
       "    </tr>\n",
       "    <tr>\n",
       "      <th>4</th>\n",
       "      <td>LG전자</td>\n",
       "      <td>코드제로 A9 A978</td>\n",
       "      <td>97</td>\n",
       "      <td>311</td>\n",
       "      <td>947360</td>\n",
       "    </tr>\n",
       "    <tr>\n",
       "      <th>243</th>\n",
       "      <td>삼성전자</td>\n",
       "      <td>제트 VS20R9077Q3</td>\n",
       "      <td>100</td>\n",
       "      <td>1</td>\n",
       "      <td>940710</td>\n",
       "    </tr>\n",
       "    <tr>\n",
       "      <th>191</th>\n",
       "      <td>삼성전자</td>\n",
       "      <td>제트 VS20R9074S3</td>\n",
       "      <td>94</td>\n",
       "      <td>61</td>\n",
       "      <td>932920</td>\n",
       "    </tr>\n",
       "  </tbody>\n",
       "</table>\n",
       "</div>"
      ],
      "text/plain": [
       "      회사명              제품  포인트  리뷰수       가격\n",
       "119  삼성전자  제트 VS20T9278S7    0    0  1620000\n",
       "79   LG전자    코드제로 A9 A960   91   77  1264990\n",
       "102  LG전자  코드제로 A9S A9700    0    0  1223000\n",
       "229  LG전자    코드제로 싸이킹 K94  100    9  1200000\n",
       "60    다이슨      V8 모터헤드 헤파   94  226  1045700\n",
       "76   LG전자    코드제로 A9 A940   94  388   990900\n",
       "87   LG전자    코드제로 A9 A930   93  387   970990\n",
       "4    LG전자    코드제로 A9 A978   97  311   947360\n",
       "243  삼성전자  제트 VS20R9077Q3  100    1   940710\n",
       "191  삼성전자  제트 VS20R9074S3   94   61   932920"
      ]
     },
     "execution_count": 31,
     "metadata": {},
     "output_type": "execute_result"
    }
   ],
   "source": [
    "top_list = danawa_data.sort_values([\"가격\"], ascending = False)\n",
    "top_list.head(10)"
   ]
  },
  {
   "cell_type": "code",
   "execution_count": 32,
   "metadata": {},
   "outputs": [
    {
     "data": {
      "text/html": [
       "<div>\n",
       "<style scoped>\n",
       "    .dataframe tbody tr th:only-of-type {\n",
       "        vertical-align: middle;\n",
       "    }\n",
       "\n",
       "    .dataframe tbody tr th {\n",
       "        vertical-align: top;\n",
       "    }\n",
       "\n",
       "    .dataframe thead th {\n",
       "        text-align: right;\n",
       "    }\n",
       "</style>\n",
       "<table border=\"1\" class=\"dataframe\">\n",
       "  <thead>\n",
       "    <tr style=\"text-align: right;\">\n",
       "      <th></th>\n",
       "      <th>회사명</th>\n",
       "      <th>제품</th>\n",
       "      <th>포인트</th>\n",
       "      <th>리뷰수</th>\n",
       "      <th>가격</th>\n",
       "    </tr>\n",
       "  </thead>\n",
       "  <tbody>\n",
       "    <tr>\n",
       "      <th>179</th>\n",
       "      <td>이나프</td>\n",
       "      <td>ILVH-2000</td>\n",
       "      <td>95</td>\n",
       "      <td>994</td>\n",
       "      <td>33970</td>\n",
       "    </tr>\n",
       "    <tr>\n",
       "      <th>159</th>\n",
       "      <td>테팔</td>\n",
       "      <td>에어포스 라이트 TY6543KL</td>\n",
       "      <td>97</td>\n",
       "      <td>990</td>\n",
       "      <td>93170</td>\n",
       "    </tr>\n",
       "    <tr>\n",
       "      <th>9</th>\n",
       "      <td>LG전자</td>\n",
       "      <td>코드제로 A9 A958</td>\n",
       "      <td>96</td>\n",
       "      <td>965</td>\n",
       "      <td>799980</td>\n",
       "    </tr>\n",
       "    <tr>\n",
       "      <th>44</th>\n",
       "      <td>다이슨</td>\n",
       "      <td>V8 앱솔루트</td>\n",
       "      <td>94</td>\n",
       "      <td>922</td>\n",
       "      <td>440020</td>\n",
       "    </tr>\n",
       "    <tr>\n",
       "      <th>263</th>\n",
       "      <td>퀸메이드</td>\n",
       "      <td>QM-V200W</td>\n",
       "      <td>97</td>\n",
       "      <td>820</td>\n",
       "      <td>109350</td>\n",
       "    </tr>\n",
       "    <tr>\n",
       "      <th>69</th>\n",
       "      <td>경성오토비스</td>\n",
       "      <td>KAC-7100</td>\n",
       "      <td>94</td>\n",
       "      <td>799</td>\n",
       "      <td>124870</td>\n",
       "    </tr>\n",
       "    <tr>\n",
       "      <th>207</th>\n",
       "      <td>캐치웰</td>\n",
       "      <td>F8</td>\n",
       "      <td>95</td>\n",
       "      <td>795</td>\n",
       "      <td>169550</td>\n",
       "    </tr>\n",
       "    <tr>\n",
       "      <th>33</th>\n",
       "      <td>샤오미</td>\n",
       "      <td>SWDK-D260</td>\n",
       "      <td>94</td>\n",
       "      <td>774</td>\n",
       "      <td>74850</td>\n",
       "    </tr>\n",
       "    <tr>\n",
       "      <th>244</th>\n",
       "      <td>신일산업</td>\n",
       "      <td>SVC-650SG</td>\n",
       "      <td>87</td>\n",
       "      <td>763</td>\n",
       "      <td>28900</td>\n",
       "    </tr>\n",
       "    <tr>\n",
       "      <th>166</th>\n",
       "      <td>신일산업</td>\n",
       "      <td>SVC-680G</td>\n",
       "      <td>92</td>\n",
       "      <td>757</td>\n",
       "      <td>25200</td>\n",
       "    </tr>\n",
       "  </tbody>\n",
       "</table>\n",
       "</div>"
      ],
      "text/plain": [
       "        회사명                 제품  포인트  리뷰수      가격\n",
       "179     이나프          ILVH-2000   95  994   33970\n",
       "159      테팔  에어포스 라이트 TY6543KL   97  990   93170\n",
       "9      LG전자       코드제로 A9 A958   96  965  799980\n",
       "44      다이슨            V8 앱솔루트   94  922  440020\n",
       "263    퀸메이드           QM-V200W   97  820  109350\n",
       "69   경성오토비스           KAC-7100   94  799  124870\n",
       "207     캐치웰                 F8   95  795  169550\n",
       "33      샤오미          SWDK-D260   94  774   74850\n",
       "244    신일산업          SVC-650SG   87  763   28900\n",
       "166    신일산업           SVC-680G   92  757   25200"
      ]
     },
     "execution_count": 32,
     "metadata": {},
     "output_type": "execute_result"
    }
   ],
   "source": [
    "top_list = danawa_data.sort_values([\"리뷰수\", \"포인트\"], ascending = False)\n",
    "top_list.head(10)"
   ]
  },
  {
   "cell_type": "markdown",
   "metadata": {},
   "source": [
    "### 가격, 포인트, 리뷰수 평균, 최고, 최소값 알아보기"
   ]
  },
  {
   "cell_type": "code",
   "execution_count": 33,
   "metadata": {},
   "outputs": [
    {
     "name": "stdout",
     "output_type": "stream",
     "text": [
      "가격 평균 :  290922.36666666664\n",
      "포인트 평균 :  85.98\n",
      "리뷰수 평균 :  154.80666666666667\n",
      "가격 최고 :  1620000\n",
      "포인트 최고 :  100\n",
      "리뷰수 최고 :  994\n",
      "가격 최소 :  8330\n",
      "포인트 최소 :  0\n",
      "리뷰수 최소 :  0\n"
     ]
    }
   ],
   "source": [
    "price_mean_value = danawa_data['가격'].mean()\n",
    "point_mean_value = danawa_data['포인트'].mean()\n",
    "review_count_mean_value = danawa_data['리뷰수'].mean()\n",
    "\n",
    "print(\"가격 평균 : \", danawa_data['가격'].mean()) \n",
    "print(\"포인트 평균 : \", danawa_data['포인트'].mean())\n",
    "print(\"리뷰수 평균 : \", danawa_data['리뷰수'].mean())\n",
    "\n",
    "print(\"가격 최고 : \", danawa_data['가격'].max())\n",
    "print(\"포인트 최고 : \", danawa_data['포인트'].max())\n",
    "print(\"리뷰수 최고 : \", danawa_data['리뷰수'].max())\n",
    "\n",
    "print(\"가격 최소 : \", danawa_data['가격'].min())\n",
    "print(\"포인트 최소 : \", danawa_data['포인트'].min())\n",
    "print(\"리뷰수 최소 : \", danawa_data['리뷰수'].min())"
   ]
  },
  {
   "cell_type": "markdown",
   "metadata": {},
   "source": [
    "# 5. 차트 그려보기"
   ]
  },
  {
   "cell_type": "code",
   "execution_count": 36,
   "metadata": {},
   "outputs": [],
   "source": [
    "from matplotlib import font_manager, rc\n",
    "import matplotlib.pyplot as plt\n",
    "import platform \n",
    "\n",
    "# 그래프에서 한글 표기를 위한 글자체 변경(윈도우, 맥os 각각의 경우에 대해서 처리)\n",
    "font_path = ''\n",
    "if platform.system() == 'Windows': \n",
    "    font_path = 'c:/Windows/Fonts/malgun.ttf'\n",
    "    font_name = font_manager.FontProperties(fname=font_path).get_name()\n",
    "    rc('font', family=font_name)\n",
    "elif platform.system() == 'Darwin':\n",
    "    font_path = '/Users/$USER/Library/Fonts/AppleGothic.ttf'\n",
    "    rc('font', family='AppleGothic')\n",
    "else: \n",
    "    print('Check your OS system')"
   ]
  },
  {
   "cell_type": "code",
   "execution_count": 37,
   "metadata": {},
   "outputs": [
    {
     "data": {
      "text/html": [
       "<div>\n",
       "<style scoped>\n",
       "    .dataframe tbody tr th:only-of-type {\n",
       "        vertical-align: middle;\n",
       "    }\n",
       "\n",
       "    .dataframe tbody tr th {\n",
       "        vertical-align: top;\n",
       "    }\n",
       "\n",
       "    .dataframe thead th {\n",
       "        text-align: right;\n",
       "    }\n",
       "</style>\n",
       "<table border=\"1\" class=\"dataframe\">\n",
       "  <thead>\n",
       "    <tr style=\"text-align: right;\">\n",
       "      <th></th>\n",
       "      <th>회사명</th>\n",
       "      <th>제품</th>\n",
       "      <th>가격</th>\n",
       "      <th>포인트</th>\n",
       "      <th>리뷰수</th>\n",
       "    </tr>\n",
       "  </thead>\n",
       "  <tbody>\n",
       "    <tr>\n",
       "      <th>0</th>\n",
       "      <td>델로라</td>\n",
       "      <td>V11 파워 300W</td>\n",
       "      <td>139000</td>\n",
       "      <td>93</td>\n",
       "      <td>46</td>\n",
       "    </tr>\n",
       "    <tr>\n",
       "      <th>1</th>\n",
       "      <td>원더스리빙</td>\n",
       "      <td>다이나킹 Z9</td>\n",
       "      <td>299000</td>\n",
       "      <td>95</td>\n",
       "      <td>27</td>\n",
       "    </tr>\n",
       "    <tr>\n",
       "      <th>2</th>\n",
       "      <td>샤오미</td>\n",
       "      <td>Z11</td>\n",
       "      <td>155330</td>\n",
       "      <td>79</td>\n",
       "      <td>24</td>\n",
       "    </tr>\n",
       "    <tr>\n",
       "      <th>3</th>\n",
       "      <td>샤오미</td>\n",
       "      <td>드리미 V10</td>\n",
       "      <td>166020</td>\n",
       "      <td>92</td>\n",
       "      <td>322</td>\n",
       "    </tr>\n",
       "    <tr>\n",
       "      <th>4</th>\n",
       "      <td>LG전자</td>\n",
       "      <td>코드제로 A9 A978</td>\n",
       "      <td>956000</td>\n",
       "      <td>97</td>\n",
       "      <td>296</td>\n",
       "    </tr>\n",
       "  </tbody>\n",
       "</table>\n",
       "</div>"
      ],
      "text/plain": [
       "     회사명            제품      가격  포인트  리뷰수\n",
       "0    델로라   V11 파워 300W  139000   93   46\n",
       "1  원더스리빙       다이나킹 Z9  299000   95   27\n",
       "2    샤오미           Z11  155330   79   24\n",
       "3    샤오미       드리미 V10  166020   92  322\n",
       "4   LG전자  코드제로 A9 A978  956000   97  296"
      ]
     },
     "execution_count": 37,
     "metadata": {},
     "output_type": "execute_result"
    }
   ],
   "source": [
    "import pandas as pd\n",
    "danawa_data = pd.read_excel('./files/danawa_data_final.xlsx')\n",
    "danawa_data.head()"
   ]
  },
  {
   "cell_type": "markdown",
   "metadata": {},
   "source": [
    "## 회사별 가격 boxplot 차트 그려보기"
   ]
  },
  {
   "cell_type": "code",
   "execution_count": 38,
   "metadata": {
    "scrolled": true
   },
   "outputs": [
    {
     "data": {
      "image/png": "[encoded data removed]",
      "text/plain": [
       "<Figure size 360x360 with 1 Axes>"
      ]
     },
     "metadata": {
      "needs_background": "light"
     },
     "output_type": "display_data"
    }
   ],
   "source": [
    "company_name = 'LG전자'\n",
    "value_name = '가격'\n",
    "\n",
    "chart1 = danawa_data[danawa_data['회사명'] == company_name]\n",
    "chart = chart1.boxplot(column=[value_name], figsize=(5,5)) \n",
    "plt.title(company_name)\n",
    "plt.show()"
   ]
  },
  {
   "cell_type": "markdown",
   "metadata": {},
   "source": [
    "## TOP 10 회사 점유율 알아보기 "
   ]
  },
  {
   "cell_type": "code",
   "execution_count": 39,
   "metadata": {},
   "outputs": [
    {
     "data": {
      "image/png": "[encoded data removed]",
      "text/plain": [
       "<Figure size 432x288 with 1 Axes>"
      ]
     },
     "metadata": {},
     "output_type": "display_data"
    }
   ],
   "source": [
    "df3 = danawa_data[\"회사명\"].value_counts()\n",
    "df3 = df3[:10] # TOP 10개만 보여주도록 함 \n",
    "df3.plot.pie(autopct='%.2f%%')\n",
    "plt.title(\"무선청소기 회사 점유율\")\n",
    "plt.show()"
   ]
  },
  {
   "cell_type": "code",
   "execution_count": null,
   "metadata": {},
   "outputs": [],
   "source": []
  }
 ],
 "metadata": {
  "kernelspec": {
   "display_name": "Python 3",
   "language": "python",
   "name": "python3"
  },
  "language_info": {
   "codemirror_mode": {
    "name": "ipython",
    "version": 3
   },
   "file_extension": ".py",
   "mimetype": "text/x-python",
   "name": "python",
   "nbconvert_exporter": "python",
   "pygments_lexer": "ipython3",
   "version": "3.7.3"
  }
 },
 "nbformat": 4,
 "nbformat_minor": 2
}
