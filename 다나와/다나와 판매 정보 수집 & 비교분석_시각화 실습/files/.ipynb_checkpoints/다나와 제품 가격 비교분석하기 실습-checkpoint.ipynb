{
 "cells": [
  {
   "cell_type": "markdown",
   "metadata": {},
   "source": [
    "# 다나와 제품 가격 비교 분석 맛보기\n",
    "1. 데이터 수집해보기 (한페이지 크롤링)\n",
    "    1. 반복문으로 한페이지 제품정보 모두 가져오기\n",
    "    1. 제품정보 가져오는 함수 만들어 보기\n",
    "    1. 함수 테스트 작동 확인\n",
    "1. 여러 페이지 (10 page) 데이터 수집\n",
    "    1. 다나와 검색 URL을 만들어주는 함수 만들어보기\n",
    "    1. 크롤링 결과 저장\n",
    "1. 데이터 분석하기\n",
    "    1. 가격, 리뷰수, 포인트 순으로 정렬해보기\n",
    "    1. 가격, 포인트, 리뷰수 평균, 최고, 최소값 알아보기\n",
    "1. 차트 그려보기\n",
    "    1. 회사별 가격 boxplot 차트 그려보기\n",
    "    1. TOP 10 회사 점유율 알아보기\n",
    "    \n",
    "\n"
   ]
  },
  {
   "cell_type": "markdown",
   "metadata": {},
   "source": [
    "# 0. 들어가기에 앞서 \n",
    " - 함수 만들어서 보기\n",
    " - range 함수 사용법\n",
    " - 반복문 실습 \n",
    " "
   ]
  },
  {
   "cell_type": "markdown",
   "metadata": {},
   "source": [
    "# 1. 데이터 수집 해보기 (한 페이지 크롤링)"
   ]
  },
  {
   "cell_type": "markdown",
   "metadata": {},
   "source": [
    "### 다나와 검색 페이지 접속"
   ]
  },
  {
   "cell_type": "code",
   "execution_count": null,
   "metadata": {},
   "outputs": [],
   "source": []
  },
  {
   "cell_type": "markdown",
   "metadata": {},
   "source": [
    "### 다나와 검색 웹 페이지에서 상품 정보 가져오기"
   ]
  },
  {
   "cell_type": "code",
   "execution_count": null,
   "metadata": {},
   "outputs": [],
   "source": []
  },
  {
   "cell_type": "markdown",
   "metadata": {},
   "source": [
    "### 크롬 개발자 도구를 이용하여 정확하게 정보 가져오기 실습\n",
    "```\n",
    "# 대표 엘리먼트 \n",
    "prod_items = soup.select('.main_prodlist > .product_list > .prod_item')\n",
    "\n",
    "# 텍스트 \n",
    "title = prod_items[0].select('p.prod_name > a')[0].text.strip()\n",
    "title_info = title.split(' ', 1)\n",
    "company = title_info[0]\n",
    "model = title_info[1]\n",
    "\n",
    "# 숫자형\n",
    "point = prod_items[0].select('div.point_num > strong')[0].text.strip()\n",
    "review_count = prod_items[0].select('div.cnt_opinion > a > strong')[0].text.strip()\n",
    "price = prod_items[0].select('p.price_sect > a > strong')[0].text.strip().replace(\",\",\"\")\n",
    "\n",
    "```"
   ]
  },
  {
   "cell_type": "markdown",
   "metadata": {},
   "source": [
    "### 상품명, 포인트, 리뷰수, 가격 정보 가져오기 실습"
   ]
  },
  {
   "cell_type": "code",
   "execution_count": null,
   "metadata": {},
   "outputs": [],
   "source": []
  },
  {
   "cell_type": "markdown",
   "metadata": {},
   "source": [
    "### 반복문으로 검색 결과의 1페이지에 대한 상품 정보 추출\n",
    "~~~\n",
    "prod_data = []\n",
    "for prod_item in prod_items:\n",
    "    try: \n",
    "       \n",
    "    except:\n",
    "       \n",
    "    prod_data.append([company, model, point, review_count, price])\n",
    "~~~\n"
   ]
  },
  {
   "cell_type": "code",
   "execution_count": null,
   "metadata": {
    "scrolled": true
   },
   "outputs": [],
   "source": [
    "\n"
   ]
  },
  {
   "cell_type": "code",
   "execution_count": null,
   "metadata": {},
   "outputs": [],
   "source": [
    "print(len(prod_data))\n"
   ]
  },
  {
   "cell_type": "code",
   "execution_count": null,
   "metadata": {},
   "outputs": [],
   "source": [
    "print(prod_data)"
   ]
  },
  {
   "cell_type": "markdown",
   "metadata": {},
   "source": [
    "### 반복문으로 검색 결과의 상품 정보 추출 하는 함수 만들어보기\n",
    "~~~\n",
    "def get_prod_items(prod_items):\n",
    "    prod_data = []     \n",
    "    return prod_data;\n",
    "~~~"
   ]
  },
  {
   "cell_type": "code",
   "execution_count": null,
   "metadata": {},
   "outputs": [],
   "source": []
  },
  {
   "cell_type": "code",
   "execution_count": null,
   "metadata": {},
   "outputs": [],
   "source": [
    "# 상품 정보를 가져오는 함수 테스트\n",
    "prod_data = get_prod_items(prod_items)\n",
    "print(len(prod_data))"
   ]
  },
  {
   "cell_type": "markdown",
   "metadata": {},
   "source": [
    "# 2. 여러 페이지에 걸친 상품 정보 수집\n",
    "~~~\n",
    "def get_search_page_url(keyword, page):\n",
    "    return \n",
    "    \n",
    "keyword = '무선청소기'\n",
    "page = 2\n",
    "url = get_search_page_url(keyword, page)\n",
    "print(url)\n",
    "\n",
    "for page in range(1, total_page + 1):\n",
    "    print(get_search_page_url)\n",
    "~~~"
   ]
  },
  {
   "cell_type": "code",
   "execution_count": null,
   "metadata": {},
   "outputs": [],
   "source": []
  },
  {
   "cell_type": "code",
   "execution_count": null,
   "metadata": {},
   "outputs": [],
   "source": [
    "prod_data_total"
   ]
  },
  {
   "cell_type": "code",
   "execution_count": null,
   "metadata": {},
   "outputs": [],
   "source": [
    "print(len(prod_data_total))"
   ]
  },
  {
   "cell_type": "markdown",
   "metadata": {},
   "source": [
    "## 수집 데이터 저장 \n",
    "~~~\n",
    "'회사명', '제품', '포인트', '리뷰수', '가격'\n",
    "~~~"
   ]
  },
  {
   "cell_type": "markdown",
   "metadata": {},
   "source": [
    "# 3. 데이터 분석하기"
   ]
  },
  {
   "cell_type": "code",
   "execution_count": null,
   "metadata": {
    "scrolled": true
   },
   "outputs": [],
   "source": [
    "# 저장 데이터 불러오기"
   ]
  },
  {
   "cell_type": "markdown",
   "metadata": {},
   "source": [
    "### 가격, 리뷰수, 포인트 순으로 정렬해보기 \n",
    " - sort_values"
   ]
  },
  {
   "cell_type": "code",
   "execution_count": null,
   "metadata": {},
   "outputs": [],
   "source": []
  },
  {
   "cell_type": "markdown",
   "metadata": {},
   "source": [
    "### 가격, 포인트, 리뷰수 평균, 최고, 최소값 알아보기\n",
    " - mean, max, min"
   ]
  },
  {
   "cell_type": "code",
   "execution_count": null,
   "metadata": {},
   "outputs": [],
   "source": []
  },
  {
   "cell_type": "markdown",
   "metadata": {},
   "source": [
    "# 4. 차트 그려보기"
   ]
  },
  {
   "cell_type": "code",
   "execution_count": null,
   "metadata": {},
   "outputs": [],
   "source": [
    "from matplotlib import font_manager, rc\n",
    "import matplotlib.pyplot as plt\n",
    "import platform \n",
    "\n",
    "# 그래프에서 한글 표기를 위한 글자체 변경(윈도우, 맥os 각각의 경우에 대해서 처리)\n",
    "font_path = ''\n",
    "if platform.system() == 'Windows': \n",
    "    font_path = 'c:/Windows/Fonts/malgun.ttf'\n",
    "    font_name = font_manager.FontProperties(fname=font_path).get_name()\n",
    "    rc('font', family=font_name)\n",
    "elif platform.system() == 'Darwin':\n",
    "    font_path = '/Users/$USER/Library/Fonts/AppleGothic.ttf'\n",
    "    rc('font', family='AppleGothic')\n",
    "else: \n",
    "    print('Check your OS system')"
   ]
  },
  {
   "cell_type": "code",
   "execution_count": null,
   "metadata": {},
   "outputs": [],
   "source": [
    "import pandas as pd\n",
    "danawa_data = pd.read_excel('./files/danawa_data_final.xlsx')\n",
    "danawa_data.head()"
   ]
  },
  {
   "cell_type": "markdown",
   "metadata": {},
   "source": [
    "## 회사별 가격 boxplot 차트 그려보기"
   ]
  },
  {
   "cell_type": "code",
   "execution_count": null,
   "metadata": {
    "scrolled": true
   },
   "outputs": [],
   "source": []
  },
  {
   "cell_type": "markdown",
   "metadata": {},
   "source": [
    "## TOP 10 회사 점유율 알아보기 "
   ]
  },
  {
   "cell_type": "code",
   "execution_count": null,
   "metadata": {},
   "outputs": [],
   "source": []
  }
 ],
 "metadata": {
  "kernelspec": {
   "display_name": "Python 3",
   "language": "python",
   "name": "python3"
  },
  "language_info": {
   "codemirror_mode": {
    "name": "ipython",
    "version": 3
   },
   "file_extension": ".py",
   "mimetype": "text/x-python",
   "name": "python",
   "nbconvert_exporter": "python",
   "pygments_lexer": "ipython3",
   "version": "3.7.3"
  }
 },
 "nbformat": 4,
 "nbformat_minor": 2
}
