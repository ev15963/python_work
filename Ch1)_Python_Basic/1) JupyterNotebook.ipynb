{
 "cells": [
  {
   "cell_type": "markdown",
   "metadata": {},
   "source": [
    "# 1.쥬피터노트북\n",
    "\n",
    " - 쥬피터 노트북 특징: 셀 단위 입력 / 실행 / 결과 확인"
   ]
  },
  {
   "cell_type": "markdown",
   "metadata": {},
   "source": [
    "### 1.1 입력/실행하기"
   ]
  },
  {
   "cell_type": "code",
   "execution_count": null,
   "metadata": {},
   "outputs": [],
   "source": [
    "# 회색의 네모 박스가 하나의 셀 입니다. \n",
    "# 이 곳에 적고 싶은 내용을 적으면 됩니다. "
   ]
  },
  {
   "cell_type": "code",
   "execution_count": null,
   "metadata": {},
   "outputs": [],
   "source": [
    "처음이라 정신 없으시죠?\n",
    "이 곳에 원하는 내용을 입력하시고 실행 해볼께요. \n",
    "------------------------------------------------\n",
    "\n",
    "홍길동\n",
    "\n",
    "------------------------------------------------\n",
    "\n",
    "실행은  컨트롤(Ctrl) + 엔터  or  시프트(Shift) + 엔터\n"
   ]
  },
  {
   "cell_type": "code",
   "execution_count": null,
   "metadata": {},
   "outputs": [],
   "source": [
    "# 에러가 보이시나요??"
   ]
  },
  {
   "cell_type": "code",
   "execution_count": null,
   "metadata": {
    "scrolled": true
   },
   "outputs": [],
   "source": [
    "# 아래 코드도 실행해보겠습니다.   \n",
    "\n",
    "print('print() 화면에 출력하는 명령입니다. ')      #  샵(#) 기호 뒤에 주석 작성 가능\n",
    "\n",
    "print('한번 실행해 보시지요')\n",
    "\n",
    "#실행은 컨트롤 + 엔터  or  시프트 + 엔터\n"
   ]
  },
  {
   "cell_type": "markdown",
   "metadata": {},
   "source": [
    "### 1.2. 셀  컨트롤: 추가  / 삭제"
   ]
  },
  {
   "cell_type": "markdown",
   "metadata": {},
   "source": [
    " - 셀 추가(a, b): esc 를 눌러서 커맨드 모드 -->  'a' 입력시   현재 셀 위(above)에 셀 추가 / 'b' 입력시 현재 셀 아래(below)에 셀 추가 \n",
    " - 삭제(dd) "
   ]
  },
  {
   "cell_type": "code",
   "execution_count": null,
   "metadata": {},
   "outputs": [],
   "source": [
    "# 'a' 를 눌러서 셀 추가를 해보세요"
   ]
  },
  {
   "cell_type": "code",
   "execution_count": null,
   "metadata": {},
   "outputs": [],
   "source": [
    "# 'b' 를 눌러서 셀 추가를 해보세요"
   ]
  },
  {
   "cell_type": "markdown",
   "metadata": {},
   "source": [
    "# print('실행이 되지 않아요....')"
   ]
  },
  {
   "cell_type": "code",
   "execution_count": null,
   "metadata": {},
   "outputs": [],
   "source": [
    "# 'dd' 셀 삭제"
   ]
  },
  {
   "cell_type": "markdown",
   "metadata": {},
   "source": [
    "### 1.3.주석 사용하기(#)"
   ]
  },
  {
   "cell_type": "code",
   "execution_count": null,
   "metadata": {},
   "outputs": [],
   "source": [
    "print('실행이 안될때???')"
   ]
  },
  {
   "cell_type": "code",
   "execution_count": null,
   "metadata": {},
   "outputs": [],
   "source": [
    "# print('실행이 안될때???')"
   ]
  },
  {
   "cell_type": "code",
   "execution_count": null,
   "metadata": {},
   "outputs": [],
   "source": [
    "# 이 부분은 화면에 출력이 되지 않습니다.   '메모' 라고 생각하시면 좋아요. \n",
    "\n",
    "print('#을 입력하면 주석으로 표시되어 컴퓨터는 무시합니다')     # 코드 뒷부분도 주석 가능\n",
    "print(3+4)     # 주석주석ㅁㅁㅁㅁㅁㅁㅁㅁaaaaaaa"
   ]
  },
  {
   "cell_type": "markdown",
   "metadata": {},
   "source": [
    "※ 주석 만드는 법\n",
    " 1. \"#\"뒤에 원하는 내용 기입하기\n",
    " 1.  주석처리 원하는 행을 선택 후(복수도 가능) ***컨트롤+'/'***  \n",
    "     * 다시 한번 더 할 경우 취소도 가능\n",
    "     * 복수의 행도 가능하기에, 코드 실행여부 확인 및 수정 작업시 매우 유용하게 사용 가능합니다. "
   ]
  },
  {
   "cell_type": "markdown",
   "metadata": {},
   "source": [
    "### 1.4 기타 Tip"
   ]
  },
  {
   "cell_type": "markdown",
   "metadata": {},
   "source": [
    "* 라인 넘버 보기 : 메뉴 --> View --> Toggle line numbers 활성화"
   ]
  },
  {
   "cell_type": "markdown",
   "metadata": {},
   "source": [
    "* 하나의 셀 에는 두 가지 모드가 있습니다. \n",
    "\n",
    "        - 더블 클릭 혹은 엔터를 입력하면 -->  편집 모드: 셀 안에 입력 가능\n",
    "        - ESC 를 누르시면 --> 커맨드 모드: 셀 추가, 삭제 등 편집 가능\n"
   ]
  },
  {
   "cell_type": "markdown",
   "metadata": {},
   "source": [
    "* 메뉴바의 Help Keyboard shortcut 을 입력하면 기능 확인 가능"
   ]
  },
  {
   "cell_type": "markdown",
   "metadata": {},
   "source": [
    "* 코드 실행이 되지 않을 경우!\n",
    "\n",
    "    셀 타입이 code 로 되어있는지 확인해주세요~ (메뉴 --> 셀 --> 셀 타입)"
   ]
  },
  {
   "cell_type": "markdown",
   "metadata": {},
   "source": [
    "### ※ 마크다운 사용하기\n",
    " - 빠르고 간편하게 문서 작성 가능합니다. (정해진 서식을 빠르게 활용 가능)\n",
    " - 쥬피터 노트북 내용을 pdf나 html  로 저장 가능 ▶ 반복되는 보고서/리포터 작성 용이"
   ]
  },
  {
   "cell_type": "markdown",
   "metadata": {},
   "source": [
    "# 제목\n",
    "\n",
    "## 제목\n",
    "\n",
    "####  제목 "
   ]
  },
  {
   "cell_type": "markdown",
   "metadata": {},
   "source": [
    "# 제목\n",
    "## 소제목\n",
    "###  더작은제목"
   ]
  },
  {
   "cell_type": "markdown",
   "metadata": {},
   "source": [
    "# 1제목\n",
    "## 2제목\n",
    "### 3제목\n",
    "\n",
    " - 목차1\n",
    " - 목차2"
   ]
  },
  {
   "cell_type": "markdown",
   "metadata": {},
   "source": [
    "----"
   ]
  }
 ],
 "metadata": {
  "kernelspec": {
   "display_name": "Python 3",
   "language": "python",
   "name": "python3"
  },
  "language_info": {
   "codemirror_mode": {
    "name": "ipython",
    "version": 3
   },
   "file_extension": ".py",
   "mimetype": "text/x-python",
   "name": "python",
   "nbconvert_exporter": "python",
   "pygments_lexer": "ipython3",
   "version": "3.6.7"
  }
 },
 "nbformat": 4,
 "nbformat_minor": 2
}
