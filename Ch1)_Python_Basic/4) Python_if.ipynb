{
 "cells": [
  {
   "cell_type": "markdown",
   "metadata": {},
   "source": [
    "### 2.4 조건문(if)"
   ]
  },
  {
   "cell_type": "markdown",
   "metadata": {},
   "source": [
    "#### 2.4.1 조건문 기본 개념"
   ]
  },
  {
   "cell_type": "markdown",
   "metadata": {},
   "source": [
    "만약 A 하다면 --> ㄱ \n",
    "\n",
    "     A 아니라면 ---> ㄴ"
   ]
  },
  {
   "cell_type": "code",
   "execution_count": null,
   "metadata": {},
   "outputs": [],
   "source": [
    "if A :\n",
    "    ㄱ\n",
    "    \n",
    "    \n",
    "else:\n",
    "    ㄴ"
   ]
  },
  {
   "cell_type": "raw",
   "metadata": {},
   "source": [
    "만약 A 하다면 --> ㄱ\n",
    "     A 는 아니면서,  B 하다면 --> ㄴ\n",
    "     A, B 아니면서  C  하다면 --> ㄷ\n",
    "     A,B,C 아님녀서 D 하다면  --> ㄹ\n",
    "     위 조건 모두 아닐 경우 --> ㅋ\n",
    "        "
   ]
  },
  {
   "cell_type": "code",
   "execution_count": null,
   "metadata": {},
   "outputs": [],
   "source": [
    "if A:\n",
    "    ㄱ\n",
    "elif B:\n",
    "    ㄴ\n",
    "elif C:\n",
    "    ㄷ\n",
    "elif D:\n",
    "    ㄹ\n",
    "else:\n",
    "    ㅋ"
   ]
  },
  {
   "cell_type": "code",
   "execution_count": null,
   "metadata": {},
   "outputs": [],
   "source": [
    "#  홀 / 짝 판단하기\n",
    "\n",
    "n = 20   # 자연수 입력\n",
    "\n",
    "if n <= 0: \n",
    "    print('1 이상의 자연수를 입력해주세요')\n",
    "elif n % 2 == 0:\n",
    "    print('짝수 입니다')\n",
    "else:\n",
    "    print('홀수 입니다')"
   ]
  },
  {
   "cell_type": "markdown",
   "metadata": {},
   "source": [
    "#### 2.4.2 크기 비교"
   ]
  },
  {
   "cell_type": "code",
   "execution_count": null,
   "metadata": {},
   "outputs": [],
   "source": [
    "# 동일한 크기 / 가격, 비슷한 위치 조건의 집  조건 비교하기(도보 5분거리 시설물 비교)\n",
    "\n",
    "house_A = ['스타벅스', '편의점', '마트', '병원']\n",
    "\n",
    "house_B = ['시장', '편의점', '코인노래방' ]"
   ]
  },
  {
   "cell_type": "code",
   "execution_count": null,
   "metadata": {},
   "outputs": [],
   "source": [
    "print(len(house_A))\n",
    "\n",
    "print(len(house_B))"
   ]
  },
  {
   "cell_type": "code",
   "execution_count": null,
   "metadata": {},
   "outputs": [],
   "source": [
    "# 단순하게 주변 편의시설 많은 곳 선택하기\n",
    "\n",
    "if len(house_A) < len(house_B):\n",
    "    print('선택 - 집B')\n",
    "    \n",
    "elif len(house_A) > len(house_B):\n",
    "    print('선택 - 집A')\n",
    "    \n",
    "else :\n",
    "    print('다른 조건들도 비교하기: 지하철, 버스정거장, 도서관, PC방,.... ')"
   ]
  },
  {
   "cell_type": "markdown",
   "metadata": {},
   "source": [
    "#### 2.4.3 동일  /포함 여부 비교"
   ]
  },
  {
   "cell_type": "markdown",
   "metadata": {},
   "source": [
    "`A  == B`\n",
    "\n",
    "\"A 와 B 는 같은가??\""
   ]
  },
  {
   "cell_type": "code",
   "execution_count": null,
   "metadata": {},
   "outputs": [],
   "source": [
    "house_A = ['스타벅스', '편의점', '마트', '병원']\n",
    "check = '스타벅스'"
   ]
  },
  {
   "cell_type": "code",
   "execution_count": null,
   "metadata": {},
   "outputs": [],
   "source": [
    "# 일치 여부 점검      A ==  B\n",
    "check == house_A          "
   ]
  },
  {
   "cell_type": "code",
   "execution_count": null,
   "metadata": {},
   "outputs": [],
   "source": [
    "# 불일치 여부 점검\n",
    "check != house_A"
   ]
  },
  {
   "cell_type": "markdown",
   "metadata": {},
   "source": [
    "`A in group_C`\n",
    "\n",
    "\"A가 그룹C 안에 포함되어 있는 가?\""
   ]
  },
  {
   "cell_type": "code",
   "execution_count": null,
   "metadata": {
    "scrolled": true
   },
   "outputs": [],
   "source": [
    "# 포함 여부 점검       원소 in 집합\n",
    "check in house_A"
   ]
  },
  {
   "cell_type": "code",
   "execution_count": null,
   "metadata": {
    "scrolled": true
   },
   "outputs": [],
   "source": [
    "'스타 벅스' in house_A  #띄어쓰기도 하나의 문자"
   ]
  },
  {
   "cell_type": "markdown",
   "metadata": {},
   "source": [
    "`A not in group_C`\n",
    "\n",
    "\"A가 그룹C에 존재하지 않는가?\""
   ]
  },
  {
   "cell_type": "code",
   "execution_count": null,
   "metadata": {},
   "outputs": [],
   "source": [
    "house_B = ['시장', '편의점', '코인노래방' ]\n",
    "starbucks_check = '스타벅스' not in house_B\n",
    "print(starbucks_check)"
   ]
  },
  {
   "cell_type": "markdown",
   "metadata": {},
   "source": [
    "---"
   ]
  }
 ],
 "metadata": {
  "anaconda-cloud": {},
  "kernelspec": {
   "display_name": "Python 3",
   "language": "python",
   "name": "python3"
  },
  "language_info": {
   "codemirror_mode": {
    "name": "ipython",
    "version": 3
   },
   "file_extension": ".py",
   "mimetype": "text/x-python",
   "name": "python",
   "nbconvert_exporter": "python",
   "pygments_lexer": "ipython3",
   "version": "3.6.7"
  }
 },
 "nbformat": 4,
 "nbformat_minor": 2
}
