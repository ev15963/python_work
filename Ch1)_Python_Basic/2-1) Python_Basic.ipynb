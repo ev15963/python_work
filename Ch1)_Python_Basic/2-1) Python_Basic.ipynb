{
 "cells": [
  {
   "cell_type": "markdown",
   "metadata": {},
   "source": [
    "# 2. 파이썬 살펴보기"
   ]
  },
  {
   "cell_type": "markdown",
   "metadata": {},
   "source": [
    "### 2.1.파이썬 기초: 입/출력"
   ]
  },
  {
   "cell_type": "code",
   "execution_count": null,
   "metadata": {},
   "outputs": [],
   "source": [
    "# 셀 안에는 문자들이 입력 가능하며,  여러 줄을 입력할 수도 있습니다. \n",
    "#변수명 = 값  "
   ]
  },
  {
   "cell_type": "code",
   "execution_count": null,
   "metadata": {},
   "outputs": [],
   "source": [
    "a1 = '사과'\n",
    "a1"
   ]
  },
  {
   "cell_type": "code",
   "execution_count": null,
   "metadata": {},
   "outputs": [],
   "source": [
    "a1 = '배'"
   ]
  },
  {
   "cell_type": "code",
   "execution_count": null,
   "metadata": {
    "scrolled": true
   },
   "outputs": [],
   "source": [
    "a1"
   ]
  },
  {
   "cell_type": "code",
   "execution_count": null,
   "metadata": {},
   "outputs": [],
   "source": [
    "a1 = '사과'\n",
    "p1 = 3000    #숫자\n",
    "p2 = \"400\"    # 문자 입력시  '문자'   \" 문자\"   둘 다 가능합니다. \n",
    "a1 = '감감감감'"
   ]
  },
  {
   "cell_type": "code",
   "execution_count": null,
   "metadata": {
    "scrolled": false
   },
   "outputs": [],
   "source": [
    "a1"
   ]
  },
  {
   "cell_type": "code",
   "execution_count": null,
   "metadata": {
    "scrolled": true
   },
   "outputs": [],
   "source": [
    "p2"
   ]
  },
  {
   "cell_type": "code",
   "execution_count": null,
   "metadata": {},
   "outputs": [],
   "source": [
    "a1\n",
    "p2"
   ]
  },
  {
   "cell_type": "markdown",
   "metadata": {},
   "source": [
    "print(값)  : 화면에 출력  << 값 >>"
   ]
  },
  {
   "cell_type": "code",
   "execution_count": null,
   "metadata": {},
   "outputs": [],
   "source": [
    "print(a1)\n",
    "print(p2)"
   ]
  },
  {
   "cell_type": "markdown",
   "metadata": {},
   "source": [
    "print(값1, 값2, 값3)"
   ]
  },
  {
   "cell_type": "code",
   "execution_count": null,
   "metadata": {},
   "outputs": [],
   "source": [
    "print(1,2,3,4,5)"
   ]
  },
  {
   "cell_type": "markdown",
   "metadata": {},
   "source": [
    "print(값1, 값2, 값3, sep = '|')\n",
    "\n",
    "- 구분 기호 조정 가능 (sep = '구분자')"
   ]
  },
  {
   "cell_type": "code",
   "execution_count": null,
   "metadata": {},
   "outputs": [],
   "source": [
    "print('데이터공방' ,'데이터분석', '크롤링','데이터수집/분석', sep = ' | ')"
   ]
  },
  {
   "cell_type": "code",
   "execution_count": null,
   "metadata": {},
   "outputs": [],
   "source": [
    "print('사과','배','감','귤', sep = ' ')"
   ]
  },
  {
   "cell_type": "code",
   "execution_count": null,
   "metadata": {
    "scrolled": true
   },
   "outputs": [],
   "source": [
    "print('사과','배','감','귤', sep = '  ***   ')  "
   ]
  },
  {
   "cell_type": "markdown",
   "metadata": {},
   "source": [
    "### 실습"
   ]
  },
  {
   "cell_type": "markdown",
   "metadata": {},
   "source": [
    "- 실습1) 아래 내용을 화면에 출력해 보세요\n",
    "\n",
    "`이름`\n",
    "\n",
    "`휴대폰번호 뒷 4자리`\n",
    "\n",
    "`거주지`(OO구 OO동)\n",
    "\n",
    "`하는일/업무`\n",
    "\n",
    "\n"
   ]
  },
  {
   "cell_type": "code",
   "execution_count": null,
   "metadata": {},
   "outputs": [],
   "source": [
    "# 실습1)\n",
    "name =  '장남수'\n",
    "phone =  '0065'\n",
    "add =   \"염창동\"\n",
    "job =   '데이터분석'\n",
    "\n",
    "# print(name, phone, add, job)   \n",
    "print(name, phone, add, job, sep = '\\t')      # Mac의 경우   ＼ 역슬러시"
   ]
  },
  {
   "cell_type": "code",
   "execution_count": null,
   "metadata": {},
   "outputs": [],
   "source": [
    "# 실습1) \n"
   ]
  },
  {
   "cell_type": "markdown",
   "metadata": {},
   "source": [
    "- 실습2)\n",
    " `수강 목적`  or  강의 수강후 `활용 계획`  에 대해 적어보세요. "
   ]
  },
  {
   "cell_type": "code",
   "execution_count": null,
   "metadata": {},
   "outputs": [],
   "source": [
    "# 실습2) \n"
   ]
  },
  {
   "cell_type": "markdown",
   "metadata": {},
   "source": [
    "사칙연산하기"
   ]
  },
  {
   "cell_type": "code",
   "execution_count": null,
   "metadata": {
    "scrolled": true
   },
   "outputs": [],
   "source": [
    "# 숫자 사칙연산\n",
    "a = 9\n",
    "b = 5\n",
    "\n",
    "print(a*b)\n",
    "print(a+b)\n",
    "print(a/b)\n",
    "print(a//b)  # a/b 의 몫\n",
    "print(a%b)   # a/b 의 나머지"
   ]
  },
  {
   "cell_type": "markdown",
   "metadata": {},
   "source": [
    "데이터 type: 문자, 숫자"
   ]
  },
  {
   "cell_type": "code",
   "execution_count": null,
   "metadata": {},
   "outputs": [],
   "source": [
    "# 사칙연산 : 문자 + 숫자 ? \n",
    "\n",
    "a1 = '사과'\n",
    "p1 = 3000    #숫자\n",
    "p2 = \"400\"    # 문자 입력시  '문자'   \" 문자\"   둘 다 가능합니다. \n",
    "\n",
    "print(a1)\n",
    "print(p1*3)  "
   ]
  },
  {
   "cell_type": "code",
   "execution_count": null,
   "metadata": {},
   "outputs": [],
   "source": [
    "# 사칙연산 : 문자 + 숫자 ? \n",
    "\n",
    "a1 = '사과'\n",
    "p1 = 3000    #숫자\n",
    "p2 = \"400\"    # 문자 입력시  '문자'   \" 문자\"   둘 다 가능합니다. \n",
    "\n",
    "print(a1)\n",
    "print(p1*3)  \n",
    "\n",
    "print(p1+p2)  \n",
    "# 오류??  "
   ]
  },
  {
   "cell_type": "code",
   "execution_count": null,
   "metadata": {},
   "outputs": [],
   "source": [
    "# 사칙연산 : 문자 + 숫자 ? \n",
    "\n",
    "a1 = '사과'\n",
    "p1 = 3000    #숫자\n",
    "p2 = \"400\"    # 문자 입력시  '문자'   \" 문자\"   둘 다 가능합니다. \n",
    "\n",
    "print(a1)\n",
    "print(p1*3)  \n",
    "\n",
    "# 문자를 숫자로 -->  int()\n",
    "print(p1 + int(p2))   #float() 은 실수 일때\n"
   ]
  },
  {
   "cell_type": "code",
   "execution_count": null,
   "metadata": {},
   "outputs": [],
   "source": [
    "# 사칙연산 : 문자 + 숫자 ? \n",
    "\n",
    "a1 = '사과'\n",
    "p1 = 3000    #숫자\n",
    "p2 = \"400\"    # 문자 입력시  '문자'   \" 문자\"   둘 다 가능합니다. \n",
    "\n",
    "print(a1)\n",
    "print(p1*3)  \n",
    "\n",
    "# 숫자를 문자로  str()\n",
    "print( str(p1) + p2  )"
   ]
  }
 ],
 "metadata": {
  "kernelspec": {
   "display_name": "Python 3",
   "language": "python",
   "name": "python3"
  },
  "language_info": {
   "codemirror_mode": {
    "name": "ipython",
    "version": 3
   },
   "file_extension": ".py",
   "mimetype": "text/x-python",
   "name": "python",
   "nbconvert_exporter": "python",
   "pygments_lexer": "ipython3",
   "version": "3.6.7"
  }
 },
 "nbformat": 4,
 "nbformat_minor": 2
}
