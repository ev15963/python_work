{
 "cells": [
  {
   "cell_type": "markdown",
   "metadata": {},
   "source": [
    "# 3. 문자열 입출력"
   ]
  },
  {
   "cell_type": "markdown",
   "metadata": {},
   "source": [
    " ### 3.1. 문자열 입력하기"
   ]
  },
  {
   "cell_type": "code",
   "execution_count": null,
   "metadata": {},
   "outputs": [],
   "source": [
    "# 문자열 입력하기\n",
    "munja = \"  가나다  \"    # 앞 2개, 뒤 2개의 공백문자도 하나의 문자임\n",
    "s1 = '문자열의 입력은 따옴표 사이에 입력하시면 됩니다.'\n",
    "print(munja)\n",
    "print(s1)\n",
    "\n",
    "print(len(munja))   # 공백문자도 문자"
   ]
  },
  {
   "cell_type": "code",
   "execution_count": null,
   "metadata": {},
   "outputs": [],
   "source": [
    "say1 = '안녕하세요. 홍길동 입니다.'\n",
    "print(say1)"
   ]
  },
  {
   "cell_type": "markdown",
   "metadata": {},
   "source": [
    "### 3.2. 포매팅: 값에 따라 변하는 문자열"
   ]
  },
  {
   "cell_type": "code",
   "execution_count": null,
   "metadata": {},
   "outputs": [],
   "source": [
    "# 포맷팅. 변수(변하는 값)을 문자열로 표시할 경우\n",
    "name = '장남수'\n",
    "\n",
    "s = '안녕하세요.***{}***입니다.'.format(name)\n",
    "print(s)"
   ]
  },
  {
   "cell_type": "code",
   "execution_count": null,
   "metadata": {},
   "outputs": [],
   "source": [
    "# 여러개의 변수도 입력 가능합니다. \n",
    "month = '12월'\n",
    "day = '25일'\n",
    "say = '오늘은 {} {} 입니다.'   \n",
    "\n",
    "# date = say.format(day, month)    # {} 에 순서대로 들어가요. \n",
    "date = say.format(month, day)    # {} 에 순서대로 들어가요. \n",
    "print(date)"
   ]
  },
  {
   "cell_type": "markdown",
   "metadata": {},
   "source": [
    "- 포맷팅 활용: 구구단 만들어보기"
   ]
  },
  {
   "cell_type": "code",
   "execution_count": null,
   "metadata": {},
   "outputs": [],
   "source": [
    "a = 2\n",
    "b = 3\n",
    "\n",
    "print( a * b )"
   ]
  },
  {
   "cell_type": "code",
   "execution_count": null,
   "metadata": {},
   "outputs": [],
   "source": [
    "# 2 x 3 = 6     형식으로 출력하기"
   ]
  },
  {
   "cell_type": "code",
   "execution_count": null,
   "metadata": {},
   "outputs": [],
   "source": [
    "print( a, b, a*b )\n",
    "print( '{} x {} = {}'.format(a, b, a*b))"
   ]
  },
  {
   "cell_type": "code",
   "execution_count": null,
   "metadata": {},
   "outputs": [],
   "source": [
    "for i in range(1, 10):\n",
    "    print(i)"
   ]
  },
  {
   "cell_type": "code",
   "execution_count": null,
   "metadata": {},
   "outputs": [],
   "source": [
    "a = 9\n",
    "b_list = [1,2,3,4,5,6,7,8,9]   # range(1,10)\n",
    "\n",
    "for b in b_list:\n",
    "    print( '{} x {} = {}'.format(a, b, a*b))"
   ]
  },
  {
   "cell_type": "code",
   "execution_count": null,
   "metadata": {},
   "outputs": [],
   "source": [
    "a = 9\n",
    "for a in range(1,10):\n",
    "    b_list = [1,2,3,4,5,6,7,8,9]   # range(1,10)\n",
    "    for b in b_list:\n",
    "        print( '{} x {} = {}'.format(a, b, a*b))"
   ]
  },
  {
   "cell_type": "code",
   "execution_count": null,
   "metadata": {},
   "outputs": [],
   "source": [
    "a = 6\n",
    "b = 7\n",
    "\n",
    "# 문자열 붙이기\n",
    "say = str(a) + ' x ' + str(b) + ' = ' + str(a*b)\n",
    "\n",
    "# 문자열 포매팅 이용\n",
    "# say = '{} x {} = {}'.format( a, b, a*b)\n",
    "\n",
    "print(say)"
   ]
  },
  {
   "cell_type": "code",
   "execution_count": null,
   "metadata": {},
   "outputs": [],
   "source": [
    "a = 6\n",
    "b_list = [1,2,3,4,5,6,7,8,9] \n",
    "# b_list = range(1,10)\n",
    "\n",
    "for b in b_list:\n",
    "#     print(a, b, a*b)\n",
    "    say = '{} x {} = {}'.format( a, b, a*b)\n",
    "    print(say)"
   ]
  },
  {
   "cell_type": "markdown",
   "metadata": {},
   "source": [
    "- 실습)  \"a x b 는 c 입니다\"    형식으로 구구단 출력해주세요.   formatting 활용"
   ]
  },
  {
   "cell_type": "markdown",
   "metadata": {},
   "source": [
    "### 3.3. 문자열 정리하기"
   ]
  },
  {
   "cell_type": "markdown",
   "metadata": {},
   "source": [
    "#### 3.3.1.공백문제 정리하기: str.strip()"
   ]
  },
  {
   "cell_type": "code",
   "execution_count": null,
   "metadata": {},
   "outputs": [],
   "source": [
    "# 문자열 데이터 \n",
    "t = '   태극기가 바람에 펄럭입니다.\\n하늘 높이 하늘 높이 펄럭입니다. \\n\\n'\n",
    "print(t)\n",
    "print(len(t))   #40개 문자가 있음  \\n, \\t, ' '는 한 글자로 계산됨"
   ]
  },
  {
   "cell_type": "code",
   "execution_count": null,
   "metadata": {
    "scrolled": false
   },
   "outputs": [],
   "source": [
    "# 문자열 데이터 정리하기: 문자열 앞 뒤로 불필요한 공백 제거하기\n",
    "t_strip = t.strip()\n",
    "t_strip"
   ]
  },
  {
   "cell_type": "markdown",
   "metadata": {},
   "source": [
    "#### 3.3.2.문자 바꾸기(str.replace('변경전','변경후'))"
   ]
  },
  {
   "cell_type": "code",
   "execution_count": null,
   "metadata": {},
   "outputs": [],
   "source": [
    "t_strip.replace('태극기', '빨래')"
   ]
  },
  {
   "cell_type": "code",
   "execution_count": null,
   "metadata": {},
   "outputs": [],
   "source": [
    "t_strip.replace('펄럭', '')"
   ]
  },
  {
   "cell_type": "markdown",
   "metadata": {},
   "source": [
    "#### 3.3.3.문자열 나누기: 문자열.split()"
   ]
  },
  {
   "cell_type": "code",
   "execution_count": null,
   "metadata": {},
   "outputs": [],
   "source": [
    "t_strip.split()"
   ]
  },
  {
   "cell_type": "code",
   "execution_count": null,
   "metadata": {},
   "outputs": [],
   "source": [
    "# split('분할기준')  --> # 분할 데이터는 리스트 형태로\n",
    "c = '사과/배/복숭아/수박'\n",
    "fruits = c.split('/')          \n",
    "print(fruits)   "
   ]
  }
 ],
 "metadata": {
  "kernelspec": {
   "display_name": "Python 3",
   "language": "python",
   "name": "python3"
  },
  "language_info": {
   "codemirror_mode": {
    "name": "ipython",
    "version": 3
   },
   "file_extension": ".py",
   "mimetype": "text/x-python",
   "name": "python",
   "nbconvert_exporter": "python",
   "pygments_lexer": "ipython3",
   "version": "3.6.7"
  }
 },
 "nbformat": 4,
 "nbformat_minor": 2
}
