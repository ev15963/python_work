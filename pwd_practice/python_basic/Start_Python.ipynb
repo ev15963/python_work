{
 "cells": [
  {
   "cell_type": "markdown",
   "metadata": {},
   "source": [
    "### 변수에 값 집어넣기\n",
    "\n",
    "#### 변수명은 왼쪽에 값을 오른쪽에 선언하고 가운데에 '='을 붙인다."
   ]
  },
  {
   "cell_type": "code",
   "execution_count": null,
   "metadata": {},
   "outputs": [],
   "source": [
    "# 변수와 변수 할당\n",
    "name = '전상환'"
   ]
  },
  {
   "cell_type": "code",
   "execution_count": null,
   "metadata": {},
   "outputs": [],
   "source": [
    "# 한번 선언한 변수는 주피터 노트북 파일 안에서 계속 사용 가능합니다.\n",
    "# 변수를 화면에 출력 가능합니다.\n",
    "print(name)"
   ]
  },
  {
   "cell_type": "code",
   "execution_count": null,
   "metadata": {},
   "outputs": [],
   "source": [
    "# 위에서 선언한 변수는 다른 값으로 변경(치환) 가능합니다.\n",
    "name = 'Sanghwan'"
   ]
  },
  {
   "cell_type": "code",
   "execution_count": null,
   "metadata": {},
   "outputs": [],
   "source": [
    "# 또 출력해볼게요! 어떤 결과값이 나올까요?\n",
    "print(name)"
   ]
  },
  {
   "cell_type": "code",
   "execution_count": null,
   "metadata": {},
   "outputs": [],
   "source": [
    "print(age)"
   ]
  },
  {
   "cell_type": "markdown",
   "metadata": {},
   "source": [
    "### 파이썬 데이터 타입 살펴보기\n",
    "\n",
    "#### 문자형/숫자형(int, float)/리스트/딕셔너리/튜플\n",
    "- 오늘은 딕셔너리와 튜플은 배우지않겠습니다.\n",
    "\n",
    "##### 각각의 변수에 값을 입력(할당)하고 print로 값과 타입을 한번 찍어봅시다."
   ]
  },
  {
   "cell_type": "code",
   "execution_count": null,
   "metadata": {},
   "outputs": [],
   "source": [
    "# 문자형 데이터(값)\n",
    "artist = 'bts'\n",
    "print(artist)"
   ]
  },
  {
   "cell_type": "code",
   "execution_count": null,
   "metadata": {},
   "outputs": [],
   "source": [
    "# 숫자형 데이터(값)\n",
    "members = 7\n",
    "print(7)"
   ]
  },
  {
   "cell_type": "code",
   "execution_count": null,
   "metadata": {},
   "outputs": [],
   "source": [
    "# 리스트형 데이터\n",
    "fruits = ['사과','딸기','오렌지']\n",
    "fruits"
   ]
  },
  {
   "cell_type": "code",
   "execution_count": null,
   "metadata": {},
   "outputs": [],
   "source": [
    "# '딸기'값을 찾아 봅시다.\n",
    "fruits[1]"
   ]
  },
  {
   "cell_type": "code",
   "execution_count": null,
   "metadata": {},
   "outputs": [],
   "source": [
    "# 변수에 다른 변수의 값을 넣을 수 있습니다.\n",
    "test = artist\n",
    "test"
   ]
  },
  {
   "cell_type": "code",
   "execution_count": null,
   "metadata": {},
   "outputs": [],
   "source": [
    "# 변수를 리스트에 넣을 수 있습니다.\n",
    "a = '사과'\n",
    "s = '딸기'\n",
    "o = '오렌지'\n",
    "\n",
    "f = [a, s, o]\n",
    "f"
   ]
  },
  {
   "cell_type": "markdown",
   "metadata": {},
   "source": [
    "### 숫자 변수로 사칙연산 해보기"
   ]
  },
  {
   "cell_type": "code",
   "execution_count": null,
   "metadata": {},
   "outputs": [],
   "source": [
    "a = 10\n",
    "b = 5\n",
    "print(a + b)"
   ]
  },
  {
   "cell_type": "code",
   "execution_count": null,
   "metadata": {},
   "outputs": [],
   "source": [
    "n1 = a + b\n",
    "print(n1)"
   ]
  },
  {
   "cell_type": "code",
   "execution_count": null,
   "metadata": {},
   "outputs": [],
   "source": [
    "n2 = a - b\n",
    "print(n2)"
   ]
  },
  {
   "cell_type": "code",
   "execution_count": null,
   "metadata": {},
   "outputs": [],
   "source": [
    "n3 = a * b\n",
    "print(n3)"
   ]
  },
  {
   "cell_type": "code",
   "execution_count": null,
   "metadata": {},
   "outputs": [],
   "source": [
    "n4 = a / b\n",
    "print(n4)"
   ]
  },
  {
   "cell_type": "markdown",
   "metadata": {},
   "source": [
    "### 문자 변수끼리 합치기"
   ]
  },
  {
   "cell_type": "code",
   "execution_count": null,
   "metadata": {},
   "outputs": [],
   "source": [
    "# 문자와 숫자는 더하기 되지 않습니다.\n",
    "# 숫자는 숫자 끼리 문자는 문자끼리 더하기 가능합니다.\n",
    "number = 1\n",
    "fruit = '포도'\n",
    "s1 = number + fruit\n",
    "print(s1)"
   ]
  },
  {
   "cell_type": "code",
   "execution_count": null,
   "metadata": {},
   "outputs": [],
   "source": [
    "# 문자 + 문자\n",
    "kind = '과일'\n",
    "name = '딸기'\n",
    "s2 = kind + name\n",
    "\n",
    "print(s2)"
   ]
  },
  {
   "cell_type": "code",
   "execution_count": null,
   "metadata": {},
   "outputs": [],
   "source": [
    "# 변수를 이용하 문자 조합\n",
    "s3 = '제가 좋아하는 ' + kind + '은' + name + '입니다.'\n",
    "print(s3)"
   ]
  },
  {
   "cell_type": "code",
   "execution_count": null,
   "metadata": {},
   "outputs": [],
   "source": [
    "# format함수를 이용하면 좀 더 깔끔하게 문자열을 조합할 수 있습니다.\n",
    "s4 = '제가 좋아하는 {}은 {}입니다.'.format(kind, name)\n",
    "print(s4)"
   ]
  },
  {
   "cell_type": "markdown",
   "metadata": {},
   "source": [
    "### 반복문 실습\n",
    "- 반복문은 동일한 작업을 여러번 반복해야 할 때 사용\n",
    "> for문의 기본 구조\n",
    "```\n",
    "for 변수 in 리스트(또는 튜플, 문자열):\n",
    "    수행할 문장1\n",
    "    수행할 문장2\n",
    "    ...\n",
    "```"
   ]
  },
  {
   "cell_type": "code",
   "execution_count": null,
   "metadata": {},
   "outputs": [],
   "source": [
    "# 반복문 실습\n",
    "for i in [0, 1, 2, 3, 4]:\n",
    "    print(i)"
   ]
  },
  {
   "cell_type": "code",
   "execution_count": null,
   "metadata": {},
   "outputs": [],
   "source": [
    "# 반복문을 사용하지 않은 경우\n",
    "print(0)\n",
    "print(1)\n",
    "print(2)\n",
    "print(3)\n",
    "print(4)"
   ]
  },
  {
   "cell_type": "markdown",
   "metadata": {},
   "source": [
    "# 힘드셨죠?\n",
    "# 이제 마지막으로 지금까지 배운 파이썬 기초 지식으로 구구단을 만들어 볼게요!\n",
    "### 필요한 것은 위에서 다 배웠어요!"
   ]
  },
  {
   "cell_type": "code",
   "execution_count": null,
   "metadata": {},
   "outputs": [],
   "source": [
    "# 구구단 2단 예시\n",
    "# 2 * 1 = 2\n",
    "# 2 * 2 = 4\n",
    "# 2 * 3 = 6\n",
    "# 2 * 4 = 8\n",
    "# 2 * 5 = 10\n",
    "# 2 * 6 = 12\n",
    "# 2 * 7 = 14\n",
    "# 2 * 8 = 16\n",
    "# 2 * 9 = 18\n",
    "\n",
    "time = 2\n",
    "numbers = [1, 2, 3, 4, 5, 6, 7, 8, 9]\n",
    "for i in numbers:\n",
    "    num = time * i\n",
    "    text = '{t} * {i} = {n}'.format(t=time, i=i, n=num)\n",
    "    print(text)"
   ]
  },
  {
   "cell_type": "code",
   "execution_count": null,
   "metadata": {},
   "outputs": [],
   "source": []
  },
  {
   "cell_type": "code",
   "execution_count": null,
   "metadata": {},
   "outputs": [],
   "source": []
  },
  {
   "cell_type": "code",
   "execution_count": null,
   "metadata": {},
   "outputs": [],
   "source": []
  },
  {
   "cell_type": "code",
   "execution_count": null,
   "metadata": {},
   "outputs": [],
   "source": []
  },
  {
   "cell_type": "code",
   "execution_count": null,
   "metadata": {},
   "outputs": [],
   "source": []
  },
  {
   "cell_type": "code",
   "execution_count": null,
   "metadata": {},
   "outputs": [],
   "source": []
  },
  {
   "cell_type": "code",
   "execution_count": null,
   "metadata": {},
   "outputs": [],
   "source": []
  }
 ],
 "metadata": {
  "kernelspec": {
   "display_name": "Python 3",
   "language": "python",
   "name": "python3"
  },
  "language_info": {
   "codemirror_mode": {
    "name": "ipython",
    "version": 3
   },
   "file_extension": ".py",
   "mimetype": "text/x-python",
   "name": "python",
   "nbconvert_exporter": "python",
   "pygments_lexer": "ipython3",
   "version": "3.7.4"
  }
 },
 "nbformat": 4,
 "nbformat_minor": 2
}
