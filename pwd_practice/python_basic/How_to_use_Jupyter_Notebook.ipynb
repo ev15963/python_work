{
 "cells": [
  {
   "cell_type": "markdown",
   "metadata": {},
   "source": [
    "# 주피터 노트북 간편 사용법\n",
    "\n",
    "## Command Mode (셀 선택 모드) - 파란색 외각선\n",
    "- 셀을 선택 한 후 [esc] 버튼\n",
    "- 셀 바깥쪽 왼쪽 영역을 클릭\n",
    "\n",
    "### 셀 추가하기\n",
    "- [a]버튼: 위로 셀이 추가됨\n",
    "- [b]버튼: 아래로 셀이 추가됨\n",
    "### 셀 복사/삭제하기/잘라내기/붙이기/합치기\n",
    "- [c]버튼: 셀 복사\n",
    "- [d],[d] 빠르게 두번: 셀이 삭제됨\n",
    "- [x]버튼: 선택한 셀이 잘라짐\n",
    "- [p]버튼 (Mac은 [v]버튼): 복사된 셀을 아래로 붙이기\n",
    "- shift + [m]: 선택한 셀을 하나로 합친다\n",
    "\n",
    "### Markdown/Code 셀 변환\n",
    "- [m]버튼: 셀을 markdown으로 변환\n",
    "- [y]버튼: 셀을 code로 변환\n",
    "\n",
    "    \n",
    "## Edit Mode (수정 모드) - 초록색 외각선\n",
    "- [Enter] 버튼\n",
    "- 입력 영역을 마우스 클릭\n",
    "\n",
    "### 셀 실행하기\n",
    "- [ctrl] + [enter]: 선택한 셀 실행\n",
    "- [shift] + [enter]: 선택한 셀이 실행되고 아래에 새로운 셀이 추가 후 포커스가 이동\n",
    "\n",
    "### 코드 편집하기\n",
    "- [ctrl] + [a] (Mac은 [Command]): 코드 전체 선택\n",
    "- [ctrl] + [z] (Mac은 [Command]): undo\n",
    "- [ctrl] + [y] (Mac은 [Command]): redo\n",
    "- [ctrl] + [/] (Mac은 [Command]): 선택한 block을 주석처리\n",
    "\n",
    "## 저장하기\n",
    "- [ctrl] + [s] (Mac은 [Command])\n"
   ]
  },
  {
   "cell_type": "code",
   "execution_count": null,
   "metadata": {},
   "outputs": [],
   "source": [
    "# 이것이 셀입니다.\n",
    "# Step 1. 아래에 새로운 셀을 추가해볼게요!\n",
    "# Command Mode에서 [a]버튼을 클릭할게요!"
   ]
  },
  {
   "cell_type": "code",
   "execution_count": null,
   "metadata": {},
   "outputs": [],
   "source": [
    "print('안녕하세요 play_widh_data 입니다.')"
   ]
  },
  {
   "cell_type": "code",
   "execution_count": null,
   "metadata": {},
   "outputs": [],
   "source": [
    "print('열심히 해볼까요?')"
   ]
  }
 ],
 "metadata": {
  "kernelspec": {
   "display_name": "Python 3",
   "language": "python",
   "name": "python3"
  },
  "language_info": {
   "codemirror_mode": {
    "name": "ipython",
    "version": 3
   },
   "file_extension": ".py",
   "mimetype": "text/x-python",
   "name": "python",
   "nbconvert_exporter": "python",
   "pygments_lexer": "ipython3",
   "version": "3.7.3"
  }
 },
 "nbformat": 4,
 "nbformat_minor": 2
}
