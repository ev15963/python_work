{
 "cells": [
  {
   "cell_type": "code",
   "execution_count": null,
   "metadata": {},
   "outputs": [],
   "source": [
    "# 필요한 라이브러리 import 하기 \n",
    "\n",
    "import pandas as pd #\n",
    "import matplotlib.pyplot as plt #그래프를 그릴때 사용 \n",
    "from matplotlib import font_manager, rc\n",
    "import platform # 한글폰트를 지원하가위한 \n",
    "\n",
    "# 그래프에서 한글 표기를 위한 글자체 변경(윈도우, 맥os 각각의 경우에 대해서 처리)\n",
    "\n",
    "if platform.system() == 'Windows': \n",
    "    path = 'c:/Windows/Fonts/malgun.ttf'\n",
    "    font_name = font_manager.FontProperties(fname=path).get_name()\n",
    "    rc('font', family=font_name)\n",
    "elif platform.system() == 'Darwin':\n",
    "    rc('font', family='AppleGothic')\n",
    "else: \n",
    "    print('Check your OS system')"
   ]
  },
  {
   "cell_type": "markdown",
   "metadata": {},
   "source": [
    "# 렛츠기릿~"
   ]
  },
  {
   "cell_type": "code",
   "execution_count": null,
   "metadata": {},
   "outputs": [],
   "source": [
    "\n",
    "######################################\n",
    "## [Exercise] 1. 엑셀 데이터 파이썬으로 불러오기  ##\n",
    "######################################\n",
    "# 여기에서 실습하시다 헷갈리시면 아래 Solution cell 에서 복사하세요~\n",
    "\n",
    "\n",
    "\n"
   ]
  },
  {
   "cell_type": "code",
   "execution_count": null,
   "metadata": {},
   "outputs": [],
   "source": [
    "# # [Solution] 1. 엑셀 데이터 파이썬으로 불러오기 \n",
    "\n",
    "# test = pd.read_excel('data/kto_201801.xlsx')\n",
    "# test"
   ]
  },
  {
   "cell_type": "code",
   "execution_count": null,
   "metadata": {},
   "outputs": [],
   "source": [
    "\n",
    "#####################################\n",
    "## [Exercise] 2. 반복문과 format 함수 활용하기  ##\n",
    "#####################################\n",
    "# 여기에서 실습하시다 헷갈리시면 아래 Solution cell 에서 복사하세요~\n",
    "\n",
    "\n",
    "\n"
   ]
  },
  {
   "cell_type": "code",
   "execution_count": null,
   "metadata": {},
   "outputs": [],
   "source": [
    "# # [Solution] 2. 반복문과 format 함수 활용하기 \n",
    "\n",
    "# for i in ['01', '02', '03']:\n",
    "#     print('./data/kto_2018{}.xlsx'.format(i))"
   ]
  },
  {
   "cell_type": "code",
   "execution_count": null,
   "metadata": {},
   "outputs": [],
   "source": [
    "\n",
    "#########################################################\n",
    "## [Exercise] 3. 반복문으로 format 함수 활용해서 여러 개의 엑셀파일 합치기  ##\n",
    "#########################################################\n",
    "# 여기에서 실습하시다 헷갈리시면 아래 Solution cell 에서 복사하세요~\n",
    "\n",
    "\n",
    "\n"
   ]
  },
  {
   "cell_type": "code",
   "execution_count": null,
   "metadata": {},
   "outputs": [],
   "source": [
    "# [Solution] 3. 반복문으로 format 함수 활용해서 여러 개의 엑셀파일 합치기 \n",
    "\n",
    "# df = pd.DataFrame()\n",
    "# for i in ['01', '02', '03', '04', '05', '06', '07', '08', '09', '10', '11', '12']:\n",
    "#     path = './data/kto_2018{}.xlsx'.format(i)\n",
    "#     temp = pd.read_excel(path)\n",
    "    \n",
    "#     df = df.append(temp)\n",
    "\n",
    "# df"
   ]
  },
  {
   "cell_type": "code",
   "execution_count": null,
   "metadata": {},
   "outputs": [],
   "source": [
    "\n",
    "####################################\n",
    "## [Exercise] 4. 중국 국적 데이터만 필터링하기  ##\n",
    "####################################\n",
    "# 여기에서 실습하시다 헷갈리시면 아래 Solution cell 에서 복사하세요~\n",
    "\n",
    "\n",
    "\n"
   ]
  },
  {
   "cell_type": "code",
   "execution_count": null,
   "metadata": {},
   "outputs": [],
   "source": [
    "\n",
    "####################################\n",
    "## [Solution] 4. 중국 국적 데이터만 필터링하기  ##\n",
    "####################################\n",
    "# condition = (df.국적 == '중국') \n",
    "# cd_data = df[condition]\n",
    "# cd_data\n",
    "\n",
    "# plt.figure(figsize=(10,4) )\n",
    "# plt.plot(cd_data.기준년월, cd_data.관광)\n",
    "# plt.title('중국인 관광객 추이')\n",
    "# plt.show()\n"
   ]
  },
  {
   "cell_type": "code",
   "execution_count": null,
   "metadata": {},
   "outputs": [],
   "source": [
    "\n",
    "#############################################\n",
    "## [Exercise] 5. 중국 국적의 관광객 수를 그래프로 그려보기  ##\n",
    "#############################################\n",
    "# 여기에서 실습하시다 헷갈리시면 아래 Solution cell 에서 복사하세요~\n",
    "\n",
    "\n",
    "\n"
   ]
  },
  {
   "cell_type": "code",
   "execution_count": null,
   "metadata": {},
   "outputs": [],
   "source": [
    "# [Solution] 5. 중국 국적의 관광객 수를 그래프로 그려보기 \n",
    "# condition = (df.국적 == '중국') \n",
    "# cd_data = df[condition]\n",
    "\n",
    "# plt.figure(figsize=(10,4))\n",
    "# plt.plot(cd_data.기준년월, cd_data.관광, marker='o')\n",
    "# plt.title('중국 국적의 18년 관광객 추이')\n",
    "# plt.show()"
   ]
  },
  {
   "cell_type": "code",
   "execution_count": null,
   "metadata": {},
   "outputs": [],
   "source": [
    "\n",
    "###############################################\n",
    "## [Exercise] 6. 반복문을 통해서 그래프 여러개 한 번에 그리기  ##\n",
    "###############################################\n",
    "# 여기에서 실습하시다 헷갈리시면 아래 Solution cell 에서 복사하세요~\n",
    "\n",
    "\n",
    "    \n",
    "\n",
    "\n"
   ]
  },
  {
   "cell_type": "code",
   "execution_count": null,
   "metadata": {},
   "outputs": [],
   "source": [
    "# [Solution] 6. 반복문을 통해서 그래프 여러개 한 번에 그리기 \n",
    "# for cntry in['중국', '일본', '홍콩', '대만', '미국']: \n",
    "#     condition = (df.국적 == cntry) \n",
    "#     cd_data = df[condition]\n",
    "\n",
    "#     plt.figure(figsize=(10,4))\n",
    "#     plt.plot(cd_data.기준년월, cd_data.관광, marker='o')\n",
    "#     plt.title('{} 국적의 18년 관광객 추이'.format(cntry))\n",
    "#     plt.show()\n"
   ]
  }
 ],
 "metadata": {
  "kernelspec": {
   "display_name": "Python 3",
   "language": "python",
   "name": "python3"
  },
  "language_info": {
   "codemirror_mode": {
    "name": "ipython",
    "version": 3
   },
   "file_extension": ".py",
   "mimetype": "text/x-python",
   "name": "python",
   "nbconvert_exporter": "python",
   "pygments_lexer": "ipython3",
   "version": "3.7.4"
  }
 },
 "nbformat": 4,
 "nbformat_minor": 2
}
