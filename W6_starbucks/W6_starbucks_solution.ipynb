{
 "cells": [
  {
   "cell_type": "markdown",
   "metadata": {},
   "source": [
    "# 6주차 스타벅스 지도시각화 "
   ]
  },
  {
   "cell_type": "markdown",
   "metadata": {},
   "source": [
    "## 1. URL 이동 및 추출할 사이트 찾기 "
   ]
  },
  {
   "cell_type": "code",
   "execution_count": null,
   "metadata": {},
   "outputs": [],
   "source": [
    "from selenium import webdriver\n",
    "from bs4 import BeautifulSoup"
   ]
  },
  {
   "cell_type": "code",
   "execution_count": null,
   "metadata": {},
   "outputs": [],
   "source": [
    "browser = webdriver.Chrome('c:/webdriver/chromedriver.exe')"
   ]
  },
  {
   "cell_type": "code",
   "execution_count": null,
   "metadata": {},
   "outputs": [],
   "source": [
    "url = 'https://www.istarbucks.co.kr/store/store_map.do'\n",
    "browser.get(url)"
   ]
  },
  {
   "cell_type": "code",
   "execution_count": null,
   "metadata": {},
   "outputs": [],
   "source": [
    "#지역검색 클릭\n",
    "browser.find_element_by_css_selector('header.loca_search > h3 > a').click()"
   ]
  },
  {
   "cell_type": "code",
   "execution_count": null,
   "metadata": {},
   "outputs": [],
   "source": [
    "# 서울 클릭 \n",
    "browser.find_element_by_css_selector('ul.sido_arae_box > li:nth-child(1) > a').click()"
   ]
  },
  {
   "cell_type": "code",
   "execution_count": null,
   "metadata": {},
   "outputs": [],
   "source": [
    "# 전체 클릭 \n",
    "browser.find_element_by_css_selector('ul.gugun_arae_box > li:nth-child(1) > a').click()"
   ]
  },
  {
   "cell_type": "markdown",
   "metadata": {},
   "source": [
    "## 2. HTML 파일 가져오기 "
   ]
  },
  {
   "cell_type": "code",
   "execution_count": null,
   "metadata": {},
   "outputs": [],
   "source": [
    "# html 가져오기 \n",
    "html = browser.page_source"
   ]
  },
  {
   "cell_type": "code",
   "execution_count": null,
   "metadata": {},
   "outputs": [],
   "source": [
    "soup = BeautifulSoup(html, 'html.parser')"
   ]
  },
  {
   "cell_type": "markdown",
   "metadata": {},
   "source": [
    "## 3. 매장 리스트 부분만 추출하기"
   ]
  },
  {
   "cell_type": "code",
   "execution_count": null,
   "metadata": {},
   "outputs": [],
   "source": [
    "lst = soup.select('li.quickResultLstCon')\n",
    "len(lst)"
   ]
  },
  {
   "cell_type": "code",
   "execution_count": null,
   "metadata": {},
   "outputs": [],
   "source": [
    "lst = soup.select('ul.quickSearchResultBoxSidoGugun > li.quickResultLstCon')\n",
    "len(lst)"
   ]
  },
  {
   "cell_type": "code",
   "execution_count": null,
   "metadata": {},
   "outputs": [],
   "source": [
    "element = lst[0]\n",
    "element"
   ]
  },
  {
   "cell_type": "markdown",
   "metadata": {},
   "source": [
    "## 4. 정보 추출하기 \n",
    "### 지점명 / 주소 / 전화번호 / 좌표정보(lat / long) / 매장유형 \n"
   ]
  },
  {
   "cell_type": "markdown",
   "metadata": {},
   "source": [
    "* 지점명"
   ]
  },
  {
   "cell_type": "code",
   "execution_count": null,
   "metadata": {},
   "outputs": [],
   "source": [
    "name_0 = element.select('strong')\n",
    "name_0"
   ]
  },
  {
   "cell_type": "code",
   "execution_count": null,
   "metadata": {},
   "outputs": [],
   "source": [
    "name_1 = name_0[0]\n",
    "name_1"
   ]
  },
  {
   "cell_type": "code",
   "execution_count": null,
   "metadata": {},
   "outputs": [],
   "source": [
    "name_2 = name_1.text\n",
    "name_2"
   ]
  },
  {
   "cell_type": "code",
   "execution_count": null,
   "metadata": {},
   "outputs": [],
   "source": [
    "name_3 = name_2.strip()\n",
    "name_3"
   ]
  },
  {
   "cell_type": "markdown",
   "metadata": {},
   "source": [
    "* 주소, 전화번호 찾기"
   ]
  },
  {
   "cell_type": "code",
   "execution_count": null,
   "metadata": {},
   "outputs": [],
   "source": [
    "address_0 = element.select('p.result_details')\n",
    "address_0"
   ]
  },
  {
   "cell_type": "code",
   "execution_count": null,
   "metadata": {},
   "outputs": [],
   "source": [
    "address_1 = address_0[0]\n",
    "address_1"
   ]
  },
  {
   "cell_type": "code",
   "execution_count": null,
   "metadata": {},
   "outputs": [],
   "source": [
    "address_1.text"
   ]
  },
  {
   "cell_type": "code",
   "execution_count": null,
   "metadata": {},
   "outputs": [],
   "source": [
    "address_2 = str(address_1).split('<br/>')\n",
    "address_2"
   ]
  },
  {
   "cell_type": "code",
   "execution_count": null,
   "metadata": {},
   "outputs": [],
   "source": [
    "address_3 = address_2[0]\n",
    "address_3"
   ]
  },
  {
   "cell_type": "code",
   "execution_count": null,
   "metadata": {},
   "outputs": [],
   "source": [
    "address_4 = address_3.split('>')\n",
    "address_4"
   ]
  },
  {
   "cell_type": "code",
   "execution_count": null,
   "metadata": {},
   "outputs": [],
   "source": [
    "address_5 = address_4[1]\n",
    "address_5"
   ]
  },
  {
   "cell_type": "code",
   "execution_count": null,
   "metadata": {},
   "outputs": [],
   "source": [
    "tel_0 = address_2[1]\n",
    "tel_0"
   ]
  },
  {
   "cell_type": "code",
   "execution_count": null,
   "metadata": {},
   "outputs": [],
   "source": [
    "tel_1 = tel_0.split('<')\n",
    "tel_1"
   ]
  },
  {
   "cell_type": "code",
   "execution_count": null,
   "metadata": {},
   "outputs": [],
   "source": [
    "tel_2 = tel_1[0]\n",
    "tel_2"
   ]
  },
  {
   "cell_type": "markdown",
   "metadata": {},
   "source": [
    "* 좌표정보"
   ]
  },
  {
   "cell_type": "code",
   "execution_count": null,
   "metadata": {},
   "outputs": [],
   "source": [
    "element"
   ]
  },
  {
   "cell_type": "code",
   "execution_count": null,
   "metadata": {},
   "outputs": [],
   "source": [
    "lat = element['data-lat']\n",
    "lat"
   ]
  },
  {
   "cell_type": "code",
   "execution_count": null,
   "metadata": {},
   "outputs": [],
   "source": [
    "long = element['data-long']\n",
    "long"
   ]
  },
  {
   "cell_type": "markdown",
   "metadata": {},
   "source": [
    "* 매장유형"
   ]
  },
  {
   "cell_type": "code",
   "execution_count": null,
   "metadata": {},
   "outputs": [],
   "source": [
    "store_type_0 = element.select('i')\n",
    "store_type_0"
   ]
  },
  {
   "cell_type": "code",
   "execution_count": null,
   "metadata": {},
   "outputs": [],
   "source": [
    "store_type_1 = store_type_0[0]\n",
    "store_type_1"
   ]
  },
  {
   "cell_type": "code",
   "execution_count": null,
   "metadata": {},
   "outputs": [],
   "source": [
    "store_type_2 = store_type_1['class']\n",
    "store_type_2"
   ]
  },
  {
   "cell_type": "code",
   "execution_count": null,
   "metadata": {},
   "outputs": [],
   "source": [
    "store_type_3 = store_type_2[0]\n",
    "store_type_3"
   ]
  },
  {
   "cell_type": "markdown",
   "metadata": {},
   "source": [
    "### 정보 전체 정리 "
   ]
  },
  {
   "cell_type": "code",
   "execution_count": null,
   "metadata": {},
   "outputs": [],
   "source": [
    "# 매장명 \n",
    "store = element.select('strong')[0].text.strip()\n",
    "\n",
    "# 주소 \n",
    "address = str(element.select('p.result_details')[0]).split('<br/>')[0].split('>')[1]\n",
    "\n",
    "# 전화번호 \n",
    "tel = str(element.select('p.result_details')[0]).split('<br/>')[1].split('<')[0]\n",
    "\n",
    "# 위도, 경도 \n",
    "lat = element['data-lat']\n",
    "long = element['data-long']\n",
    "\n",
    "# 매장 타입 \n",
    "store_type = element.select('i')[0]['class'][0]\n",
    "\n",
    "print(store, address, tel, lat, long, store_type, sep = ' / ')"
   ]
  },
  {
   "cell_type": "markdown",
   "metadata": {},
   "source": [
    "## 5. 반복문으로 전체 정보 추출하기 "
   ]
  },
  {
   "cell_type": "code",
   "execution_count": null,
   "metadata": {},
   "outputs": [],
   "source": [
    "result = []\n",
    "\n",
    "for element in lst: \n",
    "    # 매장명 \n",
    "    store = element.select('strong')[0].text.strip()\n",
    "\n",
    "    # 주소 \n",
    "    address = str(element.select('p.result_details')[0]).split('<br/>')[0].split('>')[1]\n",
    "\n",
    "    # 전화번호 \n",
    "    tel = str(element.select('p.result_details')[0]).split('<br/>')[1].split('<')[0]\n",
    "\n",
    "    # 위도, 경도 \n",
    "    lat = element['data-lat']\n",
    "    long = element['data-long']\n",
    "\n",
    "    # 매장 타입 \n",
    "    store_type = element.select('i')[0]['class'][0]\n",
    "    \n",
    "    element_result = [store, address, tel, lat, long, store_type]\n",
    "    result.append(element_result)\n",
    "    \n",
    "result[0:5]"
   ]
  },
  {
   "cell_type": "markdown",
   "metadata": {},
   "source": [
    "## 6. 데이터프레임으로 저장하기 "
   ]
  },
  {
   "cell_type": "code",
   "execution_count": null,
   "metadata": {},
   "outputs": [],
   "source": [
    "import pandas as pd"
   ]
  },
  {
   "cell_type": "code",
   "execution_count": null,
   "metadata": {},
   "outputs": [],
   "source": [
    "result_df = pd.DataFrame(result)\n",
    "result_df.head()"
   ]
  },
  {
   "cell_type": "code",
   "execution_count": null,
   "metadata": {},
   "outputs": [],
   "source": [
    "result_df.columns = ['매장명', '주소', '전화번호', '위도', '경도', '매장타입']\n",
    "result_df"
   ]
  },
  {
   "cell_type": "code",
   "execution_count": null,
   "metadata": {},
   "outputs": [],
   "source": [
    "result_df.to_excel('./starbucks_list_200312.xlsx', index = False)"
   ]
  },
  {
   "cell_type": "markdown",
   "metadata": {},
   "source": [
    "## 7. 지도 시각화 하기 "
   ]
  },
  {
   "cell_type": "code",
   "execution_count": null,
   "metadata": {},
   "outputs": [],
   "source": [
    "import folium \n",
    "import pandas as pd"
   ]
  },
  {
   "cell_type": "code",
   "execution_count": null,
   "metadata": {},
   "outputs": [],
   "source": [
    "sb_lst = pd.read_excel('./starbucks_list_200312.xlsx')\n",
    "sb_lst.head()"
   ]
  },
  {
   "cell_type": "markdown",
   "metadata": {},
   "source": [
    "### 7.1. 지도에 점 찍어보기 "
   ]
  },
  {
   "cell_type": "code",
   "execution_count": null,
   "metadata": {
    "scrolled": false
   },
   "outputs": [],
   "source": [
    "# 지도의 레이어 표현하기 \n",
    "sb_map = folium.Map(\n",
    "    location = [37.573050, 126.979189], \n",
    "    tile = 'Stamen Terrain',\n",
    "    zoom_start = 11\n",
    ")\n",
    "sb_map"
   ]
  },
  {
   "cell_type": "code",
   "execution_count": null,
   "metadata": {
    "scrolled": true
   },
   "outputs": [],
   "source": [
    "# 한개 추출하기 \n",
    "sb_pt = sb_lst.head(1)\n",
    "sb_pt"
   ]
  },
  {
   "cell_type": "code",
   "execution_count": null,
   "metadata": {},
   "outputs": [],
   "source": [
    "sb_pt[['위도', '경도']]"
   ]
  },
  {
   "cell_type": "code",
   "execution_count": null,
   "metadata": {},
   "outputs": [],
   "source": [
    "# 점 하나 찍어보기 \n",
    "\n",
    "folium.CircleMarker(\n",
    "    location = sb_pt[['위도', '경도']],\n",
    "    fill = True, \n",
    "    fill_color = 'green', \n",
    "    fill_opacity = 1,\n",
    "    color = 'yellow', \n",
    "    weight = 1,\n",
    "    radius = 3\n",
    ").add_to(sb_map)\n",
    "\n",
    "sb_map"
   ]
  },
  {
   "cell_type": "markdown",
   "metadata": {},
   "source": [
    "### 7.2. 반복문으로 스타벅스 매장 모두 지도에 표시해보기 "
   ]
  },
  {
   "cell_type": "code",
   "execution_count": null,
   "metadata": {},
   "outputs": [],
   "source": [
    "# iterrows 함수 알아보기 \n",
    "for x in sb_lst.iterrows():\n",
    "    print( x)"
   ]
  },
  {
   "cell_type": "code",
   "execution_count": null,
   "metadata": {},
   "outputs": [],
   "source": [
    "# 반복문으로 지도에 점 표기하기 \n",
    "for i, row in sb_lst.iterrows(): \n",
    "    folium.CircleMarker(\n",
    "        location = row[['위도', '경도']],\n",
    "        fill = True, \n",
    "        fill_color = 'green', \n",
    "        fill_opacity = 1,\n",
    "        color = 'yellow', \n",
    "        weight = 1,\n",
    "        radius = 3\n",
    "    ).add_to(sb_map)\n",
    "    \n",
    "sb_map"
   ]
  },
  {
   "cell_type": "code",
   "execution_count": null,
   "metadata": {},
   "outputs": [],
   "source": [
    "# 스타벅스 매장 타입에 따라 다르게 나타내기 \n",
    "sb_lst['매장타입'].unique()"
   ]
  },
  {
   "cell_type": "code",
   "execution_count": null,
   "metadata": {},
   "outputs": [],
   "source": [
    "for i, row in sb_lst.iterrows():\n",
    "    if row['매장타입'] == 'pin_general': \n",
    "        fill_color = 'green'\n",
    "        line_color = 'yellow' \n",
    "    elif row['매장타입'] == 'pin_reserve': \n",
    "        fill_color = 'black'\n",
    "        line_color = 'red' \n",
    "    elif row['매장타입'] == 'pin_generalDT': \n",
    "        fill_color = 'blue'\n",
    "        line_color = 'black' \n",
    "        \n",
    "    folium.CircleMarker(\n",
    "        location = row[['위도', '경도']],\n",
    "        fill = True, \n",
    "        fill_color = fill_color, \n",
    "        fill_opacity = 1,\n",
    "        color = line_color, \n",
    "        weight = 1,\n",
    "        radius = 3\n",
    "    ).add_to(sb_map)\n",
    "        \n",
    "sb_map"
   ]
  },
  {
   "cell_type": "markdown",
   "metadata": {},
   "source": [
    "### 7.3. folium 몇 가지 옵션 설정해보기 "
   ]
  },
  {
   "cell_type": "code",
   "execution_count": null,
   "metadata": {},
   "outputs": [],
   "source": [
    "from matplotlib import font_manager, rc\n",
    "import platform \n",
    "\n",
    "if platform.system() == 'Windows': \n",
    "    path = 'c:/Windows/Fonts/malgun.ttf'\n",
    "    font_name = font_manager.FontProperties(fname=path).get_name()\n",
    "    rc('font', family=font_name)\n",
    "elif platform.system() == 'Darwin':\n",
    "    rc('font', family='AppleGothic')\n",
    "else: \n",
    "    print('Check your OS system')\n"
   ]
  },
  {
   "cell_type": "code",
   "execution_count": null,
   "metadata": {},
   "outputs": [],
   "source": [
    "# 팝업효과\n",
    "for i, row in sb_lst.iterrows():\n",
    "    if row['매장타입'] == 'pin_general': \n",
    "        fill_color = 'green'\n",
    "        line_color = 'yellow' \n",
    "    elif row['매장타입'] == 'pin_reserve': \n",
    "        fill_color = 'black'\n",
    "        line_color = 'red' \n",
    "    elif row['매장타입'] == 'pin_generalDT': \n",
    "        fill_color = 'blue'\n",
    "        line_color = 'black' \n",
    "        \n",
    "    popup = folium.Popup(html = row['매장명'], max_width=400)\n",
    "    folium.CircleMarker(\n",
    "        location = row[['위도', '경도']],\n",
    "        fill = True, \n",
    "        fill_color = fill_color, \n",
    "        fill_opacity = 1,\n",
    "        color = line_color, \n",
    "        weight = 1,\n",
    "        radius = 3, \n",
    "        popup = popup\n",
    "    ).add_to(sb_map)\n",
    "        \n",
    "sb_map"
   ]
  },
  {
   "cell_type": "markdown",
   "metadata": {},
   "source": [
    "### 7.4. 지도 시각화 결과 저장하기 "
   ]
  },
  {
   "cell_type": "code",
   "execution_count": null,
   "metadata": {},
   "outputs": [],
   "source": [
    "sb_map.save('starbucks_result.html')"
   ]
  }
 ],
 "metadata": {
  "kernelspec": {
   "display_name": "Python 3",
   "language": "python",
   "name": "python3"
  },
  "language_info": {
   "codemirror_mode": {
    "name": "ipython",
    "version": 3
   },
   "file_extension": ".py",
   "mimetype": "text/x-python",
   "name": "python",
   "nbconvert_exporter": "python",
   "pygments_lexer": "ipython3",
   "version": "3.7.4"
  }
 },
 "nbformat": 4,
 "nbformat_minor": 2
}
