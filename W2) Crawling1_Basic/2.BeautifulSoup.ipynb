{
 "cells": [
  {
   "cell_type": "markdown",
   "metadata": {},
   "source": [
    "# 2. HTML 구조 이해 & BeautifulSoup 활용하기"
   ]
  },
  {
   "cell_type": "markdown",
   "metadata": {},
   "source": [
    "### 2.1. html 구조 이해하기"
   ]
  },
  {
   "cell_type": "markdown",
   "metadata": {
    "collapsed": true
   },
   "source": [
    " - html 구조 \n",
    "    \n",
    "    1. 시작과 끝이 있음\n",
    "    \n",
    "    <태그>  </태그>   \n",
    "\n",
    "    2. 태그 구성요소로 다른 태그가 들어갈 수 있음\n",
    "    \n",
    "    <태그1>              \n",
    "        <태그2 속성=1>        \n",
    "            <태그3>Play with Data</태그3>  \n",
    "            <태그4></태그4>        \n",
    "        </태그2>\n",
    "    </태그1>\n",
    "\n",
    "    3. 태그 시작과 끝 사이에  화면에서 표시되는 정보가 들어감\n",
    "    <태그> 안녕하세요</태그>      \n",
    "\n",
    "    4. 속성을 여러개 가질 수도 있음\n",
    "    <태그 속성1=값1 속성2=값3>     \n",
    "\n"
   ]
  },
  {
   "cell_type": "markdown",
   "metadata": {},
   "source": [
    "<h1> HTML예시  </h1>\n",
    "    <span> 파이썬 입문부터 시작하는 데이터 분석 마스터</span>\n",
    "    <p id=\"weeks1\" class=\"seminar\" title=\"first\"> 1주차\n",
    "        <span class = \"title\"> 파이썬 맛보기 </span>\n",
    "        <span class = \"presenter\"> 장남수 </span>\n",
    "        <span class = \"date\"> 1월1일 </span>\n",
    "        <span class = \"point\"> 파이썬 설치 사전 안내 </span>\n",
    "        <a href = \"https://kiddwannabe.blog.me/221154599192\">네이버 블로그-아나콘다설치</a>\n",
    "    </p>\n",
    "    <p id=\"weeks2\" class=\"seminar\" title=\"second\"> 2주차\n",
    "        <span class = \"title\"> 크롤링 해보기 </span>\n",
    "        <span class = \"presenter\"> 장남수 </span>\n",
    "        <span class = \"date\"> 1월2일 </span>\n",
    "        <span class = \"point\"> selenium / html </span>\n",
    "        <a href = \"https://kiddwannabe.blog.me/221177292446\">네이버 블로그-크롤링</a>\n",
    "    </p>\n",
    "    <p id=\"weeks3\" class=\"seminar\" title=\"third\"> 3주차\n",
    "        <span class = \"title\"> 크롤링 실습 </span>\n",
    "        <span class = \"presenter\"> 장남수 </span>\n",
    "        <span class = \"date\"> 1월3일 </span>\n",
    "        <span class = \"point\"> 노래순위, 베스트셀러 </span>\n",
    "        <a href = \"https://kiddwannabe.blog.me/\">네이버 블로그</a>\n",
    "    </p>\n",
    "    <p id=\"weeks4\" class=\"seminar\" title=\"fourth\"> 4주차\n",
    "        <span class = \"title\"> 판다스 살펴보기 </span>\n",
    "        <span class = \"presenter\"> 장남수 </span>\n",
    "        <span class = \"date\"> 1월4일 </span>\n",
    "        <span class = \"point\"> pandas </span>\n",
    "        <a href = \"https://kiddwannabe.blog.me/\">네이버 블로그</a>\n",
    "    </p>\n",
    "    <p id=\"weeks5\" class=\"seminar\" title=\"fifth\"> 5주차\n",
    "        <span class = \"title\"> 상가 업력 분석하기 </span>\n",
    "        <span class = \"presenter\"> 장남수 </span>\n",
    "        <span class = \"date\"> 1월5일 </span>\n",
    "        <span class = \"point\"> 공공데이터 분석 </span>\n",
    "        <a href = \"https://kiddwannabe.blog.me/\">네이버 블로그</a>\n",
    "    </p>            \n",
    "    <p id=\"weeks6\" class=\"seminar\" title=\"sixth\"> 6주차\n",
    "        <span class = \"title\"> 데이터 시각화 </span>\n",
    "        <span class = \"presenter\"> 장남수 </span>\n",
    "        <span class = \"date\"> 1월6일 </span>\n",
    "        <span class = \"point\"> seaborn </span>\n",
    "        <a href = \"https://kiddwannabe.blog.me/221728411362\">네이버 블로그-seaborn</a>\n",
    "    </p>  \n",
    "    <p id=\"weeks7\" class=\"seminar\" title=\"seventh\"> 7주차\n",
    "        <span class = \"title\"> 유튜브 크롤링 </span>\n",
    "        <span class = \"presenter\"> 장남수 </span>\n",
    "        <span class = \"date\"> 1월7일 </span>\n",
    "        <span class = \"point\"> youtube </span>\n",
    "        <a href = \"https://kiddwannabe.blog.me/\">네이버 블로그</a>\n",
    "    </p> \n",
    "    <p id=\"weeks8\" class=\"seminar\" title=\"eightth\"> 8주차\n",
    "        <span class = \"title\"> 네이버 쇼핑몰 수집/분석 </span>\n",
    "        <span class = \"presenter\"> 장남수 </span>\n",
    "        <span class = \"date\"> 1월8일 </span>\n",
    "        <span class = \"point\"> 네이버쇼핑 </span>\n",
    "        <a href = \"https://kiddwannabe.blog.me/\">네이버 블로그</a>\n",
    "    </p> \n",
    "</h1>"
   ]
  },
  {
   "cell_type": "code",
   "execution_count": null,
   "metadata": {},
   "outputs": [],
   "source": [
    "# html = browser.page_source"
   ]
  },
  {
   "cell_type": "code",
   "execution_count": null,
   "metadata": {},
   "outputs": [],
   "source": [
    "#예시) 러닝스푼즈 데이터분석입문 강의 \n",
    "html = '''\n",
    "<h1> HTML예시  </h1>\n",
    "    <span> 파이썬 입문부터 시작하는 데이터 분석 마스터</span>\n",
    "    <p id=\"weeks1\" class=\"seminar\" title=\"first\"> 1주차\n",
    "        <span class = \"title\"> 파이썬 맛보기 </span>\n",
    "        <span class = \"presenter\"> 장남수 </span>\n",
    "        <span class = \"date\"> 1월1일 </span>\n",
    "        <span class = \"point\"> 파이썬 설치 사전 안내 </span>\n",
    "        <a href = \"https://kiddwannabe.blog.me/221154599192\">네이버 블로그-아나콘다설치</a>\n",
    "    </p>\n",
    "    <p id=\"weeks2\" class=\"seminar\" title=\"second\"> 2주차\n",
    "        <span class = \"title\"> 크롤링 해보기 </span>\n",
    "        <span class = \"presenter\"> 장남수 </span>\n",
    "        <span class = \"date\"> 1월2일 </span>\n",
    "        <span class = \"point\"> selenium / html </span>\n",
    "        <a href = \"https://kiddwannabe.blog.me/221177292446\">네이버 블로그-크롤링</a>\n",
    "    </p>\n",
    "    <p id=\"weeks3\" class=\"seminar\" title=\"third\"> 3주차\n",
    "        <span class = \"title\"> 크롤링 실습 </span>\n",
    "        <span class = \"presenter\"> 장남수 </span>\n",
    "        <span class = \"date\"> 1월3일 </span>\n",
    "        <span class = \"point\"> 노래순위, 베스트셀러 </span>\n",
    "        <a href = \"https://kiddwannabe.blog.me/\">네이버 블로그</a>\n",
    "    </p>\n",
    "    <p id=\"weeks4\" class=\"seminar\" title=\"fourth\"> 4주차\n",
    "        <span class = \"title\"> 판다스 살펴보기 </span>\n",
    "        <span class = \"presenter\"> 장남수 </span>\n",
    "        <span class = \"date\"> 1월4일 </span>\n",
    "        <span class = \"point\"> pandas </span>\n",
    "        <a href = \"https://kiddwannabe.blog.me/\">네이버 블로그</a>\n",
    "    </p>\n",
    "    <p id=\"weeks5\" class=\"seminar\" title=\"fifth\"> 5주차\n",
    "        <span class = \"title\"> 상가 업력 분석하기 </span>\n",
    "        <span class = \"presenter\"> 장남수 </span>\n",
    "        <span class = \"date\"> 1월5일 </span>\n",
    "        <span class = \"point\"> 공공데이터 분석 </span>\n",
    "        <a href = \"https://kiddwannabe.blog.me/\">네이버 블로그</a>\n",
    "    </p>            \n",
    "    <p id=\"weeks6\" class=\"seminar\" title=\"sixth\"> 6주차\n",
    "        <span class = \"title\"> 데이터 시각화 </span>\n",
    "        <span class = \"presenter\"> 장남수 </span>\n",
    "        <span class = \"date\"> 1월6일 </span>\n",
    "        <span class = \"point\"> seaborn </span>\n",
    "        <a href = \"https://kiddwannabe.blog.me/221728411362\">네이버 블로그-seaborn</a>\n",
    "    </p>  \n",
    "    <p id=\"weeks7\" class=\"seminar\" title=\"seventh\"> 7주차\n",
    "        <span class = \"title\"> 유튜브 크롤링 </span>\n",
    "        <span class = \"presenter\"> 장남수 </span>\n",
    "        <span class = \"date\"> 1월7일 </span>\n",
    "        <span class = \"point\"> youtube </span>\n",
    "        <a href = \"https://kiddwannabe.blog.me/\">네이버 블로그</a>\n",
    "    </p> \n",
    "    <p id=\"weeks8\" class=\"seminar\" title=\"eightth\"> 8주차\n",
    "        <span class = \"title\"> 네이버 쇼핑몰 수집/분석 </span>\n",
    "        <span class = \"presenter\"> 장남수 </span>\n",
    "        <span class = \"date\"> 1월8일 </span>\n",
    "        <span class = \"point\"> 네이버쇼핑 </span>\n",
    "        <a href = \"https://kiddwannabe.blog.me/\">네이버 블로그</a>\n",
    "    </p> \n",
    "</h1>\n",
    "'''\n"
   ]
  },
  {
   "cell_type": "markdown",
   "metadata": {},
   "source": [
    "selenium 을 통해 열었던 크롬 브라우저에서   `test_pwd.html` 파일을 열어주세요. \n",
    "\n",
    "윈도우기준) test_pwd.html --- 드래그 -->   크롬 브라우저 "
   ]
  },
  {
   "cell_type": "markdown",
   "metadata": {},
   "source": [
    "### 2.2. html 내 원하는 정보 가져오기: BeautifulSoup"
   ]
  },
  {
   "cell_type": "markdown",
   "metadata": {},
   "source": [
    "#### 2.2.1. html 정보 읽기"
   ]
  },
  {
   "cell_type": "code",
   "execution_count": null,
   "metadata": {},
   "outputs": [],
   "source": [
    "type(html)    "
   ]
  },
  {
   "cell_type": "code",
   "execution_count": null,
   "metadata": {},
   "outputs": [],
   "source": [
    "print(html[:100])"
   ]
  },
  {
   "cell_type": "code",
   "execution_count": null,
   "metadata": {},
   "outputs": [],
   "source": [
    "# 라이브러리 불러오기\n",
    "from bs4 import BeautifulSoup  # 대소문자 구분  B S 대문자"
   ]
  },
  {
   "cell_type": "code",
   "execution_count": null,
   "metadata": {},
   "outputs": [],
   "source": [
    "soup = BeautifulSoup(html, 'html.parser')"
   ]
  },
  {
   "cell_type": "code",
   "execution_count": null,
   "metadata": {},
   "outputs": [],
   "source": [
    "# 정보 읽기\n",
    "soup = BeautifulSoup(html, 'html.parser')\n",
    "# \"html 에 들어있는 데이터(문자열)을 html 형태로 읽어달라 / \n",
    "# html 로 정리하는 기준은 'html.parser' 로\"   or   'lxml' 으로...  'lxml'이 조금 더 빠릅니다. "
   ]
  },
  {
   "cell_type": "code",
   "execution_count": null,
   "metadata": {},
   "outputs": [],
   "source": [
    "print(soup)"
   ]
  },
  {
   "cell_type": "code",
   "execution_count": null,
   "metadata": {},
   "outputs": [],
   "source": [
    "type(html)"
   ]
  },
  {
   "cell_type": "code",
   "execution_count": null,
   "metadata": {},
   "outputs": [],
   "source": [
    "type(soup)"
   ]
  },
  {
   "cell_type": "code",
   "execution_count": null,
   "metadata": {},
   "outputs": [],
   "source": [
    "print(soup)"
   ]
  },
  {
   "cell_type": "markdown",
   "metadata": {},
   "source": [
    "#### 2.2.2.Html 내에서 원하는 정보 위치 찾기 by BeautifulSoup  select()"
   ]
  },
  {
   "cell_type": "raw",
   "metadata": {},
   "source": [
    "원하는 정보 그룹! 찾기 soup.select()  /   soup.find()  soup.find_all()\n",
    "\n",
    "soup.select('원하는 정보')  # select('원하는 정보') -->  단 하나만 있더라도, 복수 가능한 형태로 되어있음\n",
    "\n",
    "- 태그, 속성으로 찾기\n",
    "\n",
    "soup.select('태그명')\n",
    "soup.select('태그명[속성1=값1]')  # soup.select(\"a[href='www.naver.com']\")   # 작은따옴표 밖에는 큰 따옴표 필요!\n",
    "soup.select('.클래스명')     # soup.select('.price')\n",
    "soup.select('#아이디명')                  # 태그는 여러개에 사용 가능하나 아이디는 한번만 사용 가능함! ==> 선택하기 좋음\n",
    "soup.select('태그명.클래스명)\n",
    "           \n",
    "\n",
    "- 태그 구조로 찾기: ' ' or ' > '\n",
    "\n",
    "soup.select('상위태그명 > 하위태그명 > 하위태그명')\n",
    "soup.select('상위태그명 하~위태그명(자손)')              # 아래의(자손) 태그를 선택시에는   띄어쓰기 사용\n",
    "soup.select('상위태그명 > 바로아래태그명 하~위태그명')     \n",
    "\n",
    "            \n",
    "            \n",
    "- 태그 구조 + 속성으로 찾기            \n",
    "\n",
    "soup.select('#아이디명 > 태그명.클래스명)\n",
    "soup.select('.클래스명 > 하위태그명.클래스명')    # 바로 아래의(자식) 태그를 선택시에는 > 기호를 사용\n",
    "soup.select('.클래스명 > 하위태그명 하~위태그명.클래스명')\n",
    "\n",
    "            "
   ]
  },
  {
   "cell_type": "code",
   "execution_count": null,
   "metadata": {},
   "outputs": [],
   "source": [
    "soup.select('a')"
   ]
  },
  {
   "cell_type": "code",
   "execution_count": null,
   "metadata": {},
   "outputs": [],
   "source": [
    "# soup.select('span')\n",
    "# soup.select('span')[0]\n",
    "soup.select('span')[0].text"
   ]
  },
  {
   "cell_type": "code",
   "execution_count": null,
   "metadata": {},
   "outputs": [],
   "source": [
    "span_list = soup.select('span')\n",
    "for span in span_list:\n",
    "    print(span.text)"
   ]
  },
  {
   "cell_type": "code",
   "execution_count": null,
   "metadata": {
    "scrolled": true
   },
   "outputs": [],
   "source": [
    "# soup.select('span')\n",
    "# soup.select('태그명')\n",
    "# soup.select('.title') \n",
    "# soup.select('.클래스값')\n",
    "soup.select('#weeks1')"
   ]
  },
  {
   "cell_type": "code",
   "execution_count": null,
   "metadata": {},
   "outputs": [],
   "source": [
    "soup.select('#weeks1')[0].text"
   ]
  },
  {
   "cell_type": "code",
   "execution_count": null,
   "metadata": {},
   "outputs": [],
   "source": [
    "# 2주차 날짜\n",
    "# soup.select('span.date')\n",
    "# soup.select('#weeks2')\n",
    "# soup.select('#weeks2 > span.date')   # 자식 태그    <--->  # 자손태그\n",
    "# soup.select('#weeks2 span.date')   # 자식 태그    <--->  # 자손태그\n",
    "# soup.select('body > h1 > #weeks2 span.date')   # 자식 태그    <--->  # 자손태그\n",
    "soup.select('body > #weeks2 span.date')   # 자식 태그    <--->  # 자손태그"
   ]
  },
  {
   "cell_type": "code",
   "execution_count": null,
   "metadata": {},
   "outputs": [],
   "source": []
  },
  {
   "cell_type": "markdown",
   "metadata": {},
   "source": [
    "#### 2.2.3.(위치 찾은 후) 내가 원하는 정보 가져오기\n",
    "    1. 복수 --> 하나만 선택하기\n",
    "    - 하나씩 모두 원할 경우 --> 반복문 사용\n",
    "    - 하나만 원할 경우 --> 인덱싱 사용\n",
    "    \n",
    "    2. 원하는 정보 가져오기\n",
    "    - 원하는 정보가 화면에 보이는 것이라면 ==> .text\n",
    "    - 원하는 정보가 화면에 보이지 않는(ex. url) 이라면 ==>  ['속성이름']"
   ]
  },
  {
   "cell_type": "code",
   "execution_count": null,
   "metadata": {},
   "outputs": [],
   "source": [
    "# 주차별 정보 덩어리 가져오기  ===>  5개 \n",
    "# 각 주차별 내용 가져오기\n",
    "    #  - 제목 / 발표자 / 날짜 ..... "
   ]
  },
  {
   "cell_type": "code",
   "execution_count": null,
   "metadata": {
    "scrolled": true
   },
   "outputs": [],
   "source": [
    "# 주차별 정보 덩어리 가져오기  ===>  5개 \n",
    "informs = soup.select('p')\n",
    "len(informs)"
   ]
  },
  {
   "cell_type": "code",
   "execution_count": null,
   "metadata": {},
   "outputs": [],
   "source": [
    "# 각 주차별 내용 가져오기\n",
    "    #  - 제목 / 발표자 / 날짜 ..... \n",
    "inform = informs[0]\n",
    "inform"
   ]
  },
  {
   "cell_type": "code",
   "execution_count": null,
   "metadata": {},
   "outputs": [],
   "source": [
    "date = inform.select('.date')[0].text\n",
    "print(date)"
   ]
  },
  {
   "cell_type": "code",
   "execution_count": null,
   "metadata": {},
   "outputs": [],
   "source": [
    "# link = inform.select('a')[0]\n",
    "# link\n",
    "# link.text   # ==>  화면에 보이는 정보 가져오기\n",
    "# link['속성이름']  ==> # '속성이름' 해당 하는 값 가져오기"
   ]
  },
  {
   "cell_type": "code",
   "execution_count": null,
   "metadata": {},
   "outputs": [],
   "source": [
    "title = inform.select('span.title')[0].text\n",
    "presenter = inform.select('span.presenter')[0].text\n",
    "point = inform.select('span.point')[0].text\n",
    "link = inform.select('a')[0]['href']\n",
    "date = inform.select('.date')[0].text\n",
    "print(title, presenter, point, link, date)\n"
   ]
  },
  {
   "cell_type": "code",
   "execution_count": null,
   "metadata": {},
   "outputs": [],
   "source": [
    "for inform in informs:\n",
    "\n",
    "    title = inform.select('span.title')[0].text\n",
    "    presenter = inform.select('span.presenter')[0].text\n",
    "    point = inform.select('span.point')[0].text\n",
    "    link = inform.select('a')[0]['href']\n",
    "    date = inform.select('.date')[0].text\n",
    "    print(title, presenter, point, link, date, sep = ' | ')    "
   ]
  },
  {
   "cell_type": "code",
   "execution_count": null,
   "metadata": {},
   "outputs": [],
   "source": [
    "# 리스트에 저장하기\n",
    "\n",
    "results = [  ]   # 비어있는 리스트 생성\n",
    "\n",
    "for inform in informs:\n",
    "\n",
    "    title = inform.select('span.title')[0].text\n",
    "    presenter = inform.select('span.presenter')[0].text\n",
    "    point = inform.select('span.point')[0].text\n",
    "    link = inform.select('a')[0]['href']\n",
    "    date = inform.select('.date')[0].text\n",
    "    print(title, presenter, point, link, date, sep = ' | ')     \n",
    "    data = [title, presenter, point, link, date]   # 주차별 정보 --> 리스트에 담기\n",
    "    results.append(data)\n",
    "    print(len(results))"
   ]
  },
  {
   "cell_type": "code",
   "execution_count": null,
   "metadata": {},
   "outputs": [],
   "source": [
    "results"
   ]
  },
  {
   "cell_type": "markdown",
   "metadata": {},
   "source": [
    "# 저장하기"
   ]
  },
  {
   "cell_type": "markdown",
   "metadata": {},
   "source": [
    "#### 2.2.4.크롤링 데이터 저장하기 by pandas\n"
   ]
  },
  {
   "cell_type": "code",
   "execution_count": null,
   "metadata": {},
   "outputs": [],
   "source": [
    "import pandas as pd"
   ]
  },
  {
   "cell_type": "code",
   "execution_count": null,
   "metadata": {},
   "outputs": [],
   "source": [
    "results_pd = pd.DataFrame(results)"
   ]
  },
  {
   "cell_type": "code",
   "execution_count": null,
   "metadata": {},
   "outputs": [],
   "source": [
    "results_pd.head()"
   ]
  },
  {
   "cell_type": "code",
   "execution_count": null,
   "metadata": {},
   "outputs": [],
   "source": [
    "results_pd.columns = [  '주제', '발표자', '일자','포인트', 'url']\n",
    "results_pd.head()"
   ]
  },
  {
   "cell_type": "code",
   "execution_count": null,
   "metadata": {},
   "outputs": [],
   "source": [
    "results_pd.to_excel('데이터분석입문.xlsx')"
   ]
  },
  {
   "cell_type": "code",
   "execution_count": null,
   "metadata": {},
   "outputs": [],
   "source": [
    "results_pd.to_excel('데이터분석입문_인덱스제외.xlsx', index= False)"
   ]
  },
  {
   "cell_type": "markdown",
   "metadata": {},
   "source": [
    "### ※ Check) 주로 에러 나는 것들"
   ]
  },
  {
   "cell_type": "markdown",
   "metadata": {},
   "source": [
    "※ select 로 원하는 태그 요소들이 선택 된 이후\n",
    "\n",
    "      ▶  첫 번째 요소 지정시에는   인덱스 활용  [0]\n",
    "\n",
    "      ▶  특정 순서 요소 지정시에는              [i]\n",
    "\n",
    "      ▶  하나씩 다 살펴볼때에는    반복문 활용!  **for tag in tags: **\n",
    "  "
   ]
  },
  {
   "cell_type": "code",
   "execution_count": null,
   "metadata": {},
   "outputs": [],
   "source": [
    "# 반복문 활용하기\n",
    "\n",
    "for 변수 in 집합:\n",
    "    명령어1\n",
    "    명령2"
   ]
  },
  {
   "cell_type": "code",
   "execution_count": null,
   "metadata": {},
   "outputs": [],
   "source": [
    "# 하나씩 값 가져오기 --> 속성 내부의 값(ex. url 주소)\n",
    "links = soup.select('p > a') \n",
    "# print(links)\n",
    "\n",
    "for link in links:\n",
    "#     print(link.text)\n",
    "    print(link['href'])\n",
    "    \n",
    "    \n",
    "print(links[0].text)\n",
    "print(links[1].text)\n",
    "print(links[2].text)"
   ]
  },
  {
   "cell_type": "code",
   "execution_count": null,
   "metadata": {},
   "outputs": [],
   "source": [
    "# 하나가 나오더라도 인덱스 or 반복문으로 하나씩 지정해야 함\n",
    "# print(soup.select('p'))\n",
    "print(soup.select('p')[0].text)\n",
    "\n",
    "# check = soup.select('p').text   # 에러 발생. soup.select() --> 복수의 값\n",
    "# print(check)\n",
    "\n",
    "# check = soup.select('p')[0].text   # soup.select()[0] --> 첫번째의 값으로 지정함\n",
    "# print(check)"
   ]
  }
 ],
 "metadata": {
  "anaconda-cloud": {},
  "kernelspec": {
   "display_name": "Python 3",
   "language": "python",
   "name": "python3"
  },
  "language_info": {
   "codemirror_mode": {
    "name": "ipython",
    "version": 3
   },
   "file_extension": ".py",
   "mimetype": "text/x-python",
   "name": "python",
   "nbconvert_exporter": "python",
   "pygments_lexer": "ipython3",
   "version": "3.7.4"
  }
 },
 "nbformat": 4,
 "nbformat_minor": 1
}
