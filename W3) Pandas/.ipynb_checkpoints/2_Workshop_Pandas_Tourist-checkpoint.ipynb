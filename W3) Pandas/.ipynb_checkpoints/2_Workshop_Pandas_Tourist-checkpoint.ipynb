{
 "cells": [
  {
   "cell_type": "code",
   "execution_count": 1,
   "metadata": {},
   "outputs": [],
   "source": [
    "import pandas as pd\n",
    "import os"
   ]
  },
  {
   "cell_type": "code",
   "execution_count": 2,
   "metadata": {
    "scrolled": true
   },
   "outputs": [
    {
     "data": {
      "text/plain": [
       "['.ipynb_checkpoints',\n",
       " '1_Pandas.ipynb',\n",
       " '2_Workshop_Pandas_Tourist.ipynb',\n",
       " '3_2_Data_Preprocessing.ipynb',\n",
       " '3_3_Visulaization.ipynb',\n",
       " 'files',\n",
       " 'files_tourist']"
      ]
     },
     "execution_count": 2,
     "metadata": {},
     "output_type": "execute_result"
    }
   ],
   "source": [
    "os.listdir()"
   ]
  },
  {
   "cell_type": "code",
   "execution_count": null,
   "metadata": {},
   "outputs": [],
   "source": []
  },
  {
   "cell_type": "code",
   "execution_count": null,
   "metadata": {},
   "outputs": [],
   "source": [
    "folder = './files_tourist'\n",
    "os.listdir(folder)"
   ]
  },
  {
   "cell_type": "code",
   "execution_count": null,
   "metadata": {},
   "outputs": [],
   "source": [
    "for file in os.listdir(folder):\n",
    "    print(file)\n",
    "    print(folder+'/'+file)"
   ]
  },
  {
   "cell_type": "code",
   "execution_count": null,
   "metadata": {},
   "outputs": [],
   "source": [
    "# 파일 하나 열어보기\n",
    "file = os.listdir(folder)[0]\n",
    "fpath = folder + '/' + file\n",
    "fpath"
   ]
  },
  {
   "cell_type": "code",
   "execution_count": null,
   "metadata": {},
   "outputs": [],
   "source": [
    "df = pd.read_excel(fpath, header = 1)\n",
    "df.head()"
   ]
  },
  {
   "cell_type": "code",
   "execution_count": null,
   "metadata": {},
   "outputs": [],
   "source": [
    "df.tail()"
   ]
  },
  {
   "cell_type": "code",
   "execution_count": null,
   "metadata": {},
   "outputs": [],
   "source": [
    "# 연월 붙여넣기\n",
    "file.split('.')[0]  # 'kto_201908'\n",
    "file.split('.')[0].split('_')[1]   # '201908'"
   ]
  },
  {
   "cell_type": "code",
   "execution_count": null,
   "metadata": {
    "scrolled": true
   },
   "outputs": [],
   "source": [
    "yearmonth = file.split('.')[0].split('_')[1] \n",
    "df['기준년월'] = yearmonth\n",
    "df.head()"
   ]
  },
  {
   "cell_type": "code",
   "execution_count": null,
   "metadata": {},
   "outputs": [],
   "source": []
  },
  {
   "cell_type": "code",
   "execution_count": null,
   "metadata": {},
   "outputs": [],
   "source": [
    "## 국적 살펴보기\n",
    "df['국적'].unique()"
   ]
  },
  {
   "cell_type": "code",
   "execution_count": null,
   "metadata": {},
   "outputs": [],
   "source": [
    "# 대륙별 합계 / 국가 외 데이터는 제외하기\n",
    "delete_list = ['아시아주','미주','구주','대양주','아프리카주','교포소계','계','전년동기','성장률(%)','구성비(%)']\n",
    "\n",
    "cond = [ ]\n",
    "for nation in df['국적']:\n",
    "    if nation in delete_list:\n",
    "        cond.append(False)\n",
    "    else:\n",
    "        cond.append(True)\n",
    "df = df[ cond ]"
   ]
  },
  {
   "cell_type": "code",
   "execution_count": null,
   "metadata": {},
   "outputs": [],
   "source": [
    "# 폴더 내 파일 하나씩 읽기 --> 합치기\n",
    "delete_list = ['아시아주','미주','구주','대양주','아프리카주','교포소계','계','전년동기','성장률(%)','구성비(%)']\n",
    "\n",
    "df = pd.DataFrame()\n",
    "\n",
    "for file in os.listdir(folder):\n",
    "    fpath = folder + '/' + file\n",
    "    temp = pd.read_excel(fpath, header = 1)\n",
    "    \n",
    "    yearmonth = file.split('.')[0].split('_')[1] \n",
    "    temp['기준년월'] = yearmonth\n",
    "    \n",
    "    cond = [ ]\n",
    "    for nation in temp['국적']:\n",
    "        if nation in delete_list:\n",
    "            cond.append(False)\n",
    "        else:\n",
    "            cond.append(True)\n",
    "    temp = temp[ cond ]    \n",
    "\n",
    "    \n",
    "    df = df.append(temp, ignore_index = True)"
   ]
  },
  {
   "cell_type": "code",
   "execution_count": null,
   "metadata": {
    "scrolled": true
   },
   "outputs": [],
   "source": [
    "df.head()"
   ]
  },
  {
   "cell_type": "code",
   "execution_count": null,
   "metadata": {},
   "outputs": [],
   "source": [
    "df.info()"
   ]
  },
  {
   "cell_type": "markdown",
   "metadata": {},
   "source": [
    "### 한국 방문객수 상위 Top 5"
   ]
  },
  {
   "cell_type": "code",
   "execution_count": null,
   "metadata": {},
   "outputs": [],
   "source": [
    "country_df = df.pivot_table(index = '국적', values = '계', aggfunc='sum').sort_values(by='계', ascending = False)\n",
    "country_df.head()"
   ]
  },
  {
   "cell_type": "code",
   "execution_count": null,
   "metadata": {},
   "outputs": [],
   "source": [
    "country_top = list(country_df.head().index)\n",
    "country_top"
   ]
  },
  {
   "cell_type": "code",
   "execution_count": null,
   "metadata": {},
   "outputs": [],
   "source": []
  },
  {
   "cell_type": "code",
   "execution_count": null,
   "metadata": {},
   "outputs": [],
   "source": [
    "# 예제 3-38 그래프에서 한글 표기를 위한 글자체 변경(윈도우, 맥os 각각의 경우에 대해서 처리)\n",
    "from matplotlib import font_manager, rc\n",
    "import platform \n",
    "\n",
    "if platform.system() == 'Windows': \n",
    "    path = 'c:/Windows/Fonts/malgun.ttf'\n",
    "    font_name = font_manager.FontProperties(fname=path).get_name()\n",
    "    rc('font', family=font_name)\n",
    "elif platform.system() == 'Darwin':\n",
    "    rc('font', family='AppleGothic')\n",
    "else: \n",
    "    print('Check your OS system')\n"
   ]
  },
  {
   "cell_type": "code",
   "execution_count": null,
   "metadata": {},
   "outputs": [],
   "source": [
    "# 예제 3-39 matplotlib 라이브러리 불러오기 \n",
    "import matplotlib.pyplot as plt"
   ]
  },
  {
   "cell_type": "code",
   "execution_count": null,
   "metadata": {},
   "outputs": [],
   "source": [
    "nation = country_top[0]\n",
    "nation"
   ]
  },
  {
   "cell_type": "code",
   "execution_count": null,
   "metadata": {
    "scrolled": true
   },
   "outputs": [],
   "source": [
    "cond = df['국적'] == nation\n",
    "df_filter = df[ cond ]\n",
    "df_filter.head()"
   ]
  },
  {
   "cell_type": "code",
   "execution_count": null,
   "metadata": {},
   "outputs": [],
   "source": [
    "# 예제 3-41 시계열 그래프 그리기 1\n",
    "plt.plot(df_filter['기준년월'], df_filter['관광'])\n",
    "plt.show()"
   ]
  },
  {
   "cell_type": "code",
   "execution_count": null,
   "metadata": {},
   "outputs": [],
   "source": [
    "# 예제 3-42 시계열 그래프 그리기 2(꾸미기)\n",
    "## 그래프 크기 조절 \n",
    "plt.figure(figsize = (12, 4))\n",
    "\n",
    "## 그래프 내용 설정 \n",
    "plt.plot(df_filter['기준년월'], df_filter['관광'])\n",
    "\n",
    "## 그래프 타이틀, X축, Y축 이름 달기 \n",
    "plt.title('중국 국적의 관광객 추이')\n",
    "plt.xlabel('기준년월')\n",
    "plt.ylabel('관광객수')\n",
    "\n",
    "## x 축 눈금 값 설정 \n",
    "plt.xticks(['201001', '201101', '201201', '201301', '201401', '201501', '201601', '201701', '201801', '201901'])\n",
    "\n",
    "## 그래프 표현하기 \n",
    "plt.show()"
   ]
  },
  {
   "cell_type": "code",
   "execution_count": null,
   "metadata": {},
   "outputs": [],
   "source": [
    "# 여러 국가 그래프 그리기\n",
    "\n",
    "for nation in country_top:\n",
    "\n",
    "    cond = df['국적'] == nation\n",
    "    df_filter = df[ cond ]\n",
    "\n",
    "    ## 그래프 크기 조절 \n",
    "    plt.figure(figsize = (12, 4))\n",
    "\n",
    "    ## 그래프 내용 설정 \n",
    "    plt.plot(df_filter['기준년월'], df_filter['관광'])\n",
    "\n",
    "    ## 그래프 타이틀, X축, Y축 이름 달기 \n",
    "    plt.title('{} 국적의 관광객 추이'.format(nation))\n",
    "    plt.xlabel('기준년월')\n",
    "    plt.ylabel('관광객수')\n",
    "\n",
    "    ## x 축 눈금 값 설정 \n",
    "    plt.xticks(['201001', '201101', '201201', '201301', '201401', '201501', '201601', '201701', '201801', '201901'])\n",
    "\n",
    "    ## 그래프 표현하기 \n",
    "    plt.show()"
   ]
  }
 ],
 "metadata": {
  "kernelspec": {
   "display_name": "Python 3",
   "language": "python",
   "name": "python3"
  },
  "language_info": {
   "codemirror_mode": {
    "name": "ipython",
    "version": 3
   },
   "file_extension": ".py",
   "mimetype": "text/x-python",
   "name": "python",
   "nbconvert_exporter": "python",
   "pygments_lexer": "ipython3",
   "version": "3.7.4"
  }
 },
 "nbformat": 4,
 "nbformat_minor": 2
}
