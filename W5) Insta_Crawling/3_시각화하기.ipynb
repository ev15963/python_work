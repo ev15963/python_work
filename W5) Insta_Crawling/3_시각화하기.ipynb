{
 "cells": [
  {
   "cell_type": "code",
   "execution_count": 3,
   "metadata": {},
   "outputs": [
    {
     "data": {
      "text/plain": [
       "0    ['#산도롱맨도롱..', '#제주맛집', '#제주도맛집', '#서귀포맛집', '#월...\n",
       "1    ['#굿베이크샵', '#전주카페추천', '#전주빵맛집', '#전주베이커리카페', '...\n",
       "2    ['#Repost', '#점심메뉴', '#애월제주다', '#jmtgr', '#딱새우...\n",
       "Name: tags, dtype: object"
      ]
     },
     "execution_count": 3,
     "metadata": {},
     "output_type": "execute_result"
    }
   ],
   "source": [
    "# 엑셀파일 불러오기\n",
    "import pandas as pd\n",
    "raw_total = pd.read_excel('./files/jeju_restaurant.xlsx')\n",
    "raw_total['tags'] [:3]"
   ]
  },
  {
   "cell_type": "code",
   "execution_count": 13,
   "metadata": {},
   "outputs": [
    {
     "data": {
      "text/plain": [
       "['#산도롱맨도롱..', '#제주맛집', '#제주도맛집', '#서귀포맛집', '#월정리맛집']"
      ]
     },
     "execution_count": 13,
     "metadata": {},
     "output_type": "execute_result"
    }
   ],
   "source": [
    "# 해시태그 통합 저장하기\n",
    "tags_total = []\n",
    "for tags in raw_total['tags']:\n",
    "    tags_list = tags[2:-2].split(\"', '\")\n",
    "    for tag in tags_list:\n",
    "        tags_total.append(tag)\n",
    "\n",
    "tags_total[0:5]"
   ]
  },
  {
   "cell_type": "code",
   "execution_count": 6,
   "metadata": {},
   "outputs": [],
   "source": [
    "# 빈도수 집계하기(Counter)\n",
    "from collections import Counter\n",
    "tag_counts = Counter(tags_total)"
   ]
  },
  {
   "cell_type": "code",
   "execution_count": 10,
   "metadata": {},
   "outputs": [
    {
     "data": {
      "text/plain": [
       "[('#제주도맛집', 57),\n",
       " ('#제주맛집', 35),\n",
       " ('', 28),\n",
       " ('#애월맛집', 18),\n",
       " ('#제주도민맛집', 16),\n",
       " ('#제주살이', 15),\n",
       " ('#한림맛집', 13),\n",
       " ('#제주시맛집', 13),\n",
       " ('#제주도여행', 12),\n",
       " ('#제주도', 11),\n",
       " ('#서귀포맛집', 10),\n",
       " ('#협재맛집', 10),\n",
       " ('#제주가볼만한곳', 10),\n",
       " ('#제주맛집추천', 10),\n",
       " ('#제주핫플', 10),\n",
       " ('#제주여행', 10),\n",
       " ('#제주도맛집추천', 9),\n",
       " ('#애월아침식사', 9),\n",
       " ('#애월카페', 9),\n",
       " ('#제주현지인맛집', 9),\n",
       " ('#제주도카페', 9),\n",
       " ('#애월해안도로맛집', 8),\n",
       " ('#제주공항근처맛집', 7),\n",
       " ('#사이카레', 7),\n",
       " ('#제주여행추천', 7),\n",
       " ('#애월점심추천', 7),\n",
       " ('#협재해수욕장맛집', 7),\n",
       " ('#곽지해수욕장맛집', 7),\n",
       " ('#애월밥집', 7),\n",
       " ('#제주혼밥', 7),\n",
       " ('#애월혼밥', 7),\n",
       " ('#애월해안도로', 7),\n",
       " ('#애월가볼만한곳', 7),\n",
       " ('#애월데이트코스', 7),\n",
       " ('#제주서쪽맛집', 7),\n",
       " ('#제주카레맛집', 7),\n",
       " ('#제주데이트코스', 7),\n",
       " ('#jeju', 7),\n",
       " ('#제주카페', 7),\n",
       " ('#맛스타그램', 6),\n",
       " ('#먹스타그램', 6),\n",
       " ('#애월핫플', 5),\n",
       " ('#돔베라면', 5),\n",
       " ('#돔베덮밥', 5),\n",
       " ('#연동제주분식', 5),\n",
       " ('#제주타르트', 5),\n",
       " ('#일상', 5),\n",
       " ('#성산맛집', 4),\n",
       " ('#제주애월맛집', 4),\n",
       " ('#전복김밥', 4)]"
      ]
     },
     "execution_count": 10,
     "metadata": {},
     "output_type": "execute_result"
    }
   ],
   "source": [
    "# 가장 많이 사용된 해시태그 살펴보기 \n",
    "tag_counts.most_common(50)"
   ]
  },
  {
   "cell_type": "code",
   "execution_count": 11,
   "metadata": {},
   "outputs": [
    {
     "data": {
      "text/plain": [
       "[('#제주도맛집', 57),\n",
       " ('#제주맛집', 35),\n",
       " ('', 28),\n",
       " ('#애월맛집', 18),\n",
       " ('#제주도민맛집', 16),\n",
       " ('#제주살이', 15),\n",
       " ('#한림맛집', 13),\n",
       " ('#제주시맛집', 13),\n",
       " ('#제주도여행', 12),\n",
       " ('#서귀포맛집', 10)]"
      ]
     },
     "execution_count": 11,
     "metadata": {},
     "output_type": "execute_result"
    }
   ],
   "source": [
    "# 데이터 정제하기\n",
    "STOPWORDS = ['#일상', '#선팔', '#제주도', '#jeju', '#반영구', '#제주자연눈썹','#서귀포눈썹문신', '#제주눈썹문신', '#소통', '#맞팔']\n",
    "\n",
    "tag_total_selected = []\n",
    "for tag in tags_total:\n",
    "    if tag not in STOPWORDS:\n",
    "        tag_total_selected.append(tag)\n",
    "        \n",
    "tag_counts_selected = Counter(tag_total_selected)\n",
    "tag_counts_selected.most_common(10)"
   ]
  },
  {
   "cell_type": "code",
   "execution_count": 15,
   "metadata": {},
   "outputs": [],
   "source": [
    "# 시각화 라이브러리 호출 및 환경 설정(한글 폰트)\n",
    "import matplotlib.pyplot as plt\n",
    "import seaborn as sns\n",
    "from matplotlib import font_manager, rc\n",
    "import sys\n",
    "\n",
    "if sys.platform in [\"win32\", \"win64\"]:\n",
    "    font_name = \"malgun gothic\"\n",
    "elif sys.platform == \"darwin\":\n",
    "    font_name = \"AppleGothic\"\n",
    "\n",
    "rc('font',family=font_name)"
   ]
  },
  {
   "cell_type": "code",
   "execution_count": 18,
   "metadata": {
    "scrolled": true
   },
   "outputs": [
    {
     "data": {
      "text/plain": [
       "<matplotlib.axes._subplots.AxesSubplot at 0x114a9f6a0>"
      ]
     },
     "execution_count": 18,
     "metadata": {},
     "output_type": "execute_result"
    },
    {
     "data": {
      "image/png": "[encoded data removed]",
      "text/plain": [
       "<Figure size 720x576 with 1 Axes>"
      ]
     },
     "metadata": {
      "needs_background": "light"
     },
     "output_type": "display_data"
    }
   ],
   "source": [
    "# 데이터 준비하기\n",
    "tag_counts_df = pd.DataFrame(tag_counts_selected.most_common(30))\n",
    "tag_counts_df.columns = ['tags', 'counts']\n",
    "plt.figure(figsize=(10,8)) \n",
    "sns.barplot(x='counts', y='tags', data = tag_counts_df)"
   ]
  },
  {
   "cell_type": "code",
   "execution_count": 21,
   "metadata": {},
   "outputs": [
    {
     "ename": "ModuleNotFoundError",
     "evalue": "No module named 'wordcloud'",
     "output_type": "error",
     "traceback": [
      "\u001b[0;31m---------------------------------------------------------------------------\u001b[0m",
      "\u001b[0;31mModuleNotFoundError\u001b[0m                       Traceback (most recent call last)",
      "\u001b[0;32m<ipython-input-21-db510ea46132>\u001b[0m in \u001b[0;36m<module>\u001b[0;34m\u001b[0m\n\u001b[0;32m----> 1\u001b[0;31m \u001b[0;32mfrom\u001b[0m \u001b[0mwordcloud\u001b[0m \u001b[0;32mimport\u001b[0m \u001b[0mWordCloud\u001b[0m\u001b[0;34m\u001b[0m\u001b[0;34m\u001b[0m\u001b[0m\n\u001b[0m\u001b[1;32m      2\u001b[0m \u001b[0;32mimport\u001b[0m \u001b[0mplatform\u001b[0m\u001b[0;34m\u001b[0m\u001b[0;34m\u001b[0m\u001b[0m\n\u001b[1;32m      3\u001b[0m \u001b[0;34m\u001b[0m\u001b[0m\n\u001b[1;32m      4\u001b[0m \u001b[0;32mif\u001b[0m \u001b[0mplatform\u001b[0m\u001b[0;34m.\u001b[0m\u001b[0msystem\u001b[0m\u001b[0;34m(\u001b[0m\u001b[0;34m)\u001b[0m \u001b[0;34m==\u001b[0m \u001b[0;34m'Windows'\u001b[0m\u001b[0;34m:\u001b[0m   \u001b[0;31m#윈도우의 경우\u001b[0m\u001b[0;34m\u001b[0m\u001b[0;34m\u001b[0m\u001b[0m\n\u001b[1;32m      5\u001b[0m     \u001b[0mfont_path\u001b[0m \u001b[0;34m=\u001b[0m \u001b[0;34m\"c:/Windows/Fonts/malgun.ttf\"\u001b[0m\u001b[0;34m\u001b[0m\u001b[0;34m\u001b[0m\u001b[0m\n",
      "\u001b[0;31mModuleNotFoundError\u001b[0m: No module named 'wordcloud'"
     ]
    }
   ],
   "source": [
    "from wordcloud import WordCloud\n",
    "import platform\n",
    "\n",
    "if platform.system() == 'Windows':   #윈도우의 경우\n",
    "    font_path = \"c:/Windows/Fonts/malgun.ttf\"\n",
    "elif platform.system() == \"Darwin\":   #Mac 의 경우\n",
    "    font_path = \"/Users/$USER/Library/Fonts/AppleGothic.ttf\""
   ]
  },
  {
   "cell_type": "code",
   "execution_count": null,
   "metadata": {},
   "outputs": [],
   "source": [
    "wordcloud=WordCloud(font_path= font_path, \n",
    "                    background_color=\"white\",\n",
    "                    max_words=100,\n",
    "                    relative_scaling= 0.3,\n",
    "                    width = 800,\n",
    "                    height = 400\n",
    "                 ).generate_from_frequencies(tag_counts_selected)  \n",
    "plt.figure(figsize=(15,10))\n",
    "plt.imshow(wordcloud)\n",
    "plt.axis('off')\n",
    "plt.savefig('./files/3_2_tag-wordcloud.png')"
   ]
  }
 ],
 "metadata": {
  "kernelspec": {
   "display_name": "Python 3",
   "language": "python",
   "name": "python3"
  },
  "language_info": {
   "codemirror_mode": {
    "name": "ipython",
    "version": 3
   },
   "file_extension": ".py",
   "mimetype": "text/x-python",
   "name": "python",
   "nbconvert_exporter": "python",
   "pygments_lexer": "ipython3",
   "version": "3.7.4"
  }
 },
 "nbformat": 4,
 "nbformat_minor": 4
}
