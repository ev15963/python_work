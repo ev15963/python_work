{
 "cells": [
  {
   "cell_type": "code",
   "execution_count": null,
   "metadata": {},
   "outputs": [],
   "source": [
    "# 라이브러리 설치하기 (selenium)\n",
    "# !pip install selenium\n",
    "# !pip install bs4"
   ]
  },
  {
   "cell_type": "code",
   "execution_count": 117,
   "metadata": {},
   "outputs": [],
   "source": [
    "# 라이브러리 추가하기\n",
    "from selenium import webdriver\n",
    "from bs4 import BeautifulSoup\n",
    "import time # 라이브러리는 몰아서 맨앞에\n",
    "from random import randint, uniform #rand+int=정수형 무작위로 uniform 소수점\n",
    "import re #정규식"
   ]
  },
  {
   "cell_type": "markdown",
   "metadata": {},
   "source": [
    "# 인스타에 접속해 화면 이동하기 연습\n",
    "* 인스타 '제주도맛집' 해시태그 \n",
    "* 게시물 클릭 하고 다음 게시물로 이동하기"
   ]
  },
  {
   "cell_type": "code",
   "execution_count": 130,
   "metadata": {},
   "outputs": [],
   "source": [
    "# 함수 선언\n",
    "def insta_searching(word):\n",
    "    url = 'https://www.instagram.com/explore/tags/' + word\n",
    "    return url"
   ]
  },
  {
   "cell_type": "code",
   "execution_count": 119,
   "metadata": {},
   "outputs": [],
   "source": [
    "# webdriver를 이용해 크롬드라이버 실행, 실행된 데이터는 browser 변수에 할당 합니다.\n",
    "browser = webdriver.Chrome('c:/informs/chromedriver.exe')"
   ]
  },
  {
   "cell_type": "code",
   "execution_count": 131,
   "metadata": {},
   "outputs": [],
   "source": [
    "# 해시태그 제주도맛집 인스타그램  \n",
    "url = insta_searching('제주도맛집')\n",
    "browser.get(url)"
   ]
  },
  {
   "cell_type": "code",
   "execution_count": null,
   "metadata": {},
   "outputs": [],
   "source": []
  },
  {
   "cell_type": "code",
   "execution_count": 132,
   "metadata": {},
   "outputs": [
    {
     "data": {
      "text/plain": [
       "<selenium.webdriver.remote.webelement.WebElement (session=\"294dc3d3ba25e8f3fa36a5278650f399\", element=\"0dbd8bdf-8420-47d2-8680-9d76cc3755db\")>"
      ]
     },
     "execution_count": 132,
     "metadata": {},
     "output_type": "execute_result"
    }
   ],
   "source": [
    "#div .class\n",
    "first=browser.find_element_by_css_selector('div._9AhH0')\n",
    "first"
   ]
  },
  {
   "cell_type": "code",
   "execution_count": 133,
   "metadata": {},
   "outputs": [],
   "source": [
    "first.click() #클릭해서 실행만해주는 함수"
   ]
  },
  {
   "cell_type": "code",
   "execution_count": 135,
   "metadata": {},
   "outputs": [],
   "source": [
    "next_button=browser.find_element_by_css_selector('a._65Bje.coreSpriteRightPaginationArrow')\n",
    "next_button.click() #css_slector 엘리먼트 요소로 가져와 웹브러우져를 이용하여 사용\n",
    "\n",
    "#browser.find\n",
    "\n",
    "#browser.find_element_by_css_selector 자주사용 다른언어도 "
   ]
  },
  {
   "cell_type": "code",
   "execution_count": 6,
   "metadata": {},
   "outputs": [],
   "source": [
    "# 첫 번째 게시글 찾아서 클릭하기 ('태그명.클래스')\n",
    "browser.find_element_by_css_selector"
   ]
  },
  {
   "cell_type": "code",
   "execution_count": 136,
   "metadata": {},
   "outputs": [],
   "source": [
    "# 다음 게시물로 이동\n",
    "next_button = browser.find_element_by_css_selector('a._65Bje.coreSpriteRightPaginationArrow')\n",
    "next_button.click()"
   ]
  },
  {
   "cell_type": "code",
   "execution_count": 38,
   "metadata": {
    "scrolled": true
   },
   "outputs": [
    {
     "name": "stdout",
     "output_type": "stream",
     "text": [
      "첫번째\n",
      "두번째\n"
     ]
    }
   ],
   "source": [
    "print('첫번째')\n",
    "time.sleep(3)\n",
    "print('두번째')"
   ]
  },
  {
   "cell_type": "code",
   "execution_count": 39,
   "metadata": {},
   "outputs": [],
   "source": [
    "next_button.click()\n",
    "time.sleep(4)\n",
    "next_button.click()\n",
    "time.sleep(4)\n",
    "next_button.click()\n",
    "time.sleep(4)"
   ]
  },
  {
   "cell_type": "code",
   "execution_count": 47,
   "metadata": {},
   "outputs": [],
   "source": [
    "html = browser.page_source\n",
    "soup = BeautifulSoup(html, 'html.parser')"
   ]
  },
  {
   "cell_type": "markdown",
   "metadata": {},
   "source": [
    "# 과도한 트래픽 발생을 방지하기 위한 방법\n",
    "\n",
    "* 화면 호출 또는 클릭 실행 중간에 대기시간을 지정한다"
   ]
  },
  {
   "cell_type": "code",
   "execution_count": 8,
   "metadata": {},
   "outputs": [
    {
     "name": "stdout",
     "output_type": "stream",
     "text": [
      "첫 번째\n",
      "두 번째\n"
     ]
    }
   ],
   "source": [
    "# time.sleep()을 이용해 실행 대기\n",
    "print('첫 번째')\n",
    "time.sleep(3)\n",
    "print('두 번째')"
   ]
  },
  {
   "cell_type": "code",
   "execution_count": 9,
   "metadata": {},
   "outputs": [],
   "source": [
    "# 5초마다 다음 게시물로 이동하기\n",
    "time.sleep(5)\n",
    "next_button.click()\n",
    "time.sleep(5)\n",
    "next_button.click()\n",
    "time.sleep(5)\n",
    "next_button.click()"
   ]
  },
  {
   "cell_type": "code",
   "execution_count": 42,
   "metadata": {
    "scrolled": true
   },
   "outputs": [
    {
     "data": {
      "text/plain": [
       "65"
      ]
     },
     "execution_count": 42,
     "metadata": {},
     "output_type": "execute_result"
    }
   ],
   "source": [
    "i=randint(1, 100)\n",
    "i"
   ]
  },
  {
   "cell_type": "code",
   "execution_count": 46,
   "metadata": {},
   "outputs": [
    {
     "name": "stdout",
     "output_type": "stream",
     "text": [
      "4\n",
      "3\n",
      "4\n"
     ]
    }
   ],
   "source": [
    "next_button.click()\n",
    "i = randint(1,5)\n",
    "print(i)\n",
    "time.sleep(i)\n",
    "\n",
    "next_button.click()\n",
    "i = randint(1,5)\n",
    "print(i)\n",
    "time.sleep(4)\n",
    "\n",
    "next_button.click()\n",
    "i = randint(1,5)\n",
    "print(i)\n",
    "time.sleep(4)\n"
   ]
  },
  {
   "cell_type": "code",
   "execution_count": 10,
   "metadata": {},
   "outputs": [
    {
     "name": "stdout",
     "output_type": "stream",
     "text": [
      "65\n",
      "95.03741647575204\n"
     ]
    }
   ],
   "source": [
    "# 난수 생성하기\n",
    "i = randint(1, 100)\n",
    "f = uniform(1.0, 100.0)\n",
    "print(i)\n",
    "print(f)"
   ]
  },
  {
   "cell_type": "code",
   "execution_count": 12,
   "metadata": {},
   "outputs": [
    {
     "name": "stdout",
     "output_type": "stream",
     "text": [
      "4.86940909293574\n",
      "4.86940909293574\n",
      "4.86940909293574\n"
     ]
    }
   ],
   "source": [
    "n = uniform(3.0, 10.0)\n",
    "time.sleep(n)\n",
    "print(n)\n",
    "next_button.click()\n",
    "\n",
    "n = uniform(3.0, 10.0)\n",
    "time.sleep(n)\n",
    "print(n)\n",
    "next_button.click()\n",
    "\n",
    "n = uniform(3.0, 10.0)\n",
    "time.sleep(n)\n",
    "print(n)\n",
    "next_button.click()"
   ]
  },
  {
   "cell_type": "markdown",
   "metadata": {},
   "source": [
    "# 게시물 정보 가져오기"
   ]
  },
  {
   "cell_type": "code",
   "execution_count": 30,
   "metadata": {},
   "outputs": [],
   "source": [
    "html = browser.page_source\n",
    "soup = BeautifulSoup(html, 'html.parser')"
   ]
  },
  {
   "cell_type": "code",
   "execution_count": 52,
   "metadata": {},
   "outputs": [
    {
     "data": {
      "text/plain": [
       "'#제주도#오설록티뮤지엄#제주오설록 ㆍㆍ#제주여행#제주카페#서귀포#서귀포카페#오설록#녹차#제주도맛집#서귀포맛집#caffe#dessert#tea'"
      ]
     },
     "execution_count": 52,
     "metadata": {},
     "output_type": "execute_result"
    }
   ],
   "source": [
    "content = soup.select('div.C4VMK > span')[0].text\n",
    "content"
   ]
  },
  {
   "cell_type": "code",
   "execution_count": 31,
   "metadata": {
    "collapsed": true
   },
   "outputs": [
    {
     "data": {
      "text/plain": [
       "'#고집돌우럭 #꼭가세요 #제주맛집 #제주도맛집 #고집돌우럭먹방 #함덕맛집 #중문맛집 #제주공항맛집 #제주도여행 #jeju'"
      ]
     },
     "execution_count": 31,
     "metadata": {},
     "output_type": "execute_result"
    }
   ],
   "source": [
    "# 게시글 가져오기\n",
    "content = soup.select('div.C4VMK > span')[0].text\n",
    "content"
   ]
  },
  {
   "cell_type": "code",
   "execution_count": 57,
   "metadata": {},
   "outputs": [
    {
     "data": {
      "text/plain": [
       "['#제주도',\n",
       " '#오설록티뮤지엄',\n",
       " '#제주오설록',\n",
       " '#제주여행',\n",
       " '#제주카페',\n",
       " '#서귀포',\n",
       " '#서귀포카페',\n",
       " '#오설록',\n",
       " '#녹차',\n",
       " '#제주도맛집',\n",
       " '#서귀포맛집',\n",
       " '#caffe',\n",
       " '#dessert',\n",
       " '#tea']"
      ]
     },
     "execution_count": 57,
     "metadata": {},
     "output_type": "execute_result"
    }
   ],
   "source": [
    "tags= re.findall(r'#[^\\s#,\\\\]+', content)\n",
    "tags"
   ]
  },
  {
   "cell_type": "code",
   "execution_count": 60,
   "metadata": {},
   "outputs": [
    {
     "data": {
      "text/plain": [
       "['#제주도',\n",
       " '#오설록티뮤지엄',\n",
       " '#제주오설록',\n",
       " '#제주여행',\n",
       " '#제주카페',\n",
       " '#서귀포',\n",
       " '#서귀포카페',\n",
       " '#오설록',\n",
       " '#녹차',\n",
       " '#제주도맛집',\n",
       " '#서귀포맛집',\n",
       " '#caffe',\n",
       " '#dessert',\n",
       " '#tea']"
      ]
     },
     "execution_count": 60,
     "metadata": {},
     "output_type": "execute_result"
    }
   ],
   "source": [
    "tag = re.findall(r'#[^\\s#,\\\\]+', content)\n",
    "tag"
   ]
  },
  {
   "cell_type": "code",
   "execution_count": 32,
   "metadata": {},
   "outputs": [
    {
     "data": {
      "text/plain": [
       "['#고집돌우럭',\n",
       " '#꼭가세요',\n",
       " '#제주맛집',\n",
       " '#제주도맛집',\n",
       " '#고집돌우럭먹방',\n",
       " '#함덕맛집',\n",
       " '#중문맛집',\n",
       " '#제주공항맛집',\n",
       " '#제주도여행',\n",
       " '#jeju']"
      ]
     },
     "execution_count": 32,
     "metadata": {},
     "output_type": "execute_result"
    }
   ],
   "source": [
    "# 해시태그 가져오기\n",
    "tags = re.findall(r'#[^\\s#,\\\\]+', content)  \n",
    "tags"
   ]
  },
  {
   "cell_type": "code",
   "execution_count": 33,
   "metadata": {},
   "outputs": [
    {
     "ename": "IndexError",
     "evalue": "list index out of range",
     "output_type": "error",
     "traceback": [
      "\u001b[0;31m---------------------------------------------------------------------------\u001b[0m",
      "\u001b[0;31mIndexError\u001b[0m                                Traceback (most recent call last)",
      "\u001b[0;32m<ipython-input-33-cd5d2a168972>\u001b[0m in \u001b[0;36m<module>\u001b[0;34m\u001b[0m\n\u001b[1;32m      1\u001b[0m \u001b[0;31m# 좋아요 숫자 가져오기 (과제)\u001b[0m\u001b[0;34m\u001b[0m\u001b[0;34m\u001b[0m\u001b[0;34m\u001b[0m\u001b[0m\n\u001b[0;32m----> 2\u001b[0;31m \u001b[0mlike\u001b[0m \u001b[0;34m=\u001b[0m \u001b[0msoup\u001b[0m\u001b[0;34m.\u001b[0m\u001b[0mselect\u001b[0m\u001b[0;34m(\u001b[0m\u001b[0;34m'section.EDfFK.ygqzn > div > div > button > span'\u001b[0m\u001b[0;34m)\u001b[0m\u001b[0;34m[\u001b[0m\u001b[0;36m0\u001b[0m\u001b[0;34m]\u001b[0m\u001b[0;34m.\u001b[0m\u001b[0mtext\u001b[0m\u001b[0;34m\u001b[0m\u001b[0;34m\u001b[0m\u001b[0m\n\u001b[0m\u001b[1;32m      3\u001b[0m \u001b[0mlike\u001b[0m\u001b[0;34m\u001b[0m\u001b[0;34m\u001b[0m\u001b[0m\n",
      "\u001b[0;31mIndexError\u001b[0m: list index out of range"
     ]
    }
   ],
   "source": [
    "# 좋아요 숫자 가져오기 (과제) - 동영상은 좋아요가 없어요 ㅠㅠ\n",
    "like = soup.select('section.EDfFK.ygqzn > div > div > button > span')[0]\n",
    "like"
   ]
  },
  {
   "cell_type": "code",
   "execution_count": 75,
   "metadata": {},
   "outputs": [
    {
     "data": {
      "text/plain": [
       "'3'"
      ]
     },
     "execution_count": 75,
     "metadata": {},
     "output_type": "execute_result"
    }
   ],
   "source": [
    "like = soup.select('section.EDfFK.ygqzn > div.Igw0E.IwRSH.eGOV_.ybXk5.vwCYk >div.Nm9Fw > button.sqdOP.yWX7d._8A5w5 > span')\n",
    "\n",
    "like[0].text"
   ]
  },
  {
   "cell_type": "code",
   "execution_count": 87,
   "metadata": {},
   "outputs": [
    {
     "data": {
      "text/plain": [
       "'2020-03-19'"
      ]
     },
     "execution_count": 87,
     "metadata": {},
     "output_type": "execute_result"
    }
   ],
   "source": [
    "date0 = soup.select('time._1o9PC.Nzb55')[0]['datetime'] #속성명 가져오기\n",
    "date0\n",
    "date = soup.select('time._1o9PC.Nzb55')[0]['datetime'][:10]\n",
    "date"
   ]
  },
  {
   "cell_type": "code",
   "execution_count": 35,
   "metadata": {},
   "outputs": [
    {
     "data": {
      "text/plain": [
       "'2020-03-12'"
      ]
     },
     "execution_count": 35,
     "metadata": {},
     "output_type": "execute_result"
    }
   ],
   "source": [
    "date = soup.select('time._1o9PC.Nzb55')[0]['datetime'][:10]\n",
    "date"
   ]
  },
  {
   "cell_type": "code",
   "execution_count": 36,
   "metadata": {},
   "outputs": [
    {
     "data": {
      "text/plain": [
       "'고집돌우럭중문점'"
      ]
     },
     "execution_count": 36,
     "metadata": {},
     "output_type": "execute_result"
    }
   ],
   "source": [
    "# 장소 정보 가져오기 (과제)\n",
    "place = soup.select('div.M30cS')[0].text\n",
    "place"
   ]
  },
  {
   "cell_type": "code",
   "execution_count": 91,
   "metadata": {},
   "outputs": [
    {
     "data": {
      "text/plain": [
       "'오설록티뮤지엄'"
      ]
     },
     "execution_count": 91,
     "metadata": {},
     "output_type": "execute_result"
    }
   ],
   "source": [
    "place = soup.select('div.M30cS')[0].text\n",
    "place"
   ]
  },
  {
   "cell_type": "code",
   "execution_count": 37,
   "metadata": {},
   "outputs": [],
   "source": [
    "def get_content(html):\n",
    "    soup = BeautifulSoup(html, 'html.parser')\n",
    "    try:\n",
    "        content = soup.select('div.C4VMK > span')[0].text\n",
    "    except:\n",
    "        content = ''\n",
    "        \n",
    "    try:\n",
    "        tags = re.findall(r'#[^\\s#,\\\\]+', content)  \n",
    "    except:\n",
    "        tags = ''\n",
    "        \n",
    "    try:\n",
    "        like = soup.select('section.EDfFK.ygqzn > div > div > button > span')[0].text\n",
    "    except:\n",
    "        like = ''\n",
    "    \n",
    "    try:\n",
    "        date = soup.select('time._1o9PC.Nzb55')[0]['datetime'][:10]\n",
    "    except:\n",
    "        date = ''\n",
    "        \n",
    "    try:\n",
    "        place = soup.select('div.M30cS')[0].text\n",
    "    except:\n",
    "        place = ''\n",
    "        \n",
    "    data = [content, date, like, place, tags]\n",
    "    return data"
   ]
  },
  {
   "cell_type": "code",
   "execution_count": 115,
   "metadata": {},
   "outputs": [],
   "source": [
    "def get_contents(html):\n",
    "    soup = BeautifulSoup(html, 'html.parser')\n",
    "    try:\n",
    "        content = soup.select('div.C4VMK > span')[1].text\n",
    "    except:\n",
    "        content=''\n",
    "        \n",
    "    try:\n",
    "        tags= re.findall(r'#[^\\s#,\\\\]+', content)\n",
    "    except:\n",
    "        tags=''\n",
    "        \n",
    "    try:\n",
    "        like = soup.select('section.EDfFK.ygqzn > div > div > button > span')[0].text\n",
    "    except:\n",
    "        like=''\n",
    "        \n",
    "    try:\n",
    "        date = soup.select('time._1o9PC.Nzb55')[0]['datetime'][:10]\n",
    "    except:\n",
    "        date=''\n",
    "        \n",
    "    try:\n",
    "        place = soup.select('div.M30cS')[0].text\n",
    "    except:\n",
    "        place=''\n",
    "\n",
    "    data = [content, tags, like, date, place]\n",
    "    return data"
   ]
  },
  {
   "cell_type": "code",
   "execution_count": 116,
   "metadata": {},
   "outputs": [
    {
     "data": {
      "text/plain": [
       "['', [], '3', '2020-03-19', '오설록티뮤지엄']"
      ]
     },
     "execution_count": 116,
     "metadata": {},
     "output_type": "execute_result"
    }
   ],
   "source": [
    "d = get_contents(html)\n",
    "d"
   ]
  },
  {
   "cell_type": "code",
   "execution_count": 39,
   "metadata": {},
   "outputs": [],
   "source": [
    "browser.close()"
   ]
  }
 ],
 "metadata": {
  "kernelspec": {
   "display_name": "Python 3",
   "language": "python",
   "name": "python3"
  },
  "language_info": {
   "codemirror_mode": {
    "name": "ipython",
    "version": 3
   },
   "file_extension": ".py",
   "mimetype": "text/x-python",
   "name": "python",
   "nbconvert_exporter": "python",
   "pygments_lexer": "ipython3",
   "version": "3.7.4"
  }
 },
 "nbformat": 4,
 "nbformat_minor": 4
}
