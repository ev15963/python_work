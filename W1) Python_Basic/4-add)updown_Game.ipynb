{
 "cells": [
  {
   "cell_type": "code",
   "execution_count": null,
   "metadata": {},
   "outputs": [],
   "source": [
    "import random"
   ]
  },
  {
   "cell_type": "code",
   "execution_count": null,
   "metadata": {},
   "outputs": [],
   "source": [
    "# 정답 랜덤하게 만들기\n",
    "answer = int(random.uniform(1, 100))\n",
    "answer"
   ]
  },
  {
   "cell_type": "code",
   "execution_count": null,
   "metadata": {},
   "outputs": [],
   "source": [
    "# 값 입력받기\n",
    "n = input()   \n",
    "print(n)"
   ]
  },
  {
   "cell_type": "code",
   "execution_count": null,
   "metadata": {},
   "outputs": [],
   "source": [
    "# 값 입력받고, 일치하는지 / 큰 지 / 작은 지 알려주기\n",
    "\n",
    "answer = int(random.uniform(1, 100))\n",
    "n = int(input())   #  추측한 숫자\n",
    "\n",
    "if n > answer:\n",
    "    print('{}보다 작은 수 입니다'.format(n))\n",
    "elif n < answer:\n",
    "    print('{}보다 큰 수 입니다'.format(n))\n",
    "else:\n",
    "    print('정답입니다')"
   ]
  },
  {
   "cell_type": "code",
   "execution_count": null,
   "metadata": {},
   "outputs": [],
   "source": []
  },
  {
   "cell_type": "markdown",
   "metadata": {},
   "source": [
    "## 맞출때 까지 하려면???   -->   `for반복문`"
   ]
  },
  {
   "cell_type": "code",
   "execution_count": null,
   "metadata": {},
   "outputs": [],
   "source": [
    "###### 맞출때까지 반복하기.  최대 시도가능 횟수(life) 지정하기\n",
    "\n",
    "answer = int(random.uniform(1, 100))\n",
    "life = 10   # 10번 맞추기\n",
    "\n",
    "for i in range(life):\n",
    "\n",
    "    n = int(input())   #  추측한 숫자 입력하기\n",
    "    \n",
    "    if n > answer:\n",
    "        print('  Wrong!({}/{}): {}보다 작은 수 입니다'.format(i+1, life, n))\n",
    "    elif n < answer:\n",
    "        print('  Wrong!({}/{}): {}보다 큰 수 입니다'.format(i+1, life, n))\n",
    "    else:\n",
    "        print('!!!!!!!! 정답입니다 !!!!!!!!')\n",
    "        break"
   ]
  }
 ],
 "metadata": {
  "kernelspec": {
   "display_name": "Python 3",
   "language": "python",
   "name": "python3"
  },
  "language_info": {
   "codemirror_mode": {
    "name": "ipython",
    "version": 3
   },
   "file_extension": ".py",
   "mimetype": "text/x-python",
   "name": "python",
   "nbconvert_exporter": "python",
   "pygments_lexer": "ipython3",
   "version": "3.6.7"
  }
 },
 "nbformat": 4,
 "nbformat_minor": 2
}
