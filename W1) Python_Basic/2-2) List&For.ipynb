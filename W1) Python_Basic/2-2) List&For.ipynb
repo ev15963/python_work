{
 "cells": [
  {
   "cell_type": "markdown",
   "metadata": {},
   "source": [
    "# 2. 파이썬 살펴보기"
   ]
  },
  {
   "cell_type": "markdown",
   "metadata": {},
   "source": [
    "### 2.2.자료 저장 구조: 리스트"
   ]
  },
  {
   "cell_type": "markdown",
   "metadata": {},
   "source": [
    "#### 2.2.1. 리스트 입력하기"
   ]
  },
  {
   "cell_type": "markdown",
   "metadata": {},
   "source": [
    "    리스트: 여러개의 값을 묶어서 관리하기 쉽게 해 놓은 것\n",
    "    리스트명 = [구성1, 구성2, 구성3]"
   ]
  },
  {
   "cell_type": "code",
   "execution_count": null,
   "metadata": {},
   "outputs": [],
   "source": [
    "# 빈 리스트 입력 가능\n",
    "\n",
    "a = []   # 아무런 값이 없는 리스트"
   ]
  },
  {
   "cell_type": "code",
   "execution_count": null,
   "metadata": {},
   "outputs": [],
   "source": [
    "# 값 들어있는 리스트 입력 가능\n",
    "\n",
    "b = [1,11,3]  # 숫자 입력 가능\n",
    "\n",
    "c = ['귤','바나나','파인애플','사과']   # 문자 입력 가능\n",
    "\n",
    "d = ['귤', 500, 3]   #문자, 숫자 가능\n",
    "\n",
    "print(a)\n",
    "print(b)\n",
    "print(c)\n",
    "print(d)"
   ]
  },
  {
   "cell_type": "markdown",
   "metadata": {},
   "source": [
    "#### 2.2.2.원소 선택하기: 인덱싱 / 슬라이싱"
   ]
  },
  {
   "cell_type": "code",
   "execution_count": null,
   "metadata": {},
   "outputs": [],
   "source": [
    "# 인덱싱: 리스트 내 특정원소 선택하기(문자열 인덱싱과 동일)\n",
    "# list[index]\n",
    "\n",
    "k2 = ['b','c','e']\n",
    "#      0   1   2  \n",
    "#     -3  -2   -1\n",
    "\n",
    "print( k2[1] )\n",
    "print(k2[-2])\n",
    "print(k2[-1])"
   ]
  },
  {
   "cell_type": "code",
   "execution_count": null,
   "metadata": {},
   "outputs": [],
   "source": [
    "# 실습) 'b' 출력하기\n"
   ]
  },
  {
   "cell_type": "code",
   "execution_count": null,
   "metadata": {},
   "outputs": [],
   "source": [
    "# 슬라이싱: 리스트 내 특정원소 구간 선택하기(문자열 슬라이싱과 동일)\n",
    "# list[start:end+1]\n",
    "\n",
    "k3 = ['b','c','e', 'f', 'g','h']\n",
    "#     0    1   2    3    4   5\n",
    "#     -6      -4             -1\n",
    "\n",
    "#리스트명[시작위치:종료다음위치]\n",
    "print(k3[2:4])\n",
    "print(k3[2:-1])\n",
    "print(k3[:3])    # 시작위치가 0 이면 생략가능\n",
    "print(k3[4:])    # 마지막 원소까지 선택이면 생략가능\n"
   ]
  },
  {
   "cell_type": "code",
   "execution_count": null,
   "metadata": {},
   "outputs": [],
   "source": [
    "# 실습:   ['c','e', 'f', 'g' ] 출력하기\n"
   ]
  },
  {
   "cell_type": "markdown",
   "metadata": {},
   "source": [
    " #### 2.2.3. 원소 개수 파악하기: len(이름)"
   ]
  },
  {
   "cell_type": "code",
   "execution_count": null,
   "metadata": {},
   "outputs": [],
   "source": [
    "# 리스트 원소 개수 구하기 : len(리스트명)\n",
    "k3 = ['b','c','e', 'f', 'g','h']\n",
    "print(len(k3))"
   ]
  },
  {
   "cell_type": "code",
   "execution_count": null,
   "metadata": {},
   "outputs": [],
   "source": [
    "# 글자 개수 구하기 --> 문자열의 원소(글자) 개수 구하기 : len(문자열)\n",
    "print(len('사과'))\n",
    "print(len('아버지가방에들어가신다'))\n",
    "print(len('아버지가 방에 들어가신다'))   # 띄어쓰기도 하나의 글자"
   ]
  },
  {
   "cell_type": "markdown",
   "metadata": {},
   "source": [
    "#### 2.2.4.리스트 응용 --> 크롤링 데이터 저장하기"
   ]
  },
  {
   "cell_type": "code",
   "execution_count": null,
   "metadata": {
    "scrolled": true
   },
   "outputs": [],
   "source": [
    "# 리스트 내 리스트 형태도 가능\n",
    "# 리스트명 = [ [a_1,a_2,a_3], [b_1,b_2,b_3]]\n",
    "\n",
    "s = [['바나나',1500],['귤',2000], ['사과',1000]]\n",
    "print(s[0])\n",
    "print(s[0][0])"
   ]
  },
  {
   "cell_type": "code",
   "execution_count": null,
   "metadata": {},
   "outputs": [],
   "source": [
    "len(s)"
   ]
  },
  {
   "cell_type": "code",
   "execution_count": null,
   "metadata": {},
   "outputs": [],
   "source": [
    "print(s)\n",
    "print(len(s))   # len() : 구성 요소 개수 확인\n",
    "\n",
    "print(s[1])\n",
    "print(len(s[1]))\n",
    "\n",
    "print(s[-1][-1])"
   ]
  },
  {
   "cell_type": "markdown",
   "metadata": {},
   "source": [
    "#### 2.2.5 리스트 병합     `+`     Vs   `append()`"
   ]
  },
  {
   "cell_type": "code",
   "execution_count": null,
   "metadata": {},
   "outputs": [],
   "source": [
    "#  리스트 뒤에 연결시키기 (+)\n",
    "l1 = ['a']\n",
    "l2 = ['b','c','e']\n",
    "print(l1 + l2)\n",
    "print(l2 + l1)   # 원소 뒤에 추가함"
   ]
  },
  {
   "cell_type": "code",
   "execution_count": null,
   "metadata": {},
   "outputs": [],
   "source": [
    "# 리스트 뒤에 하나의 원소로 추가하기 (append)\n",
    "k1 = ['a']\n",
    "k2 = ['b','c','e']\n",
    "\n",
    "print(k1+k2)    # ['a', 'b', 'c', 'e']\n",
    "\n",
    "k1.append(k2)   # \"k1 원소의 마지막 자리에 k2 를 추가하라\"\n",
    "print(k1)   # ['a', ['b', 'c', 'e']]"
   ]
  },
  {
   "cell_type": "code",
   "execution_count": null,
   "metadata": {},
   "outputs": [],
   "source": [
    "len(k1)   "
   ]
  },
  {
   "cell_type": "markdown",
   "metadata": {},
   "source": [
    "---"
   ]
  },
  {
   "cell_type": "markdown",
   "metadata": {},
   "source": [
    "### 2.3.반복문"
   ]
  },
  {
   "cell_type": "markdown",
   "metadata": {},
   "source": [
    "    for name in group:*\n",
    "        name....\n",
    "        \n",
    "                   \n",
    "\"group에서 순서대로 하나씩 꺼낸다. 이때 꺼낸 것을 name 이라고 부른다\"\n",
    "\n",
    "**:**  다음줄부터 들여쓰기 한 구간까지 반복문!\n",
    "    \n",
    "    "
   ]
  },
  {
   "cell_type": "markdown",
   "metadata": {},
   "source": [
    "리스트 : 그룹으로 묶는 것. \n",
    "\n",
    "반복문 : 하나씩 꺼내어 작업하는 것."
   ]
  },
  {
   "cell_type": "code",
   "execution_count": null,
   "metadata": {},
   "outputs": [],
   "source": [
    "fruits = ['바나나','사과','딸기','배','감']\n",
    "\n",
    "for f in fruits:   \n",
    "    print(f)\n",
    "    print(1)"
   ]
  },
  {
   "cell_type": "code",
   "execution_count": null,
   "metadata": {},
   "outputs": [],
   "source": [
    "fruits = ['바나나','사과','딸기','배','감']\n",
    "\n",
    "for fruit in fruits:   \n",
    "    print(fruit)\n",
    "    \n",
    "    \n",
    "    \n",
    "print(5)"
   ]
  },
  {
   "cell_type": "code",
   "execution_count": null,
   "metadata": {},
   "outputs": [],
   "source": [
    "# 실습.   print()를 활용하여 1부터 9까지 출력해보기\n",
    "\n",
    "number_list = [1,2,3,4,5,6,7,8,9]\n"
   ]
  }
 ],
 "metadata": {
  "kernelspec": {
   "display_name": "Python 3",
   "language": "python",
   "name": "python3"
  },
  "language_info": {
   "codemirror_mode": {
    "name": "ipython",
    "version": 3
   },
   "file_extension": ".py",
   "mimetype": "text/x-python",
   "name": "python",
   "nbconvert_exporter": "python",
   "pygments_lexer": "ipython3",
   "version": "3.6.7"
  }
 },
 "nbformat": 4,
 "nbformat_minor": 2
}
