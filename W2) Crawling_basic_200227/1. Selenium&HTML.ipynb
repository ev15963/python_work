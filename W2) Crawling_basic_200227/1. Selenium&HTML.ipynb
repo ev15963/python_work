{
 "cells": [
  {
   "cell_type": "markdown",
   "metadata": {},
   "source": [
    "# selenium & chromedriver 설치 가이드\n",
    "\n",
    "`http://bit.ly/PWD_install_selenium`"
   ]
  },
  {
   "cell_type": "markdown",
   "metadata": {},
   "source": [
    "\n",
    "# 1. Selenium 시작하기\n"
   ]
  },
  {
   "cell_type": "markdown",
   "metadata": {},
   "source": [
    "###  1.1. Chrome 드라이버 설치하기\n",
    "1. 크롬드라이버 최신버전 다운: \n",
    "    https://sites.google.com/a/chromium.org/chromedriver/downloads\n",
    "\n",
    "2. `절대경로위치 지정하기 쉬운 폴더`에 압축 풀기  ex) `c:/informs` \n"
   ]
  },
  {
   "cell_type": "markdown",
   "metadata": {},
   "source": [
    "### 1.2. webdriver 열기"
   ]
  },
  {
   "cell_type": "code",
   "execution_count": 1,
   "metadata": {},
   "outputs": [
    {
     "name": "stdout",
     "output_type": "stream",
     "text": [
      "Requirement already satisfied: selenium in c:\\programdata\\anaconda3\\lib\\site-packages (3.141.0)\n",
      "Requirement already satisfied: urllib3 in c:\\programdata\\anaconda3\\lib\\site-packages (from selenium) (1.24.2)\n"
     ]
    }
   ],
   "source": [
    "# selenium 설치하기\n",
    "! pip install selenium"
   ]
  },
  {
   "cell_type": "code",
   "execution_count": 9,
   "metadata": {},
   "outputs": [],
   "source": [
    "# selenium 불러오기\n",
    "from selenium import webdriver"
   ]
  },
  {
   "cell_type": "markdown",
   "metadata": {},
   "source": [
    "※ import 에러 날 경우\n",
    "\n",
    "selenium 설치하기:     `! pip install selenium`    "
   ]
  },
  {
   "cell_type": "markdown",
   "metadata": {},
   "source": [
    "### Chrome 준비하기"
   ]
  },
  {
   "cell_type": "markdown",
   "metadata": {},
   "source": [
    "- 브라우저 열기\n",
    "`webdriver.Chrome('파일경로')`\n",
    "\n",
    "\n",
    "    - 윈도우:  `\"c:/informs/chromedriver.exe\"`\n",
    "    - 맥: 현재 쥬피터노트북 실행 위치에 설치 →  `\"./chromedriver\"`\n",
    "\n"
   ]
  },
  {
   "cell_type": "code",
   "execution_count": 40,
   "metadata": {},
   "outputs": [],
   "source": [
    "# webdriver 열어주기 : webdriver.Chrome('파일경로')\n",
    "\n",
    "## 윈도우\n",
    "# browser = webdriver.Chrome('C:/informs/chromedriver.exe')   # chromedriver가 설치된 폴더 지정 필요\n",
    " #browser = webdriver.Chrome(\"c:/informs/chromedriver.exe\")  #환경변수 PATH 경로지정 되어있는 폴더에 있는 경우\n",
    "browser = webdriver.Chrome() \n",
    "    \n",
    "## 맥\n",
    "#browser = webdriver.Chrome('./driver/chromedriver')"
   ]
  },
  {
   "cell_type": "code",
   "execution_count": 41,
   "metadata": {},
   "outputs": [
    {
     "name": "stdout",
     "output_type": "stream",
     "text": [
      "<class 'selenium.webdriver.chrome.webdriver.WebDriver'>\n"
     ]
    }
   ],
   "source": [
    "print(type(browser))"
   ]
  },
  {
   "cell_type": "markdown",
   "metadata": {},
   "source": [
    "※ 경로지정시  `슬러시 (/) 사용` \n",
    "    * 역슬러시(\\) X  : unicode 에러 발생 가능\n",
    "    * 슬러시(/)  O"
   ]
  },
  {
   "cell_type": "code",
   "execution_count": null,
   "metadata": {},
   "outputs": [],
   "source": [
    "# 브라우저 종료하기\n",
    "browser.close()"
   ]
  },
  {
   "cell_type": "markdown",
   "metadata": {},
   "source": [
    "## ※크롤링 과정 이해\n",
    " - 브라우저 열기\n",
    " - 접속하기 (URL) \n",
    " - 정보 살펴보기: html\n",
    " - 내가 원하는 정보 찾기  --> BeautifulSoup \n",
    " - 정보 --> 저장    (데이터 --> 판다스 --> 엑셀)"
   ]
  },
  {
   "cell_type": "markdown",
   "metadata": {},
   "source": [
    "### 1.3. url 접속하기"
   ]
  },
  {
   "cell_type": "code",
   "execution_count": null,
   "metadata": {},
   "outputs": [],
   "source": [
    "url = 'https://kiddwannabe.blog.me/'\n",
    "browser = webdriver.Chrome('./driver/chromedriver')\n",
    "browser.get(url)\n",
    "browser.implicitly_wait(3)    # 로딩 대기. 최대 3초간 기다린다"
   ]
  },
  {
   "cell_type": "code",
   "execution_count": null,
   "metadata": {},
   "outputs": [],
   "source": [
    "#예제) 멜론 차트 접속하기\n",
    "url = 'https://www.melon.com/chart/index.htm'\n",
    "browser.get(url)"
   ]
  },
  {
   "cell_type": "code",
   "execution_count": null,
   "metadata": {},
   "outputs": [],
   "source": [
    "browser.close()"
   ]
  },
  {
   "cell_type": "markdown",
   "metadata": {},
   "source": [
    "실습)  `다음`에서 `'파이썬'` 검색 --> `'뉴스'` 선택 --> 페이지 변경시 URL 변화 확인해보기\n",
    "\n",
    "https://search.daum.net/search?nil_suggest=btn&w=news&DA=SBC&cluster=y&q=%ED%8C%8C%EC%9D%B4%EC%8D%AC\n",
    "https://search.daum.net/search?nil_suggest=btn&w=news&DA=PGD&cluster=y&q=%ED%8C%8C%EC%9D%B4%EC%8D%AC&p=2\n",
    "https://search.daum.net/search?nil_suggest=btn&w=news&DA=PGD&cluster=y&q=%ED%8C%8C%EC%9D%B4%EC%8D%AC&p=3\n",
    "    "
   ]
  },
  {
   "cell_type": "markdown",
   "metadata": {},
   "source": [
    "### ※ `URL 구조 이해하기`\n",
    "\n",
    "url 구성 : 주소 `?` 파라미터\n",
    "    - 주소 \n",
    "        - 주소ex): https://search.naver.com/search.naver\n",
    "        - 주소ex): http://search.daum.net/search\n",
    "\n",
    "    - 파라미터: 변수명1=변수값1 & 변수명2=변수값2....    \n",
    "        - 주소 뒤에 ?  +   변수명=값  으로 표시. 변수사이에는 & 로 구분\n",
    "     \n",
    "\n",
    "※ url 에서는 한글 사용 x : 한글입력시 --> 자동 전환"
   ]
  },
  {
   "cell_type": "markdown",
   "metadata": {},
   "source": [
    "### 1.4. html 다운 받기"
   ]
  },
  {
   "cell_type": "code",
   "execution_count": null,
   "metadata": {},
   "outputs": [],
   "source": [
    "url = 'https://www.melon.com/chart/index.htm'\n",
    "browser = webdriver.Chrome('./driver/chromedriver')\n",
    "browser.get(url)"
   ]
  },
  {
   "cell_type": "code",
   "execution_count": null,
   "metadata": {
    "scrolled": true
   },
   "outputs": [],
   "source": [
    "html = browser.page_source\n",
    "print(html)"
   ]
  },
  {
   "cell_type": "code",
   "execution_count": null,
   "metadata": {},
   "outputs": [],
   "source": [
    "type(html)"
   ]
  },
  {
   "cell_type": "code",
   "execution_count": null,
   "metadata": {},
   "outputs": [],
   "source": [
    "html[:100]"
   ]
  },
  {
   "cell_type": "code",
   "execution_count": null,
   "metadata": {},
   "outputs": [],
   "source": [
    "browser.close()"
   ]
  }
 ],
 "metadata": {
  "anaconda-cloud": {},
  "kernelspec": {
   "display_name": "Python 3",
   "language": "python",
   "name": "python3"
  },
  "language_info": {
   "codemirror_mode": {
    "name": "ipython",
    "version": 3
   },
   "file_extension": ".py",
   "mimetype": "text/x-python",
   "name": "python",
   "nbconvert_exporter": "python",
   "pygments_lexer": "ipython3",
   "version": "3.7.4"
  }
 },
 "nbformat": 4,
 "nbformat_minor": 1
}
